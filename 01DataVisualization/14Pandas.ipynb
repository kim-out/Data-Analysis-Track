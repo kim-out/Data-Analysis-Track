{
 "cells": [
  {
   "cell_type": "code",
   "execution_count": 1,
   "id": "4b7f7bbb-3c38-4d7c-a5b7-1c21d9f9b685",
   "metadata": {},
   "outputs": [
    {
     "data": {
      "text/plain": [
       "1     하나\n",
       "2      둘\n",
       "3      셋\n",
       "4      넷\n",
       "5     다섯\n",
       "6     여섯\n",
       "7     일곱\n",
       "8     여덟\n",
       "9     아홉\n",
       "10     열\n",
       "dtype: object"
      ]
     },
     "execution_count": 1,
     "metadata": {},
     "output_type": "execute_result"
    }
   ],
   "source": [
    "import pandas as pd\n",
    "# Series 객체 pd.Series(data{iterable,배열, scalar value, dict}, index, dtype) -> numpy의 1차원 배열과 비슷하나 인덱스를 붙여줌\n",
    "# data: iterable,배열, scalar value, dict\n",
    "# index: 반드시 유일할 필요 X hashable해야함(변하지 않음) 설정 안할 경우 rangeindex\n",
    "series = pd.Series([\"하나\", \"둘\", \"셋\", \"넷\", \"다섯\",\"여섯\", \"일곱\", \"여덟\", \"아홉\", \"열\"],\n",
    "                  index = [_ for _ in range(1,11)])\n",
    "series"
   ]
  },
  {
   "cell_type": "code",
   "execution_count": 2,
   "id": "0be4cee1-0c1d-46f9-a9a3-2005c008f7ec",
   "metadata": {},
   "outputs": [
    {
     "data": {
      "text/plain": [
       "0    하나\n",
       "1     둘\n",
       "2     셋\n",
       "dtype: object"
      ]
     },
     "execution_count": 2,
     "metadata": {},
     "output_type": "execute_result"
    }
   ],
   "source": [
    "series = pd.Series(['하나', '둘','셋'],\n",
    "                   index = range(3))\n",
    "series"
   ]
  },
  {
   "cell_type": "code",
   "execution_count": 3,
   "id": "f0ec1a39-0653-47c2-a92e-5f857f048e68",
   "metadata": {},
   "outputs": [
    {
     "data": {
      "text/plain": [
       "서울    9904312\n",
       "부산    3448737\n",
       "인천    2890451\n",
       "대구    2466052\n",
       "dtype: int64"
      ]
     },
     "execution_count": 3,
     "metadata": {},
     "output_type": "execute_result"
    }
   ],
   "source": [
    "s =  pd.Series([9_904_312, 3_448_737, 2_890_451, 2_466_052]\n",
    "               ,index= [\"서울\", \"부산\", \"인천\", \"대구\"])\n",
    "s"
   ]
  },
  {
   "cell_type": "code",
   "execution_count": 4,
   "id": "75a50634-6183-4a28-a1b0-e9f68f434227",
   "metadata": {},
   "outputs": [
    {
     "data": {
      "text/plain": [
       "0    10\n",
       "1    20\n",
       "2    30\n",
       "3    40\n",
       "4    50\n",
       "5    60\n",
       "6    70\n",
       "7    80\n",
       "8    90\n",
       "dtype: int64"
      ]
     },
     "execution_count": 4,
     "metadata": {},
     "output_type": "execute_result"
    }
   ],
   "source": [
    "S = pd.Series(range(10,100,10))\n",
    "S"
   ]
  },
  {
   "cell_type": "code",
   "execution_count": 5,
   "id": "1bac19cf-d3d5-4d33-a102-887ab1b5e0e3",
   "metadata": {},
   "outputs": [
    {
     "data": {
      "text/plain": [
       "Index(['서울', '부산', '인천', '대구'], dtype='object')"
      ]
     },
     "execution_count": 5,
     "metadata": {},
     "output_type": "execute_result"
    }
   ],
   "source": [
    "s.index # 문자의 경우 'object'타입"
   ]
  },
  {
   "cell_type": "code",
   "execution_count": 6,
   "id": "90a59f93-76fd-4a8e-9291-44b9dcc56762",
   "metadata": {},
   "outputs": [
    {
     "data": {
      "text/plain": [
       "array([9904312, 3448737, 2890451, 2466052], dtype=int64)"
      ]
     },
     "execution_count": 6,
     "metadata": {},
     "output_type": "execute_result"
    }
   ],
   "source": [
    "s.values"
   ]
  },
  {
   "cell_type": "code",
   "execution_count": 7,
   "id": "3d3571fb-16eb-42bc-846c-9cc18b0cd59f",
   "metadata": {},
   "outputs": [
    {
     "name": "stderr",
     "output_type": "stream",
     "text": [
      "C:\\Users\\user\\AppData\\Local\\Temp\\ipykernel_7224\\2031691219.py:1: FutureWarning: The default dtype for empty Series will be 'object' instead of 'float64' in a future version. Specify a dtype explicitly to silence this warning.\n",
      "  pd.Series()\n"
     ]
    },
    {
     "data": {
      "text/plain": [
       "Series([], dtype: float64)"
      ]
     },
     "execution_count": 7,
     "metadata": {},
     "output_type": "execute_result"
    }
   ],
   "source": [
    "pd.Series()"
   ]
  },
  {
   "cell_type": "code",
   "execution_count": 8,
   "id": "64902add-9b61-4348-a0c5-e12453c25815",
   "metadata": {},
   "outputs": [
    {
     "data": {
      "text/plain": [
       "4"
      ]
     },
     "execution_count": 8,
     "metadata": {},
     "output_type": "execute_result"
    }
   ],
   "source": [
    "S = pd.Series(range(10, 100, 10))\n",
    "(S.values > 50).sum()"
   ]
  },
  {
   "cell_type": "code",
   "execution_count": 9,
   "id": "28d40ecf-6887-4dc4-9462-e02387f5ba13",
   "metadata": {},
   "outputs": [
    {
     "data": {
      "text/plain": [
       "도시\n",
       "서울    9904312\n",
       "부산    3448737\n",
       "인천    2890451\n",
       "대구    2466052\n",
       "Name: 인구, dtype: int64"
      ]
     },
     "execution_count": 9,
     "metadata": {},
     "output_type": "execute_result"
    }
   ],
   "source": [
    "s.name = \"인구\"\n",
    "s.index.name = \"도시\"\n",
    "s"
   ]
  },
  {
   "cell_type": "code",
   "execution_count": 10,
   "id": "98a77960-7fd1-42a6-8a3b-f6d1c05e58bb",
   "metadata": {},
   "outputs": [
    {
     "data": {
      "text/plain": [
       "c    3\n",
       "a    1\n",
       "b    2\n",
       "dtype: int64"
      ]
     },
     "execution_count": 10,
     "metadata": {},
     "output_type": "execute_result"
    }
   ],
   "source": [
    "d = {'a' : 1, 'b' : 2, 'c' : 3} # 비시퀀스(3.6버전 이후 순서 O)\n",
    "\n",
    "# 데이터에 딕셔너리를 넣으면 key값만 인덱스에 올 수 있음\n",
    "ser = pd.Series(data = d, index = ['c', 'a', 'b']) \n",
    "# 인덱스 순서 조정 시 값도 함께 변동\n",
    "\n",
    "ser"
   ]
  },
  {
   "cell_type": "code",
   "execution_count": 11,
   "id": "6c691a58-b66e-49bd-ae84-4d264818b51b",
   "metadata": {},
   "outputs": [],
   "source": [
    "d = {'a':1, 'd':2, 'c':3}\n",
    "ser = pd.Series(data=d, index=['x', 'y', 'z']) \n",
    "# d에 없는 값을 index에 사용할 경우 nan값을 가짐"
   ]
  },
  {
   "cell_type": "code",
   "execution_count": 12,
   "id": "b05d4ce5-1b99-42c8-8598-8fda9531c078",
   "metadata": {},
   "outputs": [
    {
     "data": {
      "text/plain": [
       "철수     88\n",
       "영희     95\n",
       "길동    100\n",
       "몽룡     67\n",
       "dtype: int64"
      ]
     },
     "execution_count": 12,
     "metadata": {},
     "output_type": "execute_result"
    }
   ],
   "source": [
    "s2 = pd.Series({\"철수\":88, \"영희\":95, \"길동\":100, \"몽룡\":67})\n",
    "s2"
   ]
  },
  {
   "cell_type": "code",
   "execution_count": 13,
   "id": "88484c65-696c-4c12-b363-c6ab880588ee",
   "metadata": {},
   "outputs": [
    {
     "data": {
      "text/plain": [
       "(88, 95, 100, 67)"
      ]
     },
     "execution_count": 13,
     "metadata": {},
     "output_type": "execute_result"
    }
   ],
   "source": [
    "s2.철수, s2.영희, s2.길동, s2.몽룡\n",
    "# index가 공백이 없는 문자열인 경우 위처럼 사용 가능"
   ]
  },
  {
   "cell_type": "code",
   "execution_count": 14,
   "id": "994b8a19-544f-469e-9f1d-c87edfef0604",
   "metadata": {},
   "outputs": [
    {
     "data": {
      "text/plain": [
       "True"
      ]
     },
     "execution_count": 14,
     "metadata": {},
     "output_type": "execute_result"
    }
   ],
   "source": [
    "\"서울\" in s"
   ]
  },
  {
   "cell_type": "code",
   "execution_count": 15,
   "id": "0e9f58b7-9ded-4e52-a7ea-342ae980a0c1",
   "metadata": {},
   "outputs": [
    {
     "data": {
      "text/plain": [
       "False"
      ]
     },
     "execution_count": 15,
     "metadata": {},
     "output_type": "execute_result"
    }
   ],
   "source": [
    "\"대전\" in s"
   ]
  },
  {
   "cell_type": "code",
   "execution_count": 16,
   "id": "b5fe6433-3ac2-4521-9968-808f69f7c8d3",
   "metadata": {},
   "outputs": [
    {
     "name": "stdout",
     "output_type": "stream",
     "text": [
      "서울, 9904312\n",
      "부산, 3448737\n",
      "인천, 2890451\n",
      "대구, 2466052\n"
     ]
    }
   ],
   "source": [
    "for k, v in s.items(): \n",
    "    print(f\"{k}, {v}\")"
   ]
  },
  {
   "cell_type": "code",
   "execution_count": 17,
   "id": "7b280030-f4c4-4736-bc18-3c5f03866098",
   "metadata": {},
   "outputs": [
    {
     "data": {
      "text/plain": [
       "{0: '영',\n",
       " 1: '일',\n",
       " 2: '이',\n",
       " 3: '삼',\n",
       " 4: '사',\n",
       " 5: '오',\n",
       " 6: '육',\n",
       " 7: '칠',\n",
       " 8: '팔',\n",
       " 9: '구'}"
      ]
     },
     "execution_count": 17,
     "metadata": {},
     "output_type": "execute_result"
    }
   ],
   "source": [
    "test = dict(zip(range(10), list(\"영일이삼사오육칠팔구\")))\n",
    "test"
   ]
  },
  {
   "cell_type": "code",
   "execution_count": 18,
   "id": "97167aaf-f9d7-4cb2-b911-4406ed166d04",
   "metadata": {},
   "outputs": [
    {
     "data": {
      "text/plain": [
       "dict_keys([0, 1, 2, 3, 4, 5, 6, 7, 8, 9])"
      ]
     },
     "execution_count": 18,
     "metadata": {},
     "output_type": "execute_result"
    }
   ],
   "source": [
    "test.keys()"
   ]
  },
  {
   "cell_type": "code",
   "execution_count": 19,
   "id": "0bc8a073-065b-4014-9a81-b3caf4244401",
   "metadata": {},
   "outputs": [
    {
     "data": {
      "text/plain": [
       "dict_values(['영', '일', '이', '삼', '사', '오', '육', '칠', '팔', '구'])"
      ]
     },
     "execution_count": 19,
     "metadata": {},
     "output_type": "execute_result"
    }
   ],
   "source": [
    "test.values()"
   ]
  },
  {
   "cell_type": "code",
   "execution_count": 20,
   "id": "d5a6616c-f7dd-45b8-bffa-582274c25603",
   "metadata": {},
   "outputs": [
    {
     "data": {
      "text/plain": [
       "dict_items([(0, '영'), (1, '일'), (2, '이'), (3, '삼'), (4, '사'), (5, '오'), (6, '육'), (7, '칠'), (8, '팔'), (9, '구')])"
      ]
     },
     "execution_count": 20,
     "metadata": {},
     "output_type": "execute_result"
    }
   ],
   "source": [
    "test.items()"
   ]
  },
  {
   "cell_type": "code",
   "execution_count": 21,
   "id": "ffa5786b-ce12-4880-a3b8-238bcec4c57b",
   "metadata": {},
   "outputs": [
    {
     "data": {
      "text/plain": [
       "False"
      ]
     },
     "execution_count": 21,
     "metadata": {},
     "output_type": "execute_result"
    }
   ],
   "source": [
    "\"영\" in test"
   ]
  },
  {
   "cell_type": "code",
   "execution_count": 22,
   "id": "bccd0aa4-3a82-4424-8d83-5d50f79fd651",
   "metadata": {},
   "outputs": [
    {
     "data": {
      "text/plain": [
       "True"
      ]
     },
     "execution_count": 22,
     "metadata": {},
     "output_type": "execute_result"
    }
   ],
   "source": [
    "\"영\" in test.values()"
   ]
  },
  {
   "cell_type": "code",
   "execution_count": 23,
   "id": "7538cfad-5f85-4d88-bf27-e2d1550e3a44",
   "metadata": {},
   "outputs": [
    {
     "data": {
      "text/plain": [
       "True"
      ]
     },
     "execution_count": 23,
     "metadata": {},
     "output_type": "execute_result"
    }
   ],
   "source": [
    "9904312 in s.values"
   ]
  },
  {
   "cell_type": "code",
   "execution_count": 24,
   "id": "7b6b54b7-603b-4fb2-8f4b-b43f7cbeadbd",
   "metadata": {},
   "outputs": [
    {
     "name": "stdout",
     "output_type": "stream",
     "text": [
      "서울의 인구는 300만이 넘습니다.\n",
      "부산의 인구는 300만이 넘습니다.\n"
     ]
    }
   ],
   "source": [
    "for index, value in s.items():\n",
    "    if value > 3000000:\n",
    "        print(f\"{index}의 인구는 300만이 넘습니다.\")"
   ]
  },
  {
   "cell_type": "code",
   "execution_count": 25,
   "id": "2cb2e8e8-5024-4069-98b5-709f2b1bd74f",
   "metadata": {},
   "outputs": [
    {
     "data": {
      "text/plain": [
       "도시\n",
       "서울    9.904312\n",
       "부산    3.448737\n",
       "인천    2.890451\n",
       "대구    2.466052\n",
       "Name: 인구, dtype: float64"
      ]
     },
     "execution_count": 25,
     "metadata": {},
     "output_type": "execute_result"
    }
   ],
   "source": [
    "# Series도 벡터화 연산 가능\n",
    "s / 1000000"
   ]
  },
  {
   "cell_type": "code",
   "execution_count": 26,
   "id": "3001afd3-3234-4f82-a0c4-910bfa177145",
   "metadata": {},
   "outputs": [
    {
     "data": {
      "text/plain": [
       "(3448737, 3448737)"
      ]
     },
     "execution_count": 26,
     "metadata": {},
     "output_type": "execute_result"
    }
   ],
   "source": [
    "s[1], s[\"부산\"] # 값만 가져옴"
   ]
  },
  {
   "cell_type": "code",
   "execution_count": 27,
   "id": "790ca730-2284-48c5-a398-9c70b2059863",
   "metadata": {},
   "outputs": [
    {
     "data": {
      "text/plain": [
       "(2466052, 2466052)"
      ]
     },
     "execution_count": 27,
     "metadata": {},
     "output_type": "execute_result"
    }
   ],
   "source": [
    "s[3], s[\"대구\"]"
   ]
  },
  {
   "cell_type": "code",
   "execution_count": 28,
   "id": "d1bb2b71-43cf-47c8-a330-9836e6f0c6ef",
   "metadata": {},
   "outputs": [
    {
     "data": {
      "text/plain": [
       "도시\n",
       "서울    9904312\n",
       "대구    2466052\n",
       "부산    3448737\n",
       "Name: 인구, dtype: int64"
      ]
     },
     "execution_count": 28,
     "metadata": {},
     "output_type": "execute_result"
    }
   ],
   "source": [
    "s[[0,3,1]] # 인덱싱"
   ]
  },
  {
   "cell_type": "code",
   "execution_count": 29,
   "id": "2307ec2a-ca44-454f-9e5f-5e8c111d21fa",
   "metadata": {},
   "outputs": [
    {
     "data": {
      "text/plain": [
       "도시\n",
       "서울    9904312\n",
       "대구    2466052\n",
       "부산    3448737\n",
       "Name: 인구, dtype: int64"
      ]
     },
     "execution_count": 29,
     "metadata": {},
     "output_type": "execute_result"
    }
   ],
   "source": [
    "s[[\"서울\", \"대구\", \"부산\"]]"
   ]
  },
  {
   "cell_type": "code",
   "execution_count": 30,
   "id": "90eb5b3e-a1f0-46fc-bf32-ddec3c01d256",
   "metadata": {},
   "outputs": [
    {
     "data": {
      "text/plain": [
       "도시\n",
       "서울    9904312\n",
       "Name: 인구, dtype: int64"
      ]
     },
     "execution_count": 30,
     "metadata": {},
     "output_type": "execute_result"
    }
   ],
   "source": [
    "s[[0]] # 하나의 값이라도 시리즈 형태로 가져옴"
   ]
  },
  {
   "cell_type": "code",
   "execution_count": 31,
   "id": "3e5c5b85-60cd-4310-a05c-4c1cceb1c989",
   "metadata": {},
   "outputs": [
    {
     "data": {
      "text/plain": [
       "도시\n",
       "인천    2890451\n",
       "Name: 인구, dtype: int64"
      ]
     },
     "execution_count": 31,
     "metadata": {},
     "output_type": "execute_result"
    }
   ],
   "source": [
    "s[[\"인천\"]]"
   ]
  },
  {
   "cell_type": "code",
   "execution_count": 32,
   "id": "1ef690db-7af2-47f2-b1f0-60a82eac9a4c",
   "metadata": {},
   "outputs": [
    {
     "data": {
      "text/plain": [
       "도시\n",
       "부산    3448737\n",
       "인천    2890451\n",
       "Name: 인구, dtype: int64"
      ]
     },
     "execution_count": 32,
     "metadata": {},
     "output_type": "execute_result"
    }
   ],
   "source": [
    "s[1:3] # 두번째부터 세번째까지"
   ]
  },
  {
   "cell_type": "code",
   "execution_count": 33,
   "id": "22948f9c-dcd6-4958-bf66-4b3122653924",
   "metadata": {},
   "outputs": [
    {
     "data": {
      "text/plain": [
       "도시\n",
       "부산    3448737\n",
       "인천    2890451\n",
       "대구    2466052\n",
       "Name: 인구, dtype: int64"
      ]
     },
     "execution_count": 33,
     "metadata": {},
     "output_type": "execute_result"
    }
   ],
   "source": [
    "s[\"부산\":\"대구\"] # 부산에서 대구까지(대구도 포함)"
   ]
  },
  {
   "cell_type": "code",
   "execution_count": 34,
   "id": "6e013036-b402-49a9-a7f6-1a430ab0dd39",
   "metadata": {},
   "outputs": [
    {
     "data": {
      "text/plain": [
       "(도시\n",
       " 서울    9904312\n",
       " 부산    3448737\n",
       " 인천    2890451\n",
       " 대구    2466052\n",
       " Name: 인구, dtype: int64,\n",
       " 서울    9631482\n",
       " 부산    3393191\n",
       " 인천    2632035\n",
       " 대전    1490158\n",
       " dtype: int64)"
      ]
     },
     "execution_count": 34,
     "metadata": {},
     "output_type": "execute_result"
    }
   ],
   "source": [
    "s2 = pd.Series({\"서울\": 9631482, \"부산\":3393191, \"인천\":2632035, \"대전\":1490158})\n",
    "s,s2 # 대구, 대전"
   ]
  },
  {
   "cell_type": "code",
   "execution_count": 35,
   "id": "121261b6-7b07-43e8-87e1-30987ac63056",
   "metadata": {},
   "outputs": [
    {
     "data": {
      "text/plain": [
       "대구         NaN\n",
       "대전         NaN\n",
       "부산     55546.0\n",
       "서울    272830.0\n",
       "인천    258416.0\n",
       "dtype: float64"
      ]
     },
     "execution_count": 35,
     "metadata": {},
     "output_type": "execute_result"
    }
   ],
   "source": [
    "ds = s - s2\n",
    "ds\n",
    "# nan값과 연산 시 nan값이 나옴\n",
    "# 전체 타입이 float이 됨을 주의"
   ]
  },
  {
   "cell_type": "code",
   "execution_count": 36,
   "id": "fe9eaba1-4a5e-4785-b30b-849a76e0e96c",
   "metadata": {},
   "outputs": [
    {
     "data": {
      "text/plain": [
       "대구     True\n",
       "대전     True\n",
       "부산    False\n",
       "서울    False\n",
       "인천    False\n",
       "dtype: bool"
      ]
     },
     "execution_count": 36,
     "metadata": {},
     "output_type": "execute_result"
    }
   ],
   "source": [
    "ds.isnull() # nan값 확인"
   ]
  },
  {
   "cell_type": "code",
   "execution_count": 37,
   "id": "b5360e65-a542-44c9-b85e-8c942df94da6",
   "metadata": {},
   "outputs": [
    {
     "data": {
      "text/plain": [
       "대구    False\n",
       "대전    False\n",
       "부산     True\n",
       "서울     True\n",
       "인천     True\n",
       "dtype: bool"
      ]
     },
     "execution_count": 37,
     "metadata": {},
     "output_type": "execute_result"
    }
   ],
   "source": [
    "ds.notnull()"
   ]
  },
  {
   "cell_type": "code",
   "execution_count": 38,
   "id": "1688884a-de06-4207-b90c-28e0c013148e",
   "metadata": {},
   "outputs": [
    {
     "data": {
      "text/plain": [
       "부산     55546.0\n",
       "서울    272830.0\n",
       "인천    258416.0\n",
       "dtype: float64"
      ]
     },
     "execution_count": 38,
     "metadata": {},
     "output_type": "execute_result"
    }
   ],
   "source": [
    "ds[ds.notnull()] \n",
    "# bool indexing 필터링 numpy처럼 사용 가능\n",
    "# 결측치 제외"
   ]
  },
  {
   "cell_type": "code",
   "execution_count": 39,
   "id": "0639e705-e27c-402b-8d8e-6924cf17af51",
   "metadata": {},
   "outputs": [
    {
     "data": {
      "text/plain": [
       "도시\n",
       "서울    9904312\n",
       "부산    3448737\n",
       "Name: 인구, dtype: int64"
      ]
     },
     "execution_count": 39,
     "metadata": {},
     "output_type": "execute_result"
    }
   ],
   "source": [
    "s[s > 3000000]"
   ]
  },
  {
   "cell_type": "code",
   "execution_count": 40,
   "id": "5a1e85ec-a8a3-478d-8e85-708fdecc63b0",
   "metadata": {},
   "outputs": [
    {
     "data": {
      "text/plain": [
       "부산    1.636984\n",
       "서울    2.832690\n",
       "인천    9.818107\n",
       "dtype: float64"
      ]
     },
     "execution_count": 40,
     "metadata": {},
     "output_type": "execute_result"
    }
   ],
   "source": [
    "# s -> 2015년 인구\n",
    "# s2 -> 2010년 인구\n",
    "rs = (s - s2) / s2 * 100 # 인구 증가율 \n",
    "rs = rs[rs.notnull()]\n",
    "rs"
   ]
  },
  {
   "cell_type": "raw",
   "id": "f5b2a137-773e-4f96-ab16-b5edf42058d6",
   "metadata": {},
   "source": [
    "r = s - s2\n",
    "r = r[r.notnull()]\n",
    "r[[r.argmax()]]"
   ]
  },
  {
   "cell_type": "code",
   "execution_count": 41,
   "id": "8dd7eb9a-b23b-4638-b3fa-b13dc9e26874",
   "metadata": {},
   "outputs": [],
   "source": [
    "a = dict(zip(range(10),list(\"영일시삼사오육칠팔구\")))"
   ]
  },
  {
   "cell_type": "code",
   "execution_count": 42,
   "id": "f6990874-007f-466b-a5e7-999387fef95d",
   "metadata": {},
   "outputs": [
    {
     "data": {
      "text/plain": [
       "{0: 'zero',\n",
       " 1: '일',\n",
       " 2: '시',\n",
       " 3: '삼',\n",
       " 4: '사',\n",
       " 5: '오',\n",
       " 6: '육',\n",
       " 7: '칠',\n",
       " 8: '팔',\n",
       " 9: '구'}"
      ]
     },
     "execution_count": 42,
     "metadata": {},
     "output_type": "execute_result"
    }
   ],
   "source": [
    "a[0] = 'zero'\n",
    "a"
   ]
  },
  {
   "cell_type": "code",
   "execution_count": 43,
   "id": "ca615f19-2560-4c63-a3c6-f1f6a8505bf5",
   "metadata": {},
   "outputs": [
    {
     "data": {
      "text/plain": [
       "부산    1.630000\n",
       "서울    2.832690\n",
       "인천    9.818107\n",
       "dtype: float64"
      ]
     },
     "execution_count": 43,
     "metadata": {},
     "output_type": "execute_result"
    }
   ],
   "source": [
    "rs[\"부산\"] = 1.63 # 데이터 갱신\n",
    "rs"
   ]
  },
  {
   "cell_type": "code",
   "execution_count": 44,
   "id": "5cc3d10b-3206-4eff-8b1f-7961aaea6049",
   "metadata": {},
   "outputs": [
    {
     "data": {
      "text/plain": [
       "부산    1.63\n",
       "서울    2.89\n",
       "인천    9.82\n",
       "dtype: float64"
      ]
     },
     "execution_count": 44,
     "metadata": {},
     "output_type": "execute_result"
    }
   ],
   "source": [
    "rs[\"서울\":\"인천\"] = 2.89, 9.82\n",
    "rs"
   ]
  },
  {
   "cell_type": "code",
   "execution_count": 45,
   "id": "247961bd-eec8-40b2-86c3-ea81f0578b74",
   "metadata": {},
   "outputs": [
    {
     "data": {
      "text/plain": [
       "부산    1.63\n",
       "서울    2.89\n",
       "인천    9.82\n",
       "dtype: float64"
      ]
     },
     "execution_count": 45,
     "metadata": {},
     "output_type": "execute_result"
    }
   ],
   "source": [
    "rs"
   ]
  },
  {
   "cell_type": "code",
   "execution_count": 46,
   "id": "da32f542-ab56-4c48-bf75-ce69b1d88bdb",
   "metadata": {},
   "outputs": [],
   "source": [
    "rs[\"대구\"] = 1.41 # 데이터 추가"
   ]
  },
  {
   "cell_type": "code",
   "execution_count": 47,
   "id": "3b313f3d-bbae-47f5-94a4-fc031ac9498e",
   "metadata": {},
   "outputs": [],
   "source": [
    "del rs[\"서울\"] # 데이터 삭제"
   ]
  },
  {
   "cell_type": "code",
   "execution_count": 48,
   "id": "9507fb6b-d1de-48ae-bb1c-36df443cb97f",
   "metadata": {},
   "outputs": [
    {
     "data": {
      "text/plain": [
       "부산    1.63\n",
       "인천    9.82\n",
       "대구    1.41\n",
       "dtype: float64"
      ]
     },
     "execution_count": 48,
     "metadata": {},
     "output_type": "execute_result"
    }
   ],
   "source": [
    "rs"
   ]
  },
  {
   "cell_type": "code",
   "execution_count": 49,
   "id": "058493e2-98b9-4b34-a551-c4912496f135",
   "metadata": {},
   "outputs": [],
   "source": [
    "fin1 = {\"카카오\":60010, \"삼성전자\":61000, \"LG전자\":90000}\n",
    "fin2_value = [60200, 61200, 200100]\n",
    "fin2_index = [\"카카오\", \"삼성전자\", \"네이버\"]\n",
    "ser_finance1 = pd.Series(fin1)\n",
    "ser_finance2 = pd.Series(fin2_value, index = fin2_index)"
   ]
  },
  {
   "cell_type": "code",
   "execution_count": 50,
   "id": "8a1e7556-e65b-488e-8ed8-93e33e66dbaa",
   "metadata": {},
   "outputs": [
    {
     "data": {
      "text/plain": [
       "카카오      60200\n",
       "삼성전자     61200\n",
       "네이버     200100\n",
       "dtype: int64"
      ]
     },
     "execution_count": 50,
     "metadata": {},
     "output_type": "execute_result"
    }
   ],
   "source": [
    "ser_finance2"
   ]
  },
  {
   "cell_type": "code",
   "execution_count": 51,
   "id": "33c8fe2f-5137-40a9-b11d-a9e64934ebeb",
   "metadata": {},
   "outputs": [
    {
     "data": {
      "text/plain": [
       "LG전자      NaN\n",
       "네이버       NaN\n",
       "삼성전자   -200.0\n",
       "카카오    -190.0\n",
       "dtype: float64"
      ]
     },
     "execution_count": 51,
     "metadata": {},
     "output_type": "execute_result"
    }
   ],
   "source": [
    "ser_finance1 - ser_finance2"
   ]
  },
  {
   "cell_type": "code",
   "execution_count": 52,
   "id": "899695d1-ac44-42a7-b23c-540bcd94b939",
   "metadata": {},
   "outputs": [
    {
     "data": {
      "text/plain": [
       "LG전자         NaN\n",
       "네이버          NaN\n",
       "삼성전자    122200.0\n",
       "카카오     120210.0\n",
       "dtype: float64"
      ]
     },
     "execution_count": 52,
     "metadata": {},
     "output_type": "execute_result"
    }
   ],
   "source": [
    "ser_finance1 + ser_finance2"
   ]
  },
  {
   "cell_type": "code",
   "execution_count": 53,
   "id": "74c5f46d-736f-4195-a89e-84f77d702c88",
   "metadata": {},
   "outputs": [
    {
     "data": {
      "text/plain": [
       "LG전자             NaN\n",
       "네이버              NaN\n",
       "삼성전자    3.733200e+09\n",
       "카카오     3.612602e+09\n",
       "dtype: float64"
      ]
     },
     "execution_count": 53,
     "metadata": {},
     "output_type": "execute_result"
    }
   ],
   "source": [
    "ser_finance1 * ser_finance2"
   ]
  },
  {
   "cell_type": "code",
   "execution_count": 54,
   "id": "6123ff48-ada9-4151-9e8c-984577eaa14d",
   "metadata": {},
   "outputs": [
    {
     "data": {
      "text/plain": [
       "LG전자         NaN\n",
       "네이버          NaN\n",
       "삼성전자    0.996732\n",
       "카카오     0.996844\n",
       "dtype: float64"
      ]
     },
     "execution_count": 54,
     "metadata": {},
     "output_type": "execute_result"
    }
   ],
   "source": [
    "ser_finance1 / ser_finance2"
   ]
  },
  {
   "cell_type": "code",
   "execution_count": 55,
   "id": "6deb89be-7d98-478a-bdaf-df49a1522820",
   "metadata": {},
   "outputs": [
    {
     "data": {
      "text/plain": [
       "삼성전자   -200.0\n",
       "카카오    -190.0\n",
       "dtype: float64"
      ]
     },
     "execution_count": 55,
     "metadata": {},
     "output_type": "execute_result"
    }
   ],
   "source": [
    "result = ser_finance1 - ser_finance2\n",
    "result[result.notnull()]"
   ]
  },
  {
   "cell_type": "code",
   "execution_count": 56,
   "id": "0ea67a81-0948-4efa-bbf9-c8031a75af14",
   "metadata": {},
   "outputs": [
    {
     "data": {
      "text/plain": [
       "LG전자      NaN\n",
       "네이버       NaN\n",
       "삼성전자   -200.0\n",
       "카카오    -190.0\n",
       "dtype: float64"
      ]
     },
     "execution_count": 56,
     "metadata": {},
     "output_type": "execute_result"
    }
   ],
   "source": [
    "result"
   ]
  },
  {
   "cell_type": "code",
   "execution_count": 57,
   "id": "07cbc04d-1f66-4735-a098-106ff12a7d21",
   "metadata": {},
   "outputs": [],
   "source": [
    "# pandas.DataFrame(data = series, index, columns, dtype, copy)\n",
    "# 각 컬럼마다 자료형이 다를 수 있음"
   ]
  },
  {
   "cell_type": "code",
   "execution_count": 58,
   "id": "99927121-79bb-4754-a218-f38e6edfc04d",
   "metadata": {},
   "outputs": [
    {
     "data": {
      "text/html": [
       "<div>\n",
       "<style scoped>\n",
       "    .dataframe tbody tr th:only-of-type {\n",
       "        vertical-align: middle;\n",
       "    }\n",
       "\n",
       "    .dataframe tbody tr th {\n",
       "        vertical-align: top;\n",
       "    }\n",
       "\n",
       "    .dataframe thead th {\n",
       "        text-align: right;\n",
       "    }\n",
       "</style>\n",
       "<table border=\"1\" class=\"dataframe\">\n",
       "  <thead>\n",
       "    <tr style=\"text-align: right;\">\n",
       "      <th></th>\n",
       "      <th>col1</th>\n",
       "      <th>col2</th>\n",
       "    </tr>\n",
       "  </thead>\n",
       "  <tbody>\n",
       "    <tr>\n",
       "      <th>r1</th>\n",
       "      <td>1</td>\n",
       "      <td>3</td>\n",
       "    </tr>\n",
       "    <tr>\n",
       "      <th>r2</th>\n",
       "      <td>2</td>\n",
       "      <td>4</td>\n",
       "    </tr>\n",
       "  </tbody>\n",
       "</table>\n",
       "</div>"
      ],
      "text/plain": [
       "    col1  col2\n",
       "r1     1     3\n",
       "r2     2     4"
      ]
     },
     "execution_count": 58,
     "metadata": {},
     "output_type": "execute_result"
    }
   ],
   "source": [
    "d = {'col1':[1, 2], 'col2': [3, 4]}\n",
    "df = pd.DataFrame(data = d,index = ['r1', 'r2'])\n",
    "df"
   ]
  },
  {
   "cell_type": "code",
   "execution_count": 59,
   "id": "6f56d416-d8ca-4f67-bb81-0bcc35c24a66",
   "metadata": {},
   "outputs": [
    {
     "data": {
      "text/html": [
       "<div>\n",
       "<style scoped>\n",
       "    .dataframe tbody tr th:only-of-type {\n",
       "        vertical-align: middle;\n",
       "    }\n",
       "\n",
       "    .dataframe tbody tr th {\n",
       "        vertical-align: top;\n",
       "    }\n",
       "\n",
       "    .dataframe thead th {\n",
       "        text-align: right;\n",
       "    }\n",
       "</style>\n",
       "<table border=\"1\" class=\"dataframe\">\n",
       "  <thead>\n",
       "    <tr style=\"text-align: right;\">\n",
       "      <th></th>\n",
       "      <th>지역</th>\n",
       "      <th>2015</th>\n",
       "      <th>2010</th>\n",
       "      <th>2005</th>\n",
       "      <th>2000</th>\n",
       "      <th>2010-2015 증가율</th>\n",
       "    </tr>\n",
       "  </thead>\n",
       "  <tbody>\n",
       "    <tr>\n",
       "      <th>서울</th>\n",
       "      <td>수도권</td>\n",
       "      <td>9904312</td>\n",
       "      <td>9631482</td>\n",
       "      <td>9762546</td>\n",
       "      <td>9853972</td>\n",
       "      <td>0.0283</td>\n",
       "    </tr>\n",
       "    <tr>\n",
       "      <th>부산</th>\n",
       "      <td>경상권</td>\n",
       "      <td>3448737</td>\n",
       "      <td>3393191</td>\n",
       "      <td>3512547</td>\n",
       "      <td>3655437</td>\n",
       "      <td>0.0163</td>\n",
       "    </tr>\n",
       "    <tr>\n",
       "      <th>인천</th>\n",
       "      <td>수도권</td>\n",
       "      <td>2890451</td>\n",
       "      <td>2632035</td>\n",
       "      <td>2517680</td>\n",
       "      <td>2466338</td>\n",
       "      <td>0.0982</td>\n",
       "    </tr>\n",
       "    <tr>\n",
       "      <th>대구</th>\n",
       "      <td>경상권</td>\n",
       "      <td>2466052</td>\n",
       "      <td>2431774</td>\n",
       "      <td>2456016</td>\n",
       "      <td>2473990</td>\n",
       "      <td>0.0141</td>\n",
       "    </tr>\n",
       "  </tbody>\n",
       "</table>\n",
       "</div>"
      ],
      "text/plain": [
       "     지역     2015     2010     2005     2000  2010-2015 증가율\n",
       "서울  수도권  9904312  9631482  9762546  9853972         0.0283\n",
       "부산  경상권  3448737  3393191  3512547  3655437         0.0163\n",
       "인천  수도권  2890451  2632035  2517680  2466338         0.0982\n",
       "대구  경상권  2466052  2431774  2456016  2473990         0.0141"
      ]
     },
     "execution_count": 59,
     "metadata": {},
     "output_type": "execute_result"
    }
   ],
   "source": [
    "data = {\n",
    "    \"2015\" : [9904312, 3448737, 2890451, 2466052],\n",
    "    \"2010\" : [9631482, 3393191, 2632035, 2431774],\n",
    "    \"2005\" : [9762546, 3512547, 2517680, 2456016],\n",
    "    \"2000\" : [9853972, 3655437, 2466338, 2473990],\n",
    "    \"지역\" : [\"수도권\", \"경상권\", \"수도권\", \"경상권\"],\n",
    "    \"2010-2015 증가율\" :[0.0283, 0.0163, 0.0982, 0.0141]\n",
    "}\n",
    "columns = [\"지역\", \"2015\", \"2010\", \"2005\", \"2000\", \"2010-2015 증가율\"] # 순서 지정\n",
    "index = [\"서울\", \"부산\", \"인천\", \"대구\"] # 행 인덱스\n",
    "df = pd.DataFrame(data, index = index, columns = columns)\n",
    "df"
   ]
  },
  {
   "cell_type": "code",
   "execution_count": 60,
   "id": "cc3b1c0e-2a58-46bb-97a2-493130dc84a0",
   "metadata": {},
   "outputs": [
    {
     "data": {
      "text/plain": [
       "지역                object\n",
       "2015               int64\n",
       "2010               int64\n",
       "2005               int64\n",
       "2000               int64\n",
       "2010-2015 증가율    float64\n",
       "dtype: object"
      ]
     },
     "execution_count": 60,
     "metadata": {},
     "output_type": "execute_result"
    }
   ],
   "source": [
    "df.dtypes"
   ]
  },
  {
   "cell_type": "code",
   "execution_count": 61,
   "id": "fffbf950-3b9b-4cfc-8c71-e9774d1c6eb2",
   "metadata": {},
   "outputs": [
    {
     "data": {
      "text/plain": [
       "array([['수도권', 9904312, 9631482, 9762546, 9853972, 0.0283],\n",
       "       ['경상권', 3448737, 3393191, 3512547, 3655437, 0.0163],\n",
       "       ['수도권', 2890451, 2632035, 2517680, 2466338, 0.0982],\n",
       "       ['경상권', 2466052, 2431774, 2456016, 2473990, 0.0141]], dtype=object)"
      ]
     },
     "execution_count": 61,
     "metadata": {},
     "output_type": "execute_result"
    }
   ],
   "source": [
    "df.values"
   ]
  },
  {
   "cell_type": "code",
   "execution_count": 62,
   "id": "4b88198e-c595-47ed-b5eb-53766161fe99",
   "metadata": {},
   "outputs": [
    {
     "data": {
      "text/plain": [
       "Index(['지역', '2015', '2010', '2005', '2000', '2010-2015 증가율'], dtype='object')"
      ]
     },
     "execution_count": 62,
     "metadata": {},
     "output_type": "execute_result"
    }
   ],
   "source": [
    "df.columns"
   ]
  },
  {
   "cell_type": "code",
   "execution_count": 63,
   "id": "e66e5d7d-a4e1-4204-86fe-bbf51b97fc0b",
   "metadata": {},
   "outputs": [
    {
     "data": {
      "text/plain": [
       "Index(['서울', '부산', '인천', '대구'], dtype='object')"
      ]
     },
     "execution_count": 63,
     "metadata": {},
     "output_type": "execute_result"
    }
   ],
   "source": [
    "df.index"
   ]
  },
  {
   "cell_type": "code",
   "execution_count": 64,
   "id": "afb88d86-09a4-4fb4-8d40-8b4bc8cfe4c2",
   "metadata": {},
   "outputs": [],
   "source": [
    "df.index.name = \"도시\""
   ]
  },
  {
   "cell_type": "code",
   "execution_count": 65,
   "id": "c0913739-1f7a-4fa9-8ed6-9880e9410594",
   "metadata": {},
   "outputs": [],
   "source": [
    "df.columns.name = \"특성\""
   ]
  },
  {
   "cell_type": "code",
   "execution_count": 66,
   "id": "6f85099a-758c-409c-8265-78d64babd2b6",
   "metadata": {},
   "outputs": [
    {
     "data": {
      "text/html": [
       "<div>\n",
       "<style scoped>\n",
       "    .dataframe tbody tr th:only-of-type {\n",
       "        vertical-align: middle;\n",
       "    }\n",
       "\n",
       "    .dataframe tbody tr th {\n",
       "        vertical-align: top;\n",
       "    }\n",
       "\n",
       "    .dataframe thead th {\n",
       "        text-align: right;\n",
       "    }\n",
       "</style>\n",
       "<table border=\"1\" class=\"dataframe\">\n",
       "  <thead>\n",
       "    <tr style=\"text-align: right;\">\n",
       "      <th>특성</th>\n",
       "      <th>지역</th>\n",
       "      <th>2015</th>\n",
       "      <th>2010</th>\n",
       "      <th>2005</th>\n",
       "      <th>2000</th>\n",
       "      <th>2010-2015 증가율</th>\n",
       "    </tr>\n",
       "    <tr>\n",
       "      <th>도시</th>\n",
       "      <th></th>\n",
       "      <th></th>\n",
       "      <th></th>\n",
       "      <th></th>\n",
       "      <th></th>\n",
       "      <th></th>\n",
       "    </tr>\n",
       "  </thead>\n",
       "  <tbody>\n",
       "    <tr>\n",
       "      <th>서울</th>\n",
       "      <td>수도권</td>\n",
       "      <td>9904312</td>\n",
       "      <td>9631482</td>\n",
       "      <td>9762546</td>\n",
       "      <td>9853972</td>\n",
       "      <td>0.0283</td>\n",
       "    </tr>\n",
       "    <tr>\n",
       "      <th>부산</th>\n",
       "      <td>경상권</td>\n",
       "      <td>3448737</td>\n",
       "      <td>3393191</td>\n",
       "      <td>3512547</td>\n",
       "      <td>3655437</td>\n",
       "      <td>0.0163</td>\n",
       "    </tr>\n",
       "    <tr>\n",
       "      <th>인천</th>\n",
       "      <td>수도권</td>\n",
       "      <td>2890451</td>\n",
       "      <td>2632035</td>\n",
       "      <td>2517680</td>\n",
       "      <td>2466338</td>\n",
       "      <td>0.0982</td>\n",
       "    </tr>\n",
       "    <tr>\n",
       "      <th>대구</th>\n",
       "      <td>경상권</td>\n",
       "      <td>2466052</td>\n",
       "      <td>2431774</td>\n",
       "      <td>2456016</td>\n",
       "      <td>2473990</td>\n",
       "      <td>0.0141</td>\n",
       "    </tr>\n",
       "  </tbody>\n",
       "</table>\n",
       "</div>"
      ],
      "text/plain": [
       "특성   지역     2015     2010     2005     2000  2010-2015 증가율\n",
       "도시                                                        \n",
       "서울  수도권  9904312  9631482  9762546  9853972         0.0283\n",
       "부산  경상권  3448737  3393191  3512547  3655437         0.0163\n",
       "인천  수도권  2890451  2632035  2517680  2466338         0.0982\n",
       "대구  경상권  2466052  2431774  2456016  2473990         0.0141"
      ]
     },
     "execution_count": 66,
     "metadata": {},
     "output_type": "execute_result"
    }
   ],
   "source": [
    "df"
   ]
  },
  {
   "cell_type": "code",
   "execution_count": 67,
   "id": "c72a7543-0d72-4275-83d5-e7f1f41004af",
   "metadata": {},
   "outputs": [
    {
     "data": {
      "text/html": [
       "<div>\n",
       "<style scoped>\n",
       "    .dataframe tbody tr th:only-of-type {\n",
       "        vertical-align: middle;\n",
       "    }\n",
       "\n",
       "    .dataframe tbody tr th {\n",
       "        vertical-align: top;\n",
       "    }\n",
       "\n",
       "    .dataframe thead th {\n",
       "        text-align: right;\n",
       "    }\n",
       "</style>\n",
       "<table border=\"1\" class=\"dataframe\">\n",
       "  <thead>\n",
       "    <tr style=\"text-align: right;\">\n",
       "      <th>도시</th>\n",
       "      <th>서울</th>\n",
       "      <th>부산</th>\n",
       "      <th>인천</th>\n",
       "      <th>대구</th>\n",
       "    </tr>\n",
       "    <tr>\n",
       "      <th>특성</th>\n",
       "      <th></th>\n",
       "      <th></th>\n",
       "      <th></th>\n",
       "      <th></th>\n",
       "    </tr>\n",
       "  </thead>\n",
       "  <tbody>\n",
       "    <tr>\n",
       "      <th>지역</th>\n",
       "      <td>수도권</td>\n",
       "      <td>경상권</td>\n",
       "      <td>수도권</td>\n",
       "      <td>경상권</td>\n",
       "    </tr>\n",
       "    <tr>\n",
       "      <th>2015</th>\n",
       "      <td>9904312</td>\n",
       "      <td>3448737</td>\n",
       "      <td>2890451</td>\n",
       "      <td>2466052</td>\n",
       "    </tr>\n",
       "    <tr>\n",
       "      <th>2010</th>\n",
       "      <td>9631482</td>\n",
       "      <td>3393191</td>\n",
       "      <td>2632035</td>\n",
       "      <td>2431774</td>\n",
       "    </tr>\n",
       "    <tr>\n",
       "      <th>2005</th>\n",
       "      <td>9762546</td>\n",
       "      <td>3512547</td>\n",
       "      <td>2517680</td>\n",
       "      <td>2456016</td>\n",
       "    </tr>\n",
       "    <tr>\n",
       "      <th>2000</th>\n",
       "      <td>9853972</td>\n",
       "      <td>3655437</td>\n",
       "      <td>2466338</td>\n",
       "      <td>2473990</td>\n",
       "    </tr>\n",
       "    <tr>\n",
       "      <th>2010-2015 증가율</th>\n",
       "      <td>0.0283</td>\n",
       "      <td>0.0163</td>\n",
       "      <td>0.0982</td>\n",
       "      <td>0.0141</td>\n",
       "    </tr>\n",
       "  </tbody>\n",
       "</table>\n",
       "</div>"
      ],
      "text/plain": [
       "도시                  서울       부산       인천       대구\n",
       "특성                                               \n",
       "지역                 수도권      경상권      수도권      경상권\n",
       "2015           9904312  3448737  2890451  2466052\n",
       "2010           9631482  3393191  2632035  2431774\n",
       "2005           9762546  3512547  2517680  2456016\n",
       "2000           9853972  3655437  2466338  2473990\n",
       "2010-2015 증가율   0.0283   0.0163   0.0982   0.0141"
      ]
     },
     "execution_count": 67,
     "metadata": {},
     "output_type": "execute_result"
    }
   ],
   "source": [
    "df.T"
   ]
  },
  {
   "cell_type": "code",
   "execution_count": 68,
   "id": "cae4fc11-3a61-4b02-b077-72c92a4aa9df",
   "metadata": {},
   "outputs": [
    {
     "data": {
      "text/html": [
       "<div>\n",
       "<style scoped>\n",
       "    .dataframe tbody tr th:only-of-type {\n",
       "        vertical-align: middle;\n",
       "    }\n",
       "\n",
       "    .dataframe tbody tr th {\n",
       "        vertical-align: top;\n",
       "    }\n",
       "\n",
       "    .dataframe thead th {\n",
       "        text-align: right;\n",
       "    }\n",
       "</style>\n",
       "<table border=\"1\" class=\"dataframe\">\n",
       "  <thead>\n",
       "    <tr style=\"text-align: right;\">\n",
       "      <th>특성</th>\n",
       "      <th>지역</th>\n",
       "      <th>2015</th>\n",
       "      <th>2010</th>\n",
       "      <th>2005</th>\n",
       "      <th>2000</th>\n",
       "      <th>2010-2015 증가율</th>\n",
       "    </tr>\n",
       "    <tr>\n",
       "      <th>도시</th>\n",
       "      <th></th>\n",
       "      <th></th>\n",
       "      <th></th>\n",
       "      <th></th>\n",
       "      <th></th>\n",
       "      <th></th>\n",
       "    </tr>\n",
       "  </thead>\n",
       "  <tbody>\n",
       "    <tr>\n",
       "      <th>서울</th>\n",
       "      <td>수도권</td>\n",
       "      <td>9904312</td>\n",
       "      <td>9631482</td>\n",
       "      <td>9762546</td>\n",
       "      <td>9853972</td>\n",
       "      <td>2.83</td>\n",
       "    </tr>\n",
       "    <tr>\n",
       "      <th>부산</th>\n",
       "      <td>경상권</td>\n",
       "      <td>3448737</td>\n",
       "      <td>3393191</td>\n",
       "      <td>3512547</td>\n",
       "      <td>3655437</td>\n",
       "      <td>1.63</td>\n",
       "    </tr>\n",
       "    <tr>\n",
       "      <th>인천</th>\n",
       "      <td>수도권</td>\n",
       "      <td>2890451</td>\n",
       "      <td>2632035</td>\n",
       "      <td>2517680</td>\n",
       "      <td>2466338</td>\n",
       "      <td>9.82</td>\n",
       "    </tr>\n",
       "    <tr>\n",
       "      <th>대구</th>\n",
       "      <td>경상권</td>\n",
       "      <td>2466052</td>\n",
       "      <td>2431774</td>\n",
       "      <td>2456016</td>\n",
       "      <td>2473990</td>\n",
       "      <td>1.41</td>\n",
       "    </tr>\n",
       "  </tbody>\n",
       "</table>\n",
       "</div>"
      ],
      "text/plain": [
       "특성   지역     2015     2010     2005     2000  2010-2015 증가율\n",
       "도시                                                        \n",
       "서울  수도권  9904312  9631482  9762546  9853972           2.83\n",
       "부산  경상권  3448737  3393191  3512547  3655437           1.63\n",
       "인천  수도권  2890451  2632035  2517680  2466338           9.82\n",
       "대구  경상권  2466052  2431774  2456016  2473990           1.41"
      ]
     },
     "execution_count": 68,
     "metadata": {},
     "output_type": "execute_result"
    }
   ],
   "source": [
    "df[\"2010-2015 증가율\"] = df[\"2010-2015 증가율\"] * 100\n",
    "df"
   ]
  },
  {
   "cell_type": "code",
   "execution_count": 69,
   "id": "8d83e4e7-8f39-4fb7-94cd-58a1c0937688",
   "metadata": {},
   "outputs": [
    {
     "data": {
      "text/plain": [
       "pandas.core.series.Series"
      ]
     },
     "execution_count": 69,
     "metadata": {},
     "output_type": "execute_result"
    }
   ],
   "source": [
    "type(df[\"2010-2015 증가율\"])"
   ]
  },
  {
   "cell_type": "code",
   "execution_count": 70,
   "id": "3265608f-8cd6-4ffc-a058-2babcdfba780",
   "metadata": {},
   "outputs": [
    {
     "data": {
      "text/html": [
       "<div>\n",
       "<style scoped>\n",
       "    .dataframe tbody tr th:only-of-type {\n",
       "        vertical-align: middle;\n",
       "    }\n",
       "\n",
       "    .dataframe tbody tr th {\n",
       "        vertical-align: top;\n",
       "    }\n",
       "\n",
       "    .dataframe thead th {\n",
       "        text-align: right;\n",
       "    }\n",
       "</style>\n",
       "<table border=\"1\" class=\"dataframe\">\n",
       "  <thead>\n",
       "    <tr style=\"text-align: right;\">\n",
       "      <th>특성</th>\n",
       "      <th>지역</th>\n",
       "      <th>2015</th>\n",
       "      <th>2010</th>\n",
       "      <th>2005</th>\n",
       "      <th>2000</th>\n",
       "      <th>2010-2015 증가율</th>\n",
       "      <th>2005-2010 증가율</th>\n",
       "    </tr>\n",
       "    <tr>\n",
       "      <th>도시</th>\n",
       "      <th></th>\n",
       "      <th></th>\n",
       "      <th></th>\n",
       "      <th></th>\n",
       "      <th></th>\n",
       "      <th></th>\n",
       "      <th></th>\n",
       "    </tr>\n",
       "  </thead>\n",
       "  <tbody>\n",
       "    <tr>\n",
       "      <th>서울</th>\n",
       "      <td>수도권</td>\n",
       "      <td>9904312</td>\n",
       "      <td>9631482</td>\n",
       "      <td>9762546</td>\n",
       "      <td>9853972</td>\n",
       "      <td>2.83</td>\n",
       "      <td>-1.34</td>\n",
       "    </tr>\n",
       "    <tr>\n",
       "      <th>부산</th>\n",
       "      <td>경상권</td>\n",
       "      <td>3448737</td>\n",
       "      <td>3393191</td>\n",
       "      <td>3512547</td>\n",
       "      <td>3655437</td>\n",
       "      <td>1.63</td>\n",
       "      <td>-3.40</td>\n",
       "    </tr>\n",
       "    <tr>\n",
       "      <th>인천</th>\n",
       "      <td>수도권</td>\n",
       "      <td>2890451</td>\n",
       "      <td>2632035</td>\n",
       "      <td>2517680</td>\n",
       "      <td>2466338</td>\n",
       "      <td>9.82</td>\n",
       "      <td>4.54</td>\n",
       "    </tr>\n",
       "    <tr>\n",
       "      <th>대구</th>\n",
       "      <td>경상권</td>\n",
       "      <td>2466052</td>\n",
       "      <td>2431774</td>\n",
       "      <td>2456016</td>\n",
       "      <td>2473990</td>\n",
       "      <td>1.41</td>\n",
       "      <td>-0.99</td>\n",
       "    </tr>\n",
       "  </tbody>\n",
       "</table>\n",
       "</div>"
      ],
      "text/plain": [
       "특성   지역     2015     2010     2005     2000  2010-2015 증가율  2005-2010 증가율\n",
       "도시                                                                       \n",
       "서울  수도권  9904312  9631482  9762546  9853972           2.83          -1.34\n",
       "부산  경상권  3448737  3393191  3512547  3655437           1.63          -3.40\n",
       "인천  수도권  2890451  2632035  2517680  2466338           9.82           4.54\n",
       "대구  경상권  2466052  2431774  2456016  2473990           1.41          -0.99"
      ]
     },
     "execution_count": 70,
     "metadata": {},
     "output_type": "execute_result"
    }
   ],
   "source": [
    "df[\"2005-2010 증가율\"] = ((df[\"2010\"] - df[\"2005\"]) / df[\"2005\"] * 100).round(2)\n",
    "df"
   ]
  },
  {
   "cell_type": "code",
   "execution_count": 71,
   "id": "43aaf48d-1c80-4576-b60a-a63959111264",
   "metadata": {},
   "outputs": [
    {
     "data": {
      "text/html": [
       "<div>\n",
       "<style scoped>\n",
       "    .dataframe tbody tr th:only-of-type {\n",
       "        vertical-align: middle;\n",
       "    }\n",
       "\n",
       "    .dataframe tbody tr th {\n",
       "        vertical-align: top;\n",
       "    }\n",
       "\n",
       "    .dataframe thead th {\n",
       "        text-align: right;\n",
       "    }\n",
       "</style>\n",
       "<table border=\"1\" class=\"dataframe\">\n",
       "  <thead>\n",
       "    <tr style=\"text-align: right;\">\n",
       "      <th>특성</th>\n",
       "      <th>지역</th>\n",
       "      <th>2015</th>\n",
       "      <th>2010</th>\n",
       "      <th>2005</th>\n",
       "      <th>2000</th>\n",
       "      <th>2005-2010 증가율</th>\n",
       "    </tr>\n",
       "    <tr>\n",
       "      <th>도시</th>\n",
       "      <th></th>\n",
       "      <th></th>\n",
       "      <th></th>\n",
       "      <th></th>\n",
       "      <th></th>\n",
       "      <th></th>\n",
       "    </tr>\n",
       "  </thead>\n",
       "  <tbody>\n",
       "    <tr>\n",
       "      <th>서울</th>\n",
       "      <td>수도권</td>\n",
       "      <td>9904312</td>\n",
       "      <td>9631482</td>\n",
       "      <td>9762546</td>\n",
       "      <td>9853972</td>\n",
       "      <td>-1.34</td>\n",
       "    </tr>\n",
       "    <tr>\n",
       "      <th>부산</th>\n",
       "      <td>경상권</td>\n",
       "      <td>3448737</td>\n",
       "      <td>3393191</td>\n",
       "      <td>3512547</td>\n",
       "      <td>3655437</td>\n",
       "      <td>-3.40</td>\n",
       "    </tr>\n",
       "    <tr>\n",
       "      <th>인천</th>\n",
       "      <td>수도권</td>\n",
       "      <td>2890451</td>\n",
       "      <td>2632035</td>\n",
       "      <td>2517680</td>\n",
       "      <td>2466338</td>\n",
       "      <td>4.54</td>\n",
       "    </tr>\n",
       "    <tr>\n",
       "      <th>대구</th>\n",
       "      <td>경상권</td>\n",
       "      <td>2466052</td>\n",
       "      <td>2431774</td>\n",
       "      <td>2456016</td>\n",
       "      <td>2473990</td>\n",
       "      <td>-0.99</td>\n",
       "    </tr>\n",
       "  </tbody>\n",
       "</table>\n",
       "</div>"
      ],
      "text/plain": [
       "특성   지역     2015     2010     2005     2000  2005-2010 증가율\n",
       "도시                                                        \n",
       "서울  수도권  9904312  9631482  9762546  9853972          -1.34\n",
       "부산  경상권  3448737  3393191  3512547  3655437          -3.40\n",
       "인천  수도권  2890451  2632035  2517680  2466338           4.54\n",
       "대구  경상권  2466052  2431774  2456016  2473990          -0.99"
      ]
     },
     "execution_count": 71,
     "metadata": {},
     "output_type": "execute_result"
    }
   ],
   "source": [
    "del df[\"2010-2015 증가율\"]\n",
    "df"
   ]
  },
  {
   "cell_type": "code",
   "execution_count": 73,
   "id": "e299e179-a89a-4ab7-a316-eef21b94b78b",
   "metadata": {},
   "outputs": [
    {
     "data": {
      "text/plain": [
       "도시\n",
       "서울    수도권\n",
       "부산    경상권\n",
       "인천    수도권\n",
       "대구    경상권\n",
       "Name: 지역, dtype: object"
      ]
     },
     "execution_count": 73,
     "metadata": {},
     "output_type": "execute_result"
    }
   ],
   "source": [
    "df[\"지역\"] # 하나의 컬럼만 인덱싱하면 시리즈 반환"
   ]
  },
  {
   "cell_type": "code",
   "execution_count": 74,
   "id": "8c1da5b5-27d9-4e49-a451-767115b4216c",
   "metadata": {},
   "outputs": [
    {
     "data": {
      "text/html": [
       "<div>\n",
       "<style scoped>\n",
       "    .dataframe tbody tr th:only-of-type {\n",
       "        vertical-align: middle;\n",
       "    }\n",
       "\n",
       "    .dataframe tbody tr th {\n",
       "        vertical-align: top;\n",
       "    }\n",
       "\n",
       "    .dataframe thead th {\n",
       "        text-align: right;\n",
       "    }\n",
       "</style>\n",
       "<table border=\"1\" class=\"dataframe\">\n",
       "  <thead>\n",
       "    <tr style=\"text-align: right;\">\n",
       "      <th>특성</th>\n",
       "      <th>2010</th>\n",
       "      <th>2015</th>\n",
       "    </tr>\n",
       "    <tr>\n",
       "      <th>도시</th>\n",
       "      <th></th>\n",
       "      <th></th>\n",
       "    </tr>\n",
       "  </thead>\n",
       "  <tbody>\n",
       "    <tr>\n",
       "      <th>서울</th>\n",
       "      <td>9631482</td>\n",
       "      <td>9904312</td>\n",
       "    </tr>\n",
       "    <tr>\n",
       "      <th>부산</th>\n",
       "      <td>3393191</td>\n",
       "      <td>3448737</td>\n",
       "    </tr>\n",
       "    <tr>\n",
       "      <th>인천</th>\n",
       "      <td>2632035</td>\n",
       "      <td>2890451</td>\n",
       "    </tr>\n",
       "    <tr>\n",
       "      <th>대구</th>\n",
       "      <td>2431774</td>\n",
       "      <td>2466052</td>\n",
       "    </tr>\n",
       "  </tbody>\n",
       "</table>\n",
       "</div>"
      ],
      "text/plain": [
       "특성     2010     2015\n",
       "도시                  \n",
       "서울  9631482  9904312\n",
       "부산  3393191  3448737\n",
       "인천  2632035  2890451\n",
       "대구  2431774  2466052"
      ]
     },
     "execution_count": 74,
     "metadata": {},
     "output_type": "execute_result"
    }
   ],
   "source": [
    "df[[\"2010\", \"2015\"]] # 여려 개의 컬럼 인덱싱 시 부분 dataframe 반환"
   ]
  },
  {
   "cell_type": "code",
   "execution_count": 82,
   "id": "5492f8eb-eb34-4fa9-9d2b-89bd71a7e7f5",
   "metadata": {},
   "outputs": [
    {
     "data": {
      "text/html": [
       "<div>\n",
       "<style scoped>\n",
       "    .dataframe tbody tr th:only-of-type {\n",
       "        vertical-align: middle;\n",
       "    }\n",
       "\n",
       "    .dataframe tbody tr th {\n",
       "        vertical-align: top;\n",
       "    }\n",
       "\n",
       "    .dataframe thead th {\n",
       "        text-align: right;\n",
       "    }\n",
       "</style>\n",
       "<table border=\"1\" class=\"dataframe\">\n",
       "  <thead>\n",
       "    <tr style=\"text-align: right;\">\n",
       "      <th>특성</th>\n",
       "      <th>2010</th>\n",
       "    </tr>\n",
       "    <tr>\n",
       "      <th>도시</th>\n",
       "      <th></th>\n",
       "    </tr>\n",
       "  </thead>\n",
       "  <tbody>\n",
       "    <tr>\n",
       "      <th>서울</th>\n",
       "      <td>9631482</td>\n",
       "    </tr>\n",
       "    <tr>\n",
       "      <th>부산</th>\n",
       "      <td>3393191</td>\n",
       "    </tr>\n",
       "    <tr>\n",
       "      <th>인천</th>\n",
       "      <td>2632035</td>\n",
       "    </tr>\n",
       "    <tr>\n",
       "      <th>대구</th>\n",
       "      <td>2431774</td>\n",
       "    </tr>\n",
       "  </tbody>\n",
       "</table>\n",
       "</div>"
      ],
      "text/plain": [
       "특성     2010\n",
       "도시         \n",
       "서울  9631482\n",
       "부산  3393191\n",
       "인천  2632035\n",
       "대구  2431774"
      ]
     },
     "execution_count": 82,
     "metadata": {},
     "output_type": "execute_result"
    }
   ],
   "source": [
    "df[[\"2010\"]] # 컬럼 인덱스가 문자열일 때 정수 인덱스 사용 시 KeyError 발생"
   ]
  },
  {
   "cell_type": "code",
   "execution_count": 80,
   "id": "e534841a-1b09-478d-9670-5df93f0cab9b",
   "metadata": {},
   "outputs": [
    {
     "data": {
      "text/html": [
       "<div>\n",
       "<style scoped>\n",
       "    .dataframe tbody tr th:only-of-type {\n",
       "        vertical-align: middle;\n",
       "    }\n",
       "\n",
       "    .dataframe tbody tr th {\n",
       "        vertical-align: top;\n",
       "    }\n",
       "\n",
       "    .dataframe thead th {\n",
       "        text-align: right;\n",
       "    }\n",
       "</style>\n",
       "<table border=\"1\" class=\"dataframe\">\n",
       "  <thead>\n",
       "    <tr style=\"text-align: right;\">\n",
       "      <th>특성</th>\n",
       "      <th>지역</th>\n",
       "      <th>2015</th>\n",
       "      <th>2010</th>\n",
       "      <th>2005</th>\n",
       "      <th>2000</th>\n",
       "      <th>2005-2010 증가율</th>\n",
       "    </tr>\n",
       "    <tr>\n",
       "      <th>도시</th>\n",
       "      <th></th>\n",
       "      <th></th>\n",
       "      <th></th>\n",
       "      <th></th>\n",
       "      <th></th>\n",
       "      <th></th>\n",
       "    </tr>\n",
       "  </thead>\n",
       "  <tbody>\n",
       "    <tr>\n",
       "      <th>서울</th>\n",
       "      <td>수도권</td>\n",
       "      <td>9904312</td>\n",
       "      <td>9631482</td>\n",
       "      <td>9762546</td>\n",
       "      <td>9853972</td>\n",
       "      <td>-1.34</td>\n",
       "    </tr>\n",
       "    <tr>\n",
       "      <th>부산</th>\n",
       "      <td>경상권</td>\n",
       "      <td>3448737</td>\n",
       "      <td>3393191</td>\n",
       "      <td>3512547</td>\n",
       "      <td>3655437</td>\n",
       "      <td>-3.40</td>\n",
       "    </tr>\n",
       "    <tr>\n",
       "      <th>인천</th>\n",
       "      <td>수도권</td>\n",
       "      <td>2890451</td>\n",
       "      <td>2632035</td>\n",
       "      <td>2517680</td>\n",
       "      <td>2466338</td>\n",
       "      <td>4.54</td>\n",
       "    </tr>\n",
       "  </tbody>\n",
       "</table>\n",
       "</div>"
      ],
      "text/plain": [
       "특성   지역     2015     2010     2005     2000  2005-2010 증가율\n",
       "도시                                                        \n",
       "서울  수도권  9904312  9631482  9762546  9853972          -1.34\n",
       "부산  경상권  3448737  3393191  3512547  3655437          -3.40\n",
       "인천  수도권  2890451  2632035  2517680  2466338           4.54"
      ]
     },
     "execution_count": 80,
     "metadata": {},
     "output_type": "execute_result"
    }
   ],
   "source": [
    "df[:1] # row단위 인덱싱은 슬라이싱만 가능, index가 문자일 경우 label 슬라이싱도 가능\n",
    "df[\"서울\":\"인천\"]"
   ]
  },
  {
   "cell_type": "code",
   "execution_count": 86,
   "id": "2ef1b013-c1f2-43f8-8462-ccab15e9bed0",
   "metadata": {},
   "outputs": [
    {
     "data": {
      "text/plain": [
       "도시\n",
       "서울    9904312\n",
       "Name: 2015, dtype: int64"
      ]
     },
     "execution_count": 86,
     "metadata": {},
     "output_type": "execute_result"
    }
   ],
   "source": [
    "df[\"2015\"][\"서울\"] #df[colummn][row]"
   ]
  },
  {
   "cell_type": "code",
   "execution_count": 84,
   "id": "8b976ba7-5ee9-4da1-8038-f0cefa4ecaa5",
   "metadata": {},
   "outputs": [
    {
     "data": {
      "text/plain": [
       "numpy.int64"
      ]
     },
     "execution_count": 84,
     "metadata": {},
     "output_type": "execute_result"
    }
   ],
   "source": [
    "type(df[\"2015\"][\"서울\"])"
   ]
  },
  {
   "cell_type": "code",
   "execution_count": 144,
   "id": "e1689066-7ed2-405c-8a41-025e9612fd95",
   "metadata": {},
   "outputs": [
    {
     "data": {
      "text/plain": [
       "국어    70.0\n",
       "영어    60.0\n",
       "수학    80.0\n",
       "평균    70.0\n",
       "Name: 향단, dtype: float64"
      ]
     },
     "execution_count": 144,
     "metadata": {},
     "output_type": "execute_result"
    }
   ],
   "source": [
    "data = {\n",
    "    \"국어\":[80, 90, 70, 30],\n",
    "    \"영어\":[90,70,60,40],\n",
    "    \"수학\":[90, 60, 80,70]\n",
    "}\n",
    "columns = [\"국어\",\"영어\",\"수학\"]\n",
    "index = [\"춘향\",\"몽룡\",\"향단\",\"방자\"]\n",
    "df = pd.DataFrame(data, index=index, columns=columns)\n",
    "df[\"수학\"]\n",
    "df[[\"국어\",\"영어\"]]\n",
    "df[\"평균\"]=round(df.mean(axis=1),2)\n",
    "df[:1]\n",
    "df.T[\"향단\"]"
   ]
  },
  {
   "cell_type": "code",
   "execution_count": 142,
   "id": "d59dfb2e-0e28-4ac7-b251-44a3e53e4976",
   "metadata": {},
   "outputs": [
    {
     "data": {
      "text/html": [
       "<div>\n",
       "<style scoped>\n",
       "    .dataframe tbody tr th:only-of-type {\n",
       "        vertical-align: middle;\n",
       "    }\n",
       "\n",
       "    .dataframe tbody tr th {\n",
       "        vertical-align: top;\n",
       "    }\n",
       "\n",
       "    .dataframe thead th {\n",
       "        text-align: right;\n",
       "    }\n",
       "</style>\n",
       "<table border=\"1\" class=\"dataframe\">\n",
       "  <thead>\n",
       "    <tr style=\"text-align: right;\">\n",
       "      <th></th>\n",
       "      <th>국어</th>\n",
       "      <th>영어</th>\n",
       "      <th>수학</th>\n",
       "      <th>평균</th>\n",
       "    </tr>\n",
       "  </thead>\n",
       "  <tbody>\n",
       "    <tr>\n",
       "      <th>춘향</th>\n",
       "      <td>80</td>\n",
       "      <td>90</td>\n",
       "      <td>90</td>\n",
       "      <td>NaN</td>\n",
       "    </tr>\n",
       "    <tr>\n",
       "      <th>몽룡</th>\n",
       "      <td>90</td>\n",
       "      <td>70</td>\n",
       "      <td>60</td>\n",
       "      <td>NaN</td>\n",
       "    </tr>\n",
       "    <tr>\n",
       "      <th>향단</th>\n",
       "      <td>70</td>\n",
       "      <td>60</td>\n",
       "      <td>80</td>\n",
       "      <td>NaN</td>\n",
       "    </tr>\n",
       "    <tr>\n",
       "      <th>방자</th>\n",
       "      <td>30</td>\n",
       "      <td>40</td>\n",
       "      <td>70</td>\n",
       "      <td>NaN</td>\n",
       "    </tr>\n",
       "  </tbody>\n",
       "</table>\n",
       "</div>"
      ],
      "text/plain": [
       "    국어  영어  수학  평균\n",
       "춘향  80  90  90 NaN\n",
       "몽룡  90  70  60 NaN\n",
       "향단  70  60  80 NaN\n",
       "방자  30  40  70 NaN"
      ]
     },
     "execution_count": 142,
     "metadata": {},
     "output_type": "execute_result"
    }
   ],
   "source": [
    "df"
   ]
  },
  {
   "cell_type": "code",
   "execution_count": 156,
   "id": "d278fb07-17be-4c17-8f52-9a889e742dcb",
   "metadata": {},
   "outputs": [
    {
     "data": {
      "text/html": [
       "<div>\n",
       "<style scoped>\n",
       "    .dataframe tbody tr th:only-of-type {\n",
       "        vertical-align: middle;\n",
       "    }\n",
       "\n",
       "    .dataframe tbody tr th {\n",
       "        vertical-align: top;\n",
       "    }\n",
       "\n",
       "    .dataframe thead th {\n",
       "        text-align: right;\n",
       "    }\n",
       "</style>\n",
       "<table border=\"1\" class=\"dataframe\">\n",
       "  <thead>\n",
       "    <tr style=\"text-align: right;\">\n",
       "      <th></th>\n",
       "      <th>A</th>\n",
       "      <th>B</th>\n",
       "      <th>C</th>\n",
       "      <th>D</th>\n",
       "    </tr>\n",
       "  </thead>\n",
       "  <tbody>\n",
       "    <tr>\n",
       "      <th>2013-02-26</th>\n",
       "      <td>1.764052</td>\n",
       "      <td>0.400157</td>\n",
       "      <td>0.978738</td>\n",
       "      <td>2.240893</td>\n",
       "    </tr>\n",
       "    <tr>\n",
       "      <th>2013-02-27</th>\n",
       "      <td>1.867558</td>\n",
       "      <td>-0.977278</td>\n",
       "      <td>0.950088</td>\n",
       "      <td>-0.151357</td>\n",
       "    </tr>\n",
       "    <tr>\n",
       "      <th>2013-02-28</th>\n",
       "      <td>-0.103219</td>\n",
       "      <td>0.410599</td>\n",
       "      <td>0.144044</td>\n",
       "      <td>1.454274</td>\n",
       "    </tr>\n",
       "    <tr>\n",
       "      <th>2013-03-01</th>\n",
       "      <td>0.761038</td>\n",
       "      <td>0.121675</td>\n",
       "      <td>0.443863</td>\n",
       "      <td>0.333674</td>\n",
       "    </tr>\n",
       "    <tr>\n",
       "      <th>2013-03-02</th>\n",
       "      <td>1.494079</td>\n",
       "      <td>-0.205158</td>\n",
       "      <td>0.313068</td>\n",
       "      <td>-0.854096</td>\n",
       "    </tr>\n",
       "    <tr>\n",
       "      <th>2013-03-03</th>\n",
       "      <td>-2.552990</td>\n",
       "      <td>0.653619</td>\n",
       "      <td>0.864436</td>\n",
       "      <td>-0.742165</td>\n",
       "    </tr>\n",
       "  </tbody>\n",
       "</table>\n",
       "</div>"
      ],
      "text/plain": [
       "                   A         B         C         D\n",
       "2013-02-26  1.764052  0.400157  0.978738  2.240893\n",
       "2013-02-27  1.867558 -0.977278  0.950088 -0.151357\n",
       "2013-02-28 -0.103219  0.410599  0.144044  1.454274\n",
       "2013-03-01  0.761038  0.121675  0.443863  0.333674\n",
       "2013-03-02  1.494079 -0.205158  0.313068 -0.854096\n",
       "2013-03-03 -2.552990  0.653619  0.864436 -0.742165"
      ]
     },
     "execution_count": 156,
     "metadata": {},
     "output_type": "execute_result"
    }
   ],
   "source": [
    "import numpy as np\n",
    "import pandas as pd\n",
    "np.random.seed(0)\n",
    "df = pd.DataFrame(np.random.randn(24).reshape(6,4),\n",
    "                  columns = ['A','B','C','D'],\n",
    "                  index =  pd.date_range(\"20130226\", periods = 6))\n",
    "df                    "
   ]
  },
  {
   "attachments": {
    "7eda0a83-7993-41de-8d4b-6565c5c70956.png": {
     "image/png": "[encoded data removed]"
    }
   },
   "cell_type": "markdown",
   "id": "a4008ef5-0560-4458-b93e-7c398fc7a2ff",
   "metadata": {},
   "source": [
    "![image.png](attachment:7eda0a83-7993-41de-8d4b-6565c5c70956.png)"
   ]
  },
  {
   "cell_type": "code",
   "execution_count": 2,
   "id": "48460b21-79e6-429e-b788-c76394854128",
   "metadata": {},
   "outputs": [
    {
     "data": {
      "text/plain": [
       "0        0\n",
       "1        1\n",
       "2        2\n",
       "3        3\n",
       "4        4\n",
       "      ... \n",
       "495    495\n",
       "496    496\n",
       "497    497\n",
       "498    498\n",
       "499    499\n",
       "Length: 500, dtype: int64"
      ]
     },
     "execution_count": 2,
     "metadata": {},
     "output_type": "execute_result"
    }
   ],
   "source": [
    "import pandas as pd\n",
    "nums = pd.Series(range(500))\n",
    "nums"
   ]
  },
  {
   "cell_type": "code",
   "execution_count": 3,
   "id": "b65c5e5b-cfbd-42b2-b8bb-d47f90a92e4a",
   "metadata": {},
   "outputs": [
    {
     "data": {
      "text/plain": [
       "0    0\n",
       "1    1\n",
       "2    2\n",
       "3    3\n",
       "4    4\n",
       "5    5\n",
       "6    6\n",
       "7    7\n",
       "8    8\n",
       "9    9\n",
       "dtype: int64"
      ]
     },
     "execution_count": 3,
     "metadata": {},
     "output_type": "execute_result"
    }
   ],
   "source": [
    "nums.head(10) # 앞의 10개 출력, default = 5개"
   ]
  },
  {
   "cell_type": "code",
   "execution_count": 4,
   "id": "fdb2ab2e-81ed-4240-89fa-2262d887ec7b",
   "metadata": {},
   "outputs": [
    {
     "data": {
      "text/plain": [
       "495    495\n",
       "496    496\n",
       "497    497\n",
       "498    498\n",
       "499    499\n",
       "dtype: int64"
      ]
     },
     "execution_count": 4,
     "metadata": {},
     "output_type": "execute_result"
    }
   ],
   "source": [
    "nums.tail() # 뒤의 5개 출력"
   ]
  },
  {
   "cell_type": "code",
   "execution_count": 6,
   "id": "8e392315-a816-4d8a-86ba-393079c44cd7",
   "metadata": {},
   "outputs": [
    {
     "data": {
      "text/plain": [
       "0    1.0\n",
       "1    2.0\n",
       "2    NaN\n",
       "3    4.0\n",
       "4    5.0\n",
       "dtype: float64"
      ]
     },
     "execution_count": 6,
     "metadata": {},
     "output_type": "execute_result"
    }
   ],
   "source": [
    "import numpy as np\n",
    "nums = pd.Series([1, 2, np.nan, 4, 5])\n",
    "nums"
   ]
  },
  {
   "cell_type": "code",
   "execution_count": 7,
   "id": "7cb5174f-c776-46b3-a8b5-021a0939e380",
   "metadata": {},
   "outputs": [
    {
     "data": {
      "text/plain": [
       "0    h\n",
       "1    e\n",
       "2    l\n",
       "3    l\n",
       "4    o\n",
       "dtype: object"
      ]
     },
     "execution_count": 7,
     "metadata": {},
     "output_type": "execute_result"
    }
   ],
   "source": [
    "hello = pd.Series(list(\"hello\"))\n",
    "hello"
   ]
  },
  {
   "cell_type": "code",
   "execution_count": 9,
   "id": "1f374884-7867-442b-ac68-0f7ab3cbe272",
   "metadata": {},
   "outputs": [
    {
     "data": {
      "text/plain": [
       "4"
      ]
     },
     "execution_count": 9,
     "metadata": {},
     "output_type": "execute_result"
    }
   ],
   "source": [
    "hello.nunique() # 고유한 값의 개수"
   ]
  },
  {
   "cell_type": "code",
   "execution_count": 11,
   "id": "6758fe6e-e307-478a-9fc1-96001d9d7f50",
   "metadata": {},
   "outputs": [
    {
     "data": {
      "text/plain": [
       "4"
      ]
     },
     "execution_count": 11,
     "metadata": {},
     "output_type": "execute_result"
    }
   ],
   "source": [
    "nums.count() # nan값을 배제한 데이터 개수"
   ]
  },
  {
   "cell_type": "code",
   "execution_count": 15,
   "id": "3750d5a5-9fcc-4412-8000-1d2d59dc6889",
   "metadata": {},
   "outputs": [
    {
     "data": {
      "text/plain": [
       "5"
      ]
     },
     "execution_count": 15,
     "metadata": {},
     "output_type": "execute_result"
    }
   ],
   "source": [
    "len(nums) # 전체 길이"
   ]
  },
  {
   "cell_type": "code",
   "execution_count": 17,
   "id": "34df8a0a-e3b1-4901-b3aa-be913b4264ca",
   "metadata": {},
   "outputs": [
    {
     "data": {
      "text/plain": [
       "12.0"
      ]
     },
     "execution_count": 17,
     "metadata": {},
     "output_type": "execute_result"
    }
   ],
   "source": [
    "nums.sum()"
   ]
  },
  {
   "cell_type": "code",
   "execution_count": 21,
   "id": "57d2be1e-c7de-4337-baca-5b64d1fab09b",
   "metadata": {},
   "outputs": [
    {
     "data": {
      "text/plain": [
       "nan"
      ]
     },
     "execution_count": 21,
     "metadata": {},
     "output_type": "execute_result"
    }
   ],
   "source": [
    "nums.sum(skipna=False) # nan값을 포함하여 계산\n",
    "# 결측치가 있다면 nan값 출력"
   ]
  },
  {
   "cell_type": "code",
   "execution_count": 23,
   "id": "b3313ae5-1e2b-4b2d-a051-e83ccf6f17cb",
   "metadata": {},
   "outputs": [
    {
     "data": {
      "text/plain": [
       "3.0"
      ]
     },
     "execution_count": 23,
     "metadata": {},
     "output_type": "execute_result"
    }
   ],
   "source": [
    "nums.mean()"
   ]
  },
  {
   "cell_type": "code",
   "execution_count": 25,
   "id": "34154e86-1be4-4186-b973-b4982e999fc5",
   "metadata": {},
   "outputs": [
    {
     "data": {
      "text/plain": [
       "3.0"
      ]
     },
     "execution_count": 25,
     "metadata": {},
     "output_type": "execute_result"
    }
   ],
   "source": [
    "nums.median()"
   ]
  },
  {
   "cell_type": "code",
   "execution_count": 27,
   "id": "620ccbd2-a7c4-4fcb-a280-3825de0490c0",
   "metadata": {},
   "outputs": [
    {
     "data": {
      "text/plain": [
       "1.8257418583505538"
      ]
     },
     "execution_count": 27,
     "metadata": {},
     "output_type": "execute_result"
    }
   ],
   "source": [
    "nums.std()"
   ]
  },
  {
   "cell_type": "code",
   "execution_count": 28,
   "id": "eb8c048c-f3a5-4705-a104-0bdd4156c1d3",
   "metadata": {},
   "outputs": [
    {
     "data": {
      "text/plain": [
       "5.0"
      ]
     },
     "execution_count": 28,
     "metadata": {},
     "output_type": "execute_result"
    }
   ],
   "source": [
    "nums.max()"
   ]
  },
  {
   "cell_type": "code",
   "execution_count": 29,
   "id": "395c2406-0bbb-4304-bf22-f8cd8de939c5",
   "metadata": {},
   "outputs": [
    {
     "data": {
      "text/plain": [
       "1.0"
      ]
     },
     "execution_count": 29,
     "metadata": {},
     "output_type": "execute_result"
    }
   ],
   "source": [
    "nums.min()"
   ]
  },
  {
   "cell_type": "code",
   "execution_count": 32,
   "id": "181a894c-aa89-4fc4-a805-7318ea6a3d34",
   "metadata": {},
   "outputs": [
    {
     "data": {
      "text/plain": [
       "0    A\n",
       "1    a\n",
       "2    B\n",
       "3    b\n",
       "4    C\n",
       "5    c\n",
       "dtype: object"
      ]
     },
     "execution_count": 32,
     "metadata": {},
     "output_type": "execute_result"
    }
   ],
   "source": [
    "somechar = pd.Series(list(\"AaBbCc\"))\n",
    "somechar"
   ]
  },
  {
   "cell_type": "code",
   "execution_count": 33,
   "id": "40d5a783-f1cc-4e3c-9c72-803c7f08b23f",
   "metadata": {},
   "outputs": [
    {
     "data": {
      "text/plain": [
       "'c'"
      ]
     },
     "execution_count": 33,
     "metadata": {},
     "output_type": "execute_result"
    }
   ],
   "source": [
    "somechar.max()"
   ]
  },
  {
   "cell_type": "code",
   "execution_count": 34,
   "id": "931bdd6d-f005-4827-a0e0-d088aee7daff",
   "metadata": {},
   "outputs": [
    {
     "data": {
      "text/plain": [
       "'A'"
      ]
     },
     "execution_count": 34,
     "metadata": {},
     "output_type": "execute_result"
    }
   ],
   "source": [
    "somechar.min()"
   ]
  },
  {
   "cell_type": "code",
   "execution_count": 35,
   "id": "eacdbcb7-69a7-4326-a68f-70deb596d5e8",
   "metadata": {},
   "outputs": [
    {
     "data": {
      "text/plain": [
       "97"
      ]
     },
     "execution_count": 35,
     "metadata": {},
     "output_type": "execute_result"
    }
   ],
   "source": [
    "ord('a')"
   ]
  },
  {
   "cell_type": "code",
   "execution_count": 36,
   "id": "7f127e0b-4b37-4dd9-b07d-0c565ab8c802",
   "metadata": {},
   "outputs": [
    {
     "data": {
      "text/plain": [
       "65"
      ]
     },
     "execution_count": 36,
     "metadata": {},
     "output_type": "execute_result"
    }
   ],
   "source": [
    "ord('A')"
   ]
  },
  {
   "cell_type": "code",
   "execution_count": 37,
   "id": "5c3c0add-0d7e-457a-9b20-1c29560ade36",
   "metadata": {},
   "outputs": [
    {
     "data": {
      "text/plain": [
       "count    4.000000\n",
       "mean     3.000000\n",
       "std      1.825742\n",
       "min      1.000000\n",
       "25%      1.750000\n",
       "50%      3.000000\n",
       "75%      4.250000\n",
       "max      5.000000\n",
       "dtype: float64"
      ]
     },
     "execution_count": 37,
     "metadata": {},
     "output_type": "execute_result"
    }
   ],
   "source": [
    "nums.describe()"
   ]
  },
  {
   "cell_type": "code",
   "execution_count": 39,
   "id": "fa1c6506-6b45-4dc9-8a75-c18c8e9549a0",
   "metadata": {},
   "outputs": [
    {
     "data": {
      "text/plain": [
       "count     5\n",
       "unique    4\n",
       "top       l\n",
       "freq      2\n",
       "dtype: object"
      ]
     },
     "execution_count": 39,
     "metadata": {},
     "output_type": "execute_result"
    }
   ],
   "source": [
    "hello.describe()"
   ]
  },
  {
   "cell_type": "code",
   "execution_count": 45,
   "id": "778e7fed-0f97-4bbe-8e1a-6166c462bd7e",
   "metadata": {},
   "outputs": [],
   "source": [
    "superheros = [\n",
    "    \"Batman\",\n",
    "    \"Superman\",\n",
    "    \"Spider-Man\",\n",
    "    \"Iron Man\",\n",
    "    \"Captain America\",\n",
    "    \"Wonder Woman\"\n",
    "]\n",
    "strength_levels = (100, 120, 90, 95, 110, 120)\n",
    "hero = pd.Series(strength_levels,superheros)"
   ]
  },
  {
   "cell_type": "code",
   "execution_count": 46,
   "id": "709dcdc2-3af0-452e-9098-d3f51f478bab",
   "metadata": {},
   "outputs": [
    {
     "data": {
      "text/plain": [
       "Spider-Man          90\n",
       "Iron Man            95\n",
       "Captain America    110\n",
       "Wonder Woman       120\n",
       "dtype: int64"
      ]
     },
     "execution_count": 46,
     "metadata": {},
     "output_type": "execute_result"
    }
   ],
   "source": [
    "hero.tail(4)"
   ]
  },
  {
   "cell_type": "code",
   "execution_count": 47,
   "id": "7da2e273-9bcf-4639-b7f0-8bcfd9e4f75f",
   "metadata": {},
   "outputs": [
    {
     "data": {
      "text/plain": [
       "5"
      ]
     },
     "execution_count": 47,
     "metadata": {},
     "output_type": "execute_result"
    }
   ],
   "source": [
    "hero.nunique()"
   ]
  },
  {
   "cell_type": "code",
   "execution_count": 48,
   "id": "349bb36e-ce7f-44e9-9121-141ea59f9782",
   "metadata": {},
   "outputs": [
    {
     "data": {
      "text/plain": [
       "105.83333333333333"
      ]
     },
     "execution_count": 48,
     "metadata": {},
     "output_type": "execute_result"
    }
   ],
   "source": [
    "hero.mean()"
   ]
  },
  {
   "cell_type": "code",
   "execution_count": 50,
   "id": "70648efb-b0f0-4445-b7fc-ab08511ef4b9",
   "metadata": {},
   "outputs": [
    {
     "data": {
      "text/plain": [
       "105.0"
      ]
     },
     "execution_count": 50,
     "metadata": {},
     "output_type": "execute_result"
    }
   ],
   "source": [
    "hero.median()"
   ]
  },
  {
   "cell_type": "code",
   "execution_count": 51,
   "id": "f229ab77-60dd-41b6-9df9-5db26db5928f",
   "metadata": {},
   "outputs": [
    {
     "data": {
      "text/plain": [
       "120"
      ]
     },
     "execution_count": 51,
     "metadata": {},
     "output_type": "execute_result"
    }
   ],
   "source": [
    "hero.max()"
   ]
  },
  {
   "cell_type": "code",
   "execution_count": 52,
   "id": "727b60b0-d943-4a74-b804-596a91152ca9",
   "metadata": {},
   "outputs": [
    {
     "data": {
      "text/plain": [
       "90"
      ]
     },
     "execution_count": 52,
     "metadata": {},
     "output_type": "execute_result"
    }
   ],
   "source": [
    "hero.min()"
   ]
  },
  {
   "cell_type": "code",
   "execution_count": 53,
   "id": "73abd1e5-a4c8-482c-98cb-21ad10c33c64",
   "metadata": {},
   "outputs": [
    {
     "data": {
      "text/plain": [
       "{'Batman': 100,\n",
       " 'Superman': 120,\n",
       " 'Spider-Man': 90,\n",
       " 'Iron Man': 95,\n",
       " 'Captain America': 110,\n",
       " 'Wonder Woman': 120}"
      ]
     },
     "execution_count": 53,
     "metadata": {},
     "output_type": "execute_result"
    }
   ],
   "source": [
    "dict(hero)"
   ]
  }
 ],
 "metadata": {
  "kernelspec": {
   "display_name": "Python 3 (ipykernel)",
   "language": "python",
   "name": "python3"
  },
  "language_info": {
   "codemirror_mode": {
    "name": "ipython",
    "version": 3
   },
   "file_extension": ".py",
   "mimetype": "text/x-python",
   "name": "python",
   "nbconvert_exporter": "python",
   "pygments_lexer": "ipython3",
   "version": "3.9.13"
  }
 },
 "nbformat": 4,
 "nbformat_minor": 5
}
