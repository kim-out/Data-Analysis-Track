{
 "cells": [
  {
   "cell_type": "code",
   "execution_count": 16,
   "id": "2a390179-08a9-48c7-8bbf-e99ba43890dc",
   "metadata": {},
   "outputs": [
    {
     "name": "stdout",
     "output_type": "stream",
     "text": [
      "a/b/c\n"
     ]
    }
   ],
   "source": [
    "# sep=\"구분 기호\" -> print 함수 내 값과 값을 구분하는 문자 변경\n",
    "# 위 같은 형태는 보통 맨 마지막에 옴\n",
    "print(\"a\",\"b\",\"c\",sep=\"/\")"
   ]
  },
  {
   "cell_type": "code",
   "execution_count": 18,
   "id": "2cd26fa1-5859-4bb5-b862-ca1dd14d133e",
   "metadata": {},
   "outputs": [
    {
     "name": "stdout",
     "output_type": "stream",
     "text": [
      "줄이 바뀌지 않습니다.맞져?\n"
     ]
    }
   ],
   "source": [
    "# end = \"문자\" 개행 문자를 변경\n",
    "print(\"줄이 바뀌지 않습니다.\",end=\"\")\n",
    "print(\"맞져?\")"
   ]
  },
  {
   "cell_type": "code",
   "execution_count": 23,
   "id": "6e5cc2b9-187c-4f25-bc71-4b0d1b2a566c",
   "metadata": {},
   "outputs": [
    {
     "name": "stdout",
     "output_type": "stream",
     "text": [
      "2021/02/03 18:33:23\n"
     ]
    }
   ],
   "source": [
    "year = '2021'\n",
    "month = '02'\n",
    "day = '03'\n",
    "hour = '18'\n",
    "minute = '33'\n",
    "second = '23'\n",
    "\n",
    "print(year, month, day,sep=\"/\",end=\" \")\n",
    "print(hour,minute,second,sep=\":\")"
   ]
  },
  {
   "cell_type": "code",
   "execution_count": 38,
   "id": "8cd02a63-83ad-4a19-ab42-3ddf5b5c1da8",
   "metadata": {},
   "outputs": [
    {
     "name": "stdout",
     "output_type": "stream",
     "text": [
      "가 나 다 라 마 바 사\n",
      "['가', '나', '다', '라', '마', '바', '사']\n"
     ]
    }
   ],
   "source": [
    "#'기호'.join(시퀀스) -> 시퀀스 자료형의 사이 사이에 기호를 넣음\n",
    "a=\"가나다라마바사\"\n",
    "b=' '.join(a)\n",
    "print(b)\n",
    "print(b.split(' '))"
   ]
  },
  {
   "cell_type": "code",
   "execution_count": 27,
   "id": "d2a6b2bf-e1f7-4572-be95-9f246a00dad0",
   "metadata": {},
   "outputs": [
    {
     "name": "stdin",
     "output_type": "stream",
     "text": [
      "사과와 귤을 몇개 드릴까요? 10,20\n"
     ]
    },
    {
     "name": "stdout",
     "output_type": "stream",
     "text": [
      "총 가격은 14000원입니다.\n"
     ]
    }
   ],
   "source": [
    "app,ora=map(int,input(\"사과와 귤을 몇개 드릴까요?\").split(','))\n",
    "print(\"총 가격은 \", app*1000+ora*200,\"원입니다.\",sep='')"
   ]
  },
  {
   "cell_type": "code",
   "execution_count": 39,
   "id": "be51d66a-5da2-4660-979b-f3d69f796bf2",
   "metadata": {},
   "outputs": [
    {
     "name": "stdout",
     "output_type": "stream",
     "text": [
      "123\n"
     ]
    }
   ],
   "source": [
    "#format메서드\n",
    "print(\"{}{}{}\".format(1,2,3))"
   ]
  },
  {
   "cell_type": "code",
   "execution_count": 44,
   "id": "830d1ef0-b522-416d-a51a-d84014dd0bff",
   "metadata": {},
   "outputs": [
    {
     "name": "stdout",
     "output_type": "stream",
     "text": [
      "오늘의 날짜를 아려드립니다!\n",
      "2023년 2월 15일입니다.\n"
     ]
    }
   ],
   "source": [
    "import time #함수 사용 시 tab키 이용\n",
    "\n",
    "today = \"\"\"오늘의 날짜를 알려드립니다!\n",
    "{}년 {}월 {}일입니다.\\\n",
    "\"\"\".format(time.localtime().tm_year,\n",
    "           time.localtime().tm_mon,\n",
    "           time.localtime().tm_mday)\n",
    "print(today)"
   ]
  },
  {
   "cell_type": "code",
   "execution_count": 46,
   "id": "9192a726-a0f2-4523-b21a-3a0345709c0e",
   "metadata": {},
   "outputs": [
    {
     "name": "stdout",
     "output_type": "stream",
     "text": [
      "a b\n"
     ]
    }
   ],
   "source": [
    "#중괄호 개수보다 format 메서드의 인수가 많으면 뒤의 인수 버려짐\n",
    "some_str = \"{} {}\".format(\"a\",\"b\",\"c\")\n",
    "print(some_str)"
   ]
  },
  {
   "cell_type": "code",
   "execution_count": 47,
   "id": "915f8b49-6bc3-43ba-8467-37c9c4beeb5e",
   "metadata": {},
   "outputs": [
    {
     "ename": "IndexError",
     "evalue": "Replacement index 3 out of range for positional args tuple",
     "output_type": "error",
     "traceback": [
      "\u001b[1;31m---------------------------------------------------------------------------\u001b[0m",
      "\u001b[1;31mIndexError\u001b[0m                                Traceback (most recent call last)",
      "\u001b[1;32m~\\AppData\\Local\\Temp\\ipykernel_9164\\737250435.py\u001b[0m in \u001b[0;36m<module>\u001b[1;34m\u001b[0m\n\u001b[0;32m      1\u001b[0m \u001b[1;31m# 위와 반대로 중괄호의 개수가 더 많으면 IndexError 발생\u001b[0m\u001b[1;33m\u001b[0m\u001b[1;33m\u001b[0m\u001b[0m\n\u001b[1;32m----> 2\u001b[1;33m \u001b[0msome_str\u001b[0m \u001b[1;33m=\u001b[0m \u001b[1;34m\"{} {} {} {}\"\u001b[0m\u001b[1;33m.\u001b[0m\u001b[0mformat\u001b[0m\u001b[1;33m(\u001b[0m\u001b[1;34m\"a\"\u001b[0m\u001b[1;33m,\u001b[0m\u001b[1;34m\"b\"\u001b[0m\u001b[1;33m,\u001b[0m\u001b[1;34m\"c\"\u001b[0m\u001b[1;33m)\u001b[0m\u001b[1;33m\u001b[0m\u001b[1;33m\u001b[0m\u001b[0m\n\u001b[0m\u001b[0;32m      3\u001b[0m \u001b[0mprint\u001b[0m\u001b[1;33m(\u001b[0m\u001b[0msome_str\u001b[0m\u001b[1;33m)\u001b[0m\u001b[1;33m\u001b[0m\u001b[1;33m\u001b[0m\u001b[0m\n",
      "\u001b[1;31mIndexError\u001b[0m: Replacement index 3 out of range for positional args tuple"
     ]
    }
   ],
   "source": [
    "# 위와 반대로 중괄호의 개수가 더 많으면 IndexError 발생\n",
    "some_str = \"{} {} {} {}\".format(\"a\",\"b\",\"c\")\n",
    "print(some_str)\n"
   ]
  },
  {
   "cell_type": "code",
   "execution_count": 49,
   "id": "b3e22511-9a2d-4971-bc66-911280edbfe3",
   "metadata": {},
   "outputs": [
    {
     "name": "stdout",
     "output_type": "stream",
     "text": [
      "12\n",
      "233\n",
      "23123\n"
     ]
    }
   ],
   "source": [
    "# f-string\n",
    "str=f\"\"\"\\\n",
    "{12}\n",
    "{233}\n",
    "{23123}\\\n",
    "\"\"\"\n",
    "print(str)"
   ]
  },
  {
   "cell_type": "code",
   "execution_count": 56,
   "id": "bd5d1a43-8385-4520-b659-8242310b6f38",
   "metadata": {},
   "outputs": [],
   "source": [
    "#객체 타입 비교 시 is 키워드 사용\n",
    "input_value=23.5\n",
    "if type(input_value) is int:\n",
    "    print(\"input_value는 정수입니다.\")"
   ]
  },
  {
   "cell_type": "code",
   "execution_count": 61,
   "id": "45da9c01-8d0e-4680-907c-ba3557f4d0d4",
   "metadata": {},
   "outputs": [
    {
     "name": "stdout",
     "output_type": "stream",
     "text": [
      "1\n"
     ]
    }
   ],
   "source": [
    "# python에서는 1 < a =< 100 형태 가능, java 불가\n",
    "a=100\n",
    "if 99<a<101 : \n",
    "    print(1)\n",
    "    "
   ]
  },
  {
   "cell_type": "code",
   "execution_count": 73,
   "id": "9ca71e33-3b8e-4e6c-bfd4-bb98de20ddb6",
   "metadata": {},
   "outputs": [
    {
     "name": "stdin",
     "output_type": "stream",
     "text": [
      "아이디를 입력하세요 : dd\n",
      "회원 등급을 입력해주세요 : 4\n"
     ]
    },
    {
     "name": "stdout",
     "output_type": "stream",
     "text": [
      "권한이 없습니다.\n"
     ]
    }
   ],
   "source": [
    "id=input(\"아이디를 입력하세요 :\")\n",
    "if id == \"admin\" :\n",
    "    print(\"모든 권한을 갖습니다.\")\n",
    "else:\n",
    "    cls=int(input(\"회원 등급을 입력해주세요 :\"))\n",
    "    if 1 <= cls <= 3:\n",
    "         print(\"제한적인 권한을 갖습니다.\")\n",
    "    else:\n",
    "         print(\"권한이 없습니다.\")"
   ]
  },
  {
   "cell_type": "code",
   "execution_count": null,
   "id": "4f77a121-a1d1-4515-b8e8-a8cf85092d14",
   "metadata": {},
   "outputs": [],
   "source": [
    "# if문 내부의 내용을 나중에 작성할 예정일 경우 pass키워드 이용\n",
    "if True:\n",
    "    pass #TOBE\n"
   ]
  },
  {
   "cell_type": "code",
   "execution_count": 86,
   "id": "c3a38833-18d9-4805-9a02-20a083394bcb",
   "metadata": {},
   "outputs": [
    {
     "name": "stdin",
     "output_type": "stream",
     "text": [
      " 70\n"
     ]
    },
    {
     "name": "stdout",
     "output_type": "stream",
     "text": [
      "20\n"
     ]
    }
   ],
   "source": [
    "n=int(input())\n",
    "r=n-50\n",
    "if r<0:\n",
    "    print(0)\n",
    "else:\n",
    "    print(r)"
   ]
  },
  {
   "cell_type": "code",
   "execution_count": 88,
   "id": "bfde9688-88ef-4a8b-945b-e0bc4f60a5e8",
   "metadata": {},
   "outputs": [
    {
     "name": "stdin",
     "output_type": "stream",
     "text": [
      "자연수 하나 입력해주세요: 1\n"
     ]
    },
    {
     "name": "stdout",
     "output_type": "stream",
     "text": [
      "홀수입니다.\n"
     ]
    }
   ],
   "source": [
    "n=int(input(\"자연수 하나 입력해주세요:\"))\n",
    "if n%2==0:\n",
    "    print(\"짝수입니다.\")\n",
    "else: \n",
    "    print(\"홀수입니다.\")"
   ]
  },
  {
   "cell_type": "code",
   "execution_count": 94,
   "id": "7f50f960-96e5-41c3-8a5f-fcb38d5fdfc4",
   "metadata": {},
   "outputs": [
    {
     "name": "stdin",
     "output_type": "stream",
     "text": [
      "소프트웨어 설계 점수를 입력하세요. 1100\n",
      "소프트웨어 개발 점수를 입력하세요. 24\n",
      "데이터베이스 구축 점수를 입력하세요. 34\n",
      "정보시스템 구축관리 점수를 입력하세요. 23\n"
     ]
    },
    {
     "name": "stdout",
     "output_type": "stream",
     "text": [
      "잘못된 점수입니다.\n"
     ]
    }
   ],
   "source": [
    "ss=int(input(\"소프트웨어 설계 점수를 입력하세요.\"))\n",
    "sk=int(input(\"소프트웨어 개발 점수를 입력하세요.\"))\n",
    "db=int(input(\"데이터베이스 구축 점수를 입력하세요.\"))\n",
    "p=int(input(\"프로그래밍 언어 활용 점수를 입력하세요.\"))\n",
    "isd=int(input(\"정보시스템 구축관리 점수를 입력하세요.\"))\n",
    "if ss<0 or sk<0 or db<0 or p<0 or isd<0 or ss>100 or sk>100 or db>100 or p>100 or isd>100:\n",
    "    print(\"잘못된 점수입니다.\")\n",
    "else:\n",
    "    if ((ss+sk+db+p+isd)/5)<60:\n",
    "        print(\"불합격\")\n",
    "    else:\n",
    "        print(\"합격\")\n"
   ]
  },
  {
   "cell_type": "code",
   "execution_count": 138,
   "id": "ba9d03e9-2f9c-4e58-b969-50d37d0dc55f",
   "metadata": {},
   "outputs": [
    {
     "name": "stdin",
     "output_type": "stream",
     "text": [
      "현재 물의 온도를 입력해주세요 2\n"
     ]
    },
    {
     "name": "stdout",
     "output_type": "stream",
     "text": [
      "액체로 예상됩니다.\n",
      "0.0009965896606445312\n"
     ]
    }
   ],
   "source": [
    "import time\n",
    "c=float(input(\"현재 물의 온도를 입력해주세요\"))\n",
    "sta=time.time()\n",
    "if c>=100:\n",
    "    print(\"기체로 예상됩니다.\")\n",
    "elif c>=0:\n",
    "    print(\"액체로 예상됩니다.\")\n",
    "elif c<0:\n",
    "    print(\"고체로 예상됩니다\")\n",
    "end=time.time()\n",
    "print(end-sta)"
   ]
  },
  {
   "cell_type": "code",
   "execution_count": 114,
   "id": "14303354-656b-4c2e-bb30-b6a545a0e319",
   "metadata": {},
   "outputs": [
    {
     "name": "stdin",
     "output_type": "stream",
     "text": [
      "자신의 나이를 입력하세요: 5\n"
     ]
    },
    {
     "name": "stdout",
     "output_type": "stream",
     "text": [
      "무료입니다.\n"
     ]
    }
   ],
   "source": [
    "age=int(input(\"자신의 나이를 입력하세요:\"))\n",
    "if age>=19:\n",
    "    print(\"1500원\")\n",
    "elif age >= 12:\n",
    "    print(\"1100원\")\n",
    "elif age >=6:\n",
    "    print(\"800원\")\n",
    "else:\n",
    "    print(\"무료입니다.\")"
   ]
  },
  {
   "cell_type": "code",
   "execution_count": 122,
   "id": "e9e50225-a0d2-4446-87df-d8cf17f948a0",
   "metadata": {},
   "outputs": [
    {
     "name": "stdout",
     "output_type": "stream",
     "text": [
      "10\n"
     ]
    }
   ],
   "source": [
    "print(f\"{10}\")"
   ]
  },
  {
   "cell_type": "code",
   "execution_count": 127,
   "id": "9936e7e5-ef31-412a-a198-5d07449d42c6",
   "metadata": {},
   "outputs": [
    {
     "name": "stdin",
     "output_type": "stream",
     "text": [
      "발주 수량을 입력하세요: 2001\n"
     ]
    },
    {
     "name": "stdout",
     "output_type": "stream",
     "text": [
      "2001개를 주문하셨습니다\n",
      "적용 할인율은 20%입니다.\n",
      "총 발주 금액은 $16008입니다.\n"
     ]
    }
   ],
   "source": [
    "c=int(input(\"발주 수량을 입력하세요:\"))\n",
    "print(f\"{c}개를 주문하셨습니다\")\n",
    "if c>2000:\n",
    "    sale=0.2\n",
    "elif c>1500:\n",
    "    sale=0.1\n",
    "elif c>1000:\n",
    "    sale=0.05\n",
    "else:\n",
    "    sale=0\n",
    "    \n",
    "print(f\"\"\"\\\n",
    "적용 할인율은 {int(sale*100)}%입니다.\n",
    "총 발주 금액은 ${int(c*10*(1-sale))}입니다.\\\n",
    "\"\"\")\n"
   ]
  },
  {
   "cell_type": "code",
   "execution_count": 135,
   "id": "4a27878a-74e8-4c85-acf9-11e1b2f37a92",
   "metadata": {},
   "outputs": [
    {
     "name": "stdin",
     "output_type": "stream",
     "text": [
      "주민번호 뒷자리를 입력하세요: 55555555\n"
     ]
    },
    {
     "name": "stdout",
     "output_type": "stream",
     "text": [
      "자리수를 잘못 입력했습니다.\n"
     ]
    }
   ],
   "source": [
    "num=input(\"주민번호 뒷자리를 입력하세요:\")\n",
    "first=int(num[0])\n",
    "if len(num) != 7:\n",
    "    print(\"자리수를 잘못 입력했습니다.\")\n",
    "elif first>4:\n",
    "    print(\"잘못된 입력입니다.\")\n",
    "else:\n",
    "    if first==1 or first==3:\n",
    "        print(\"남자\")\n",
    "    else:\n",
    "        print(\"여자\")"
   ]
  },
  {
   "cell_type": "code",
   "execution_count": 163,
   "id": "7529d846-b6b3-470b-9b1a-ac5e4d76e318",
   "metadata": {},
   "outputs": [
    {
     "name": "stdin",
     "output_type": "stream",
     "text": [
      "확인할 연도를 입력하세요: 2000\n"
     ]
    },
    {
     "name": "stdout",
     "output_type": "stream",
     "text": [
      "윤년입니다.\n"
     ]
    }
   ],
   "source": [
    "year=int(input(\"확인할 연도를 입력하세요:\"))\n",
    "result=\"윤년\"\n",
    "if year%4!=0 or (year%100==0 and year%400!=0):\n",
    "    result=\"평년\"\n",
    "\n",
    "print(f\"{result}입니다.\")"
   ]
  },
  {
   "cell_type": "code",
   "execution_count": 170,
   "id": "1a95a533-f8aa-4a1f-a5bc-a8b43da88a68",
   "metadata": {},
   "outputs": [
    {
     "data": {
      "text/plain": [
       "range"
      ]
     },
     "execution_count": 170,
     "metadata": {},
     "output_type": "execute_result"
    }
   ],
   "source": [
    "#range(시작숫자(포함,끝숫자(미포함),증감)\n",
    "a=range(0,8,1)\n",
    "type(a)"
   ]
  },
  {
   "cell_type": "code",
   "execution_count": null,
   "id": "e57eae4f-f6cf-4eaf-a066-1e158e17709e",
   "metadata": {},
   "outputs": [],
   "source": [
    "# list vs range가 동작하는 큰 차이점\n",
    "# list는 메모리 상에 미리 다 만들어 놓음\n",
    "# range는 필요할 때 메모리에 만듦"
   ]
  },
  {
   "cell_type": "code",
   "execution_count": null,
   "id": "f69ea44d-33dc-4fae-bde3-162e2de74166",
   "metadata": {},
   "outputs": [],
   "source": []
  },
  {
   "cell_type": "code",
   "execution_count": null,
   "id": "60aff4ab-7b28-4192-a13a-8161d605afa3",
   "metadata": {},
   "outputs": [],
   "source": []
  }
 ],
 "metadata": {
  "kernelspec": {
   "display_name": "Python 3 (ipykernel)",
   "language": "python",
   "name": "python3"
  },
  "language_info": {
   "codemirror_mode": {
    "name": "ipython",
    "version": 3
   },
   "file_extension": ".py",
   "mimetype": "text/x-python",
   "name": "python",
   "nbconvert_exporter": "python",
   "pygments_lexer": "ipython3",
   "version": "3.9.13"
  }
 },
 "nbformat": 4,
 "nbformat_minor": 5
}
