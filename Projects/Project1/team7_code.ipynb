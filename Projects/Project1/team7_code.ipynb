{
 "cells": [
  {
   "cell_type": "code",
   "execution_count": null,
   "id": "015ccb4b-4f7a-4f10-8514-65e310f34569",
   "metadata": {},
   "outputs": [],
   "source": [
    "import pandas as pd\n",
    "import matplotlib.pyplot as plt\n",
    "import seaborn as sns\n",
    "import urllib.request\n",
    "import json\n",
    "import numpy as np\n",
    "import folium as g\n",
    "import pandas as pd\n",
    "import requests\n",
    "import matplotlib as mpl"
   ]
  },
  {
   "cell_type": "code",
   "execution_count": null,
   "id": "9de3c53b-c150-4c13-a429-f2f1ddd40b25",
   "metadata": {},
   "outputs": [],
   "source": [
    "mpl.rcParams['font.family'] = 'Noto Sans KR'\n",
    "print(mpl.rcParams['font.family'])"
   ]
  },
  {
   "cell_type": "code",
   "execution_count": null,
   "id": "6f0ab228-d87b-43cf-b94b-e8afbf40da1c",
   "metadata": {},
   "outputs": [],
   "source": [
    "global_font = {'family':'NanumGothic','size':12,'weight':'bold'}\n",
    "\n",
    "#폰트 설정\n",
    "mpl.rc('font',**global_font)"
   ]
  },
  {
   "cell_type": "markdown",
   "id": "b283ba1e-56c4-4039-86ca-693523a9dd46",
   "metadata": {},
   "source": [
    "## 지역화폐 사용 현황"
   ]
  },
  {
   "cell_type": "markdown",
   "id": "7f035c85-5b17-47f5-9ba6-4024b1da79ee",
   "metadata": {},
   "source": [
    "- 데이터 가져오기"
   ]
  },
  {
   "cell_type": "code",
   "execution_count": null,
   "id": "d6758451-1c2d-48fd-b81b-36be2fe55300",
   "metadata": {
    "scrolled": true,
    "tags": []
   },
   "outputs": [],
   "source": [
    "local_g = pd.read_csv(\"datas/payuse.csv\",encoding=\"CP949\")\n",
    "local_g"
   ]
  },
  {
   "cell_type": "code",
   "execution_count": null,
   "id": "50d2476a-171a-40ae-99f5-c02721064911",
   "metadata": {
    "scrolled": true,
    "tags": []
   },
   "outputs": [],
   "source": [
    "local_g.기준년월 = local_g.기준년월.str.split('-').str[0]\n",
    "local_g"
   ]
  },
  {
   "cell_type": "code",
   "execution_count": null,
   "id": "be19996d-57a5-4251-9f4b-ee1c7d0c812f",
   "metadata": {},
   "outputs": [],
   "source": [
    "index = list(set(list(local_g.시군명)))"
   ]
  },
  {
   "cell_type": "markdown",
   "id": "7eaf8f36-7622-49af-b190-80bbf00b775b",
   "metadata": {},
   "source": [
    "### 지역 별 카드 사용액 dataframe(use2019 - use2022)"
   ]
  },
  {
   "cell_type": "code",
   "execution_count": null,
   "id": "cca4e16f-0f30-4e5c-a374-02bb6aad8d6e",
   "metadata": {},
   "outputs": [],
   "source": [
    "use2019 = local_g[local_g.기준년월 == \"2019\"]\n",
    "use2020 = local_g[local_g.기준년월 == \"2020\"]\n",
    "use2021 = local_g[local_g.기준년월 == \"2021\"]\n",
    "use2022 = local_g[local_g.기준년월 == \"2022\"]"
   ]
  },
  {
   "cell_type": "code",
   "execution_count": null,
   "id": "6b1dcae9-920e-4df1-be72-02834e141e0e",
   "metadata": {},
   "outputs": [],
   "source": [
    "pay= []\n",
    "for i in index:    \n",
    "    pay.append(use2019[use2019.시군명 == i][\"월별카드사용액(천원)\"].sum())\n",
    "use2019 = pd.Series(data = pay, index = index)\n",
    "\n",
    "pay= []\n",
    "for i in index:    \n",
    "    pay.append(use2020[use2020.시군명 == i][\"월별카드사용액(천원)\"].sum())\n",
    "use2020 = pd.Series(data = pay, index = index)\n",
    "\n",
    "pay= []\n",
    "for i in index:    \n",
    "    pay.append(use2021[use2021.시군명 == i][\"월별카드사용액(천원)\"].sum())\n",
    "use2021 = pd.Series(data = pay, index = index)\n",
    "\n",
    "pay= []\n",
    "for i in index:    \n",
    "    pay.append(use2022[use2022.시군명 == i][\"월별카드사용액(천원)\"].sum())\n",
    "use2022 = pd.Series(data = pay, index = index)"
   ]
  },
  {
   "cell_type": "code",
   "execution_count": null,
   "id": "c9e7d22d-19f8-4c30-9016-39262df820cd",
   "metadata": {
    "tags": []
   },
   "outputs": [],
   "source": [
    "gg= \"https://raw.githubusercontent.com/southkorea/southkorea-maps/master/kostat/2018/json/skorea-municipalities-2018-geo.json\"\n",
    "\n",
    "response = requests.get(gg)\n",
    "gg_json = response.json()\n",
    "\n",
    "gg_list = [i['properties']['name'] for i in gg_json['features']]"
   ]
  },
  {
   "cell_type": "code",
   "execution_count": null,
   "id": "f14e517e-8770-476a-99ad-ef6ff14d70fe",
   "metadata": {},
   "outputs": [],
   "source": [
    "nindex = ['용인시', '수원시', '성남시', '안양시', '안산시', '고양시']"
   ]
  },
  {
   "cell_type": "code",
   "execution_count": null,
   "id": "c08fa54b-3ff6-4ca1-8c0d-a88cb4ede8f7",
   "metadata": {},
   "outputs": [],
   "source": [
    "ch = []\n",
    "for i in gg_list:\n",
    "    for j in nindex:\n",
    "        if j in i:\n",
    "            use2019[i]=use2019[j]\n",
    "            use2020[i]=use2020[j]\n",
    "            use2021[i]=use2021[j]\n",
    "            use2022[i]=use2022[j]"
   ]
  },
  {
   "cell_type": "code",
   "execution_count": null,
   "id": "9e85334b-f237-4903-b1ae-5e2002bcf9c2",
   "metadata": {},
   "outputs": [],
   "source": [
    "use2022.max()"
   ]
  },
  {
   "cell_type": "code",
   "execution_count": null,
   "id": "d248924b-698a-45e0-9052-83c8d129351e",
   "metadata": {},
   "outputs": [],
   "source": [
    "# threshold 넣을 값 \n",
    "bins = [420000000*i for i in [0,0.01,0.10,0.20,0.30,0.40,0.60,0.80,1.00]]\n",
    "bins[0]"
   ]
  },
  {
   "cell_type": "code",
   "execution_count": null,
   "id": "5ad3ff4d-8d1b-4cf5-b4d3-8986c53d4d46",
   "metadata": {
    "tags": []
   },
   "outputs": [],
   "source": [
    "# 지역 별 카드사용액 지도\n",
    "map = g.Map(location = [37.5502, 126.982], zoom_start = 8,tiles='cartodbpositron')\n",
    "g.Choropleth(geo_data = gg,\n",
    "                  data = use2019,\n",
    "                  threshold_scale=bins,\n",
    "                  fill_color='YlGn',\n",
    "                  line_opacity=0.5,\n",
    "                  fill_opacity=0.7,\n",
    "                  key_on='feature.properties.name').add_to(map)\n",
    "map"
   ]
  },
  {
   "cell_type": "code",
   "execution_count": null,
   "id": "2f2c83d3-c1f7-4c9e-a6a7-8528776d7736",
   "metadata": {
    "tags": []
   },
   "outputs": [],
   "source": [
    "map = g.Map(location = [37.5502, 126.982], zoom_start = 8,tiles='cartodbpositron')\n",
    "g.Choropleth(geo_data = gg,\n",
    "                  data = use2020,\n",
    "                  threshold_scale=bins,\n",
    "                  fill_color='YlGn',\n",
    "                  line_opacity=0.5,\n",
    "                  fill_opacity=0.7,\n",
    "                  key_on='feature.properties.name').add_to(map)\n",
    "map"
   ]
  },
  {
   "cell_type": "code",
   "execution_count": null,
   "id": "92c93f1c-3c39-4394-8192-b625ee5e2cfb",
   "metadata": {
    "tags": []
   },
   "outputs": [],
   "source": [
    "map = g.Map(location = [37.5502, 126.982], zoom_start = 8,tiles='cartodbpositron')\n",
    "g.Choropleth(geo_data = gg,\n",
    "                  data = use2021,\n",
    "                  threshold_scale=bins,\n",
    "                  fill_color='YlGn',\n",
    "                  line_opacity=0.5,\n",
    "                  fill_opacity=0.7,\n",
    "                  key_on='feature.properties.name').add_to(map)\n",
    "map"
   ]
  },
  {
   "cell_type": "code",
   "execution_count": null,
   "id": "6c3d4479-554d-4a7a-8af1-ddda735cdc03",
   "metadata": {
    "tags": []
   },
   "outputs": [],
   "source": [
    "map = g.Map(location = [37.5502, 126.982], zoom_start = 8,tiles='cartodbpositron')\n",
    "g.Choropleth(geo_data = gg,\n",
    "                  data = use2022,\n",
    "                  threshold_scale=bins,\n",
    "                  fill_color='YlGn',\n",
    "                  line_opacity=0.5,\n",
    "                  fill_opacity=0.7,\n",
    "                  key_on='feature.properties.name').add_to(map)\n",
    "map"
   ]
  },
  {
   "cell_type": "markdown",
   "id": "9367af8e-6185-4200-a4e7-cb6a86e36ad8",
   "metadata": {},
   "source": [
    "# 지역 화폐 가맹점"
   ]
  },
  {
   "cell_type": "markdown",
   "id": "0fad31be-0c2f-4e5b-8b28-619d46e277fa",
   "metadata": {},
   "source": [
    "- 데이터 가져오기"
   ]
  },
  {
   "cell_type": "code",
   "execution_count": null,
   "id": "309e1554-116f-439a-9764-a2740cfe38a6",
   "metadata": {
    "tags": []
   },
   "outputs": [],
   "source": [
    "pay_store=pd.read_csv(\"datas/lpay.csv\", encoding = \"CP949\", low_memory = False, usecols = [\"상호명\" , \"업종명(종목명)\", \"소재지도로명주소\", \"위도\",\"경도\",\"업종코드\",\"폐업일자\" ] )\n",
    "pay_store"
   ]
  },
  {
   "cell_type": "markdown",
   "id": "0393476e-40ef-4e15-8503-a226be735dc4",
   "metadata": {},
   "source": [
    "- 결측치 제거"
   ]
  },
  {
   "cell_type": "code",
   "execution_count": null,
   "id": "4ca3ca2d-7e0d-415d-9080-321721f5a92f",
   "metadata": {
    "tags": []
   },
   "outputs": [],
   "source": [
    "# 폐업 상점 삭제\n",
    "pay_store = pay_store[pay_store.폐업일자.isna()]\n",
    "\n",
    "# 위경도, 주소 결측치 제거\n",
    "pay_store = pay_store[pay_store.위도.notnull()]\n",
    "pay_store = pay_store[pay_store.소재지도로명주소.notnull()]\n",
    "\n",
    "print(sum(pay_store.위도.isna()), sum(pay_store.폐업일자.notnull()))"
   ]
  },
  {
   "cell_type": "code",
   "execution_count": null,
   "id": "98bb9581-17e0-412d-8c97-d57951c4695f",
   "metadata": {
    "tags": []
   },
   "outputs": [],
   "source": [
    "pay_store.drop([\"폐업일자\"], axis = 1, inplace =True)"
   ]
  },
  {
   "cell_type": "code",
   "execution_count": null,
   "id": "0e6d926c-2c20-40af-b099-4a48b1e0c53a",
   "metadata": {},
   "outputs": [],
   "source": [
    "pay_store.drop([\"상호명\"], axis = 1, inplace =True)"
   ]
  },
  {
   "cell_type": "code",
   "execution_count": null,
   "id": "bcb2cb62-886e-4c00-93e5-7289a5d2ef3b",
   "metadata": {
    "tags": []
   },
   "outputs": [],
   "source": [
    "#기타 업종 제거\n",
    "pay_store = pay_store[(pay_store[\"업종명(종목명)\"]) != \"기타\"]\n",
    "pay_store = pay_store[(pay_store[\"업종명(종목명)\"]) != \"기타1\"]\n",
    "pay_store = pay_store[(pay_store[\"업종명(종목명)\"]) != \"기타2\"]\n",
    "pay_store = pay_store[(pay_store[\"업종명(종목명)\"]) != \"기타3\"]\n",
    "pay_store = pay_store[(pay_store[\"업종명(종목명)\"]) != \"기타4\"]\n",
    "len(pay_store)"
   ]
  },
  {
   "cell_type": "code",
   "execution_count": null,
   "id": "d0a85af2-8eec-4c72-b4fe-3e313a799398",
   "metadata": {},
   "outputs": [],
   "source": [
    "pay_store[\"시\"] = pay_store.소재지도로명주소.str.split(' ').str[1]"
   ]
  },
  {
   "cell_type": "code",
   "execution_count": null,
   "id": "b136e531-a4f7-4470-bd5c-c5c5788ca362",
   "metadata": {
    "tags": []
   },
   "outputs": [],
   "source": [
    "#주소에서 구만 남기기\n",
    "\n",
    "except_city = ['고양시', '수원시', '성남시', '용인시', '안양시', '안산시']\n",
    "\n",
    "pay_store[\"시군구\"] = pay_store.소재지도로명주소.str.split(' ').str[1]\n",
    "except_city_idx = pay_store[pay_store.소재지도로명주소.str.split(' ').str[1].isin(except_city)].index"
   ]
  },
  {
   "cell_type": "code",
   "execution_count": null,
   "id": "bfed4feb-ce6f-487a-b3a7-8835d45f8ae2",
   "metadata": {
    "tags": []
   },
   "outputs": [],
   "source": [
    "pay_store.loc[except_city_idx, \"시군구\"] = pay_store.loc[except_city_idx, '소재지도로명주소'].str.split().str[1].astype(\"str\") + pay_store.loc[except_city_idx, '소재지도로명주소'].str.split().str[2].astype(\"str\")"
   ]
  },
  {
   "cell_type": "code",
   "execution_count": null,
   "id": "eddbeb3e-d3d9-40cc-b1ac-d542f7b51f5a",
   "metadata": {
    "tags": []
   },
   "outputs": [],
   "source": [
    "pay_store"
   ]
  },
  {
   "cell_type": "markdown",
   "id": "59329a33-d257-48d7-9d61-bb95d2f2e8d2",
   "metadata": {},
   "source": [
    "- 업종 분류"
   ]
  },
  {
   "cell_type": "code",
   "execution_count": null,
   "id": "8077783b-c359-4c6f-8be1-ec593f377d4b",
   "metadata": {},
   "outputs": [],
   "source": [
    "cat1 = ['일반자판기','기타음료식품','일반한식','서양음식','중국식', '스넥','갈비전문점','한정식','음식점업','일식회집','기타음료식품'] #요식업\n",
    "cat2 = ['1급호텔', '2급호텔', '숙박업', '여관/기타숙박업', '콘도'] #숙박업\n",
    "cat3 = ['쌍용S-OIL', '쌍용S-OIL가스충전소' , '주유소', 'E1가스충전소', 'GS가스충전소', 'GS주유소', 'LPG취급점', 'SK가스충전소', 'SK주유소','현대정유(오일뱅크)','현대정유가스충전소'] #주유소\n",
    "cat4 = ['기타잡화', '내의판매', '정장', '신발', '스포츠의류', '아동의류', '내의판매', '맞춤복점', '정장(여성)', '캐주얼의류', '와이셔츠타이','단체복','기타의류','가방','액세서리',\n",
    "        '귀금속','시계','안경'] #의류 잡화\n",
    "cat5 = ['기타의료기관및기타의료기기','약국','의원', '치과의원', '한의원', '동물병원', '병원', '보건업', '한약방', '한방병원', '치과병원', '종합병원'] #병원\n",
    "cat6 = ['제과점'] #카페/베이커리\n",
    "cat7 = ['통신기기(무이자할부)', '통신기기', '일반(통신판매)','사무통신기기수리','통신판매업2'] #통신기기\n",
    "cat8 = ['교육서비스', '교육서비스업', '기능학원', '예체능계학원', '외국어학원', '유아원', '보습학원', '기타교육기관', '유치원', '컴퓨터학원', '학원', '학습지교육', '독서실','유학원'] #교육서비스\n",
    "cat9 = ['고속버스', '기타교통수단', '고속버스', '택시','교통수단'] #교통수단\n",
    "cat10 = ['여객선','헬스클럽', '당구장', '수영장', '스포츠레져용품', '기타레져업소' , '골프용품전문점', '골프경기장', '골프연습장', '레져용품수리', '레져업소', '볼링장', '테니스장',\n",
    "         '스포츠및여가관련서비스업', '이륜차판매','종합레져타운','스크린골프'] #레저/스포츠\n",
    "cat11 = ['주점', '칵테일바','유흥주점'] #주점\n",
    "cat12 = ['서적', '기타서적문구','전문서적','일반서적','화원', '노래방', '화랑','사우나', '티켓','문화취미기타','영화관','음반/영상물','수족관','회원제형태업소','관광여행'] #문화/취미\n",
    "cat13 = ['기계공구','애완동물', '상품권', '과학기자재', '냉열기기', '기타광학제품', '카메라','대형할인점', '농축수산가공품','기타전기제품', '사무용OA기기', '기타농업관련','농기계', '조명기구', '보일러펌프샷시','일반가구', '목재석재철물','가전제품',\n",
    "         '농축수산품','정육점','주방용식기','주방용구','카페트,커튼,천막,지물','악기점','농,축협직영매장','농협하나로클럽','소매업','화방표구점','개인서비스업', '건강식품',\n",
    "         '골동품점', '구내매점', '기념품점', '기타건강식품', '기타사무용품', '기타용품', '문구용품', '문화취미기타', '미용재료', '기타직물', '비료','사료','종자', '성인용품점',\n",
    "         '완구점', '의료용품', '주류판매점', '페인트', '홍삼제품'] #도/소매업\n",
    "cat14 = ['슈퍼마켓', '편의점'] #편의점\n",
    "cat15 = ['중고자동차판매','렌터카','중장비수리','주차장','세차장','카인테리어','가타자동차서비스', '견인서비스', '수입자동차', '자동차부품', '자동차서비스', '자동차시트타이어', '자동차정비',\n",
    "         '중고차판매', '국산신차직영부품정비업소','국산신차판매',] #자동차 관련업\n",
    "cat16 = ['화장품', '피부미용실', '미용원','이용원'] #뷰티\n",
    "cat17 = ['여성청소년생필품','비영리/대상', '비영리/비대상'] #비영리\n",
    "cat18 = ['기타용역서비스','용역서비스',\n",
    "       '기타유통업', '사진관', '기타건축자재', '기타대인서비스', '인테리어전문', '세탁소',\n",
    "       '기타가구', '기타운송', '기타전문점', '건축용요업제품', '침구수예점', '소프트웨어',\n",
    "       '위탁급식업', '가정용품수리', '유류판매', '레저/서비스', '부동산중개임대', '출판및인쇄물',\n",
    "       '법률회계서비스(개인)', '화물운송', '민예공예품', '종합용역', '중고자동차판매', '제화', '컴퓨터',\n",
    "       '유리', '산후조리원', '인삼제품', '안마시술소', '비료,사료,종자', '옷감직물', '윤활유전문판매',\n",
    "       '미곡상', '기타수리서비스', '정보서비스', '혼수전문점', '가례서비스업', '인터넷Mall',\n",
    "       '혼례서비스', '기타연료', '법률회계서비스(법인)', '신변잡화수리', '조세서비스', '구내매점(국가기관등)',\n",
    "       '정수기', '보관및창고업', '정기간행물', '피아노대리점', '철제가구', '기타주방용구', '복지매장',\n",
    "       '자체물품대금', '상품권전문판매', '기타보험', '제약회사', '전자(상우회)', '양품점',\n",
    "       '조산원', '조세서비스(특약)', '연쇄점', '제조업', '교육용테이프판매', '부동산분양', 'CATV'] # 서비스/기타"
   ]
  },
  {
   "cell_type": "code",
   "execution_count": null,
   "id": "9a9928a6-071e-48b8-8d02-74fcaecf656d",
   "metadata": {},
   "outputs": [],
   "source": [
    "pay_store.replace(cat1,'요식업', inplace =True)\n",
    "pay_store.replace(cat2,'숙박업', inplace =True)\n",
    "pay_store.replace(cat3,'주유소', inplace =True)\n",
    "pay_store.replace(cat4,'의류/잡화', inplace =True)\n",
    "pay_store.replace(cat5,'병원', inplace =True)\n",
    "pay_store.replace(cat6,'카페/베이커리', inplace =True)\n",
    "pay_store.replace(cat7,'통신기기', inplace =True)\n",
    "pay_store.replace(cat8,'교육', inplace =True)\n",
    "pay_store.replace(cat9,'교통수단', inplace =True)\n",
    "pay_store.replace(cat10,'레저/스포츠', inplace =True)\n",
    "pay_store.replace(cat11,'주점', inplace =True)\n",
    "pay_store.replace(cat12,'문화/취미', inplace =True)\n",
    "pay_store.replace(cat13,'도/소매업', inplace =True)\n",
    "pay_store.replace(cat14,'편의점', inplace =True)\n",
    "pay_store.replace(cat15,'자동차 관련업', inplace =True)\n",
    "pay_store.replace(cat16,'뷰티', inplace =True)\n",
    "pay_store.replace(cat17,'비영리', inplace =True)\n",
    "pay_store.replace(cat18,'서비스/기타', inplace =True)"
   ]
  },
  {
   "cell_type": "code",
   "execution_count": null,
   "id": "19c1b414-7d7e-4cee-9d95-701599e13540",
   "metadata": {},
   "outputs": [],
   "source": [
    "pay_store[\"업종명(종목명)\"].unique()"
   ]
  },
  {
   "cell_type": "code",
   "execution_count": null,
   "id": "36461e4b-809e-486d-9712-ca3c61353cb1",
   "metadata": {},
   "outputs": [],
   "source": [
    "pay_store"
   ]
  },
  {
   "cell_type": "markdown",
   "id": "60e55ef1-d1bf-4a59-a844-79a55d241f5a",
   "metadata": {},
   "source": [
    "- 가맹점 데이터 시각화"
   ]
  },
  {
   "cell_type": "code",
   "execution_count": null,
   "id": "f7ca88bf-a163-42a0-9f5d-f0f2034dac8c",
   "metadata": {},
   "outputs": [],
   "source": [
    "plt.figure(figsize = (5,10))\n",
    "fig = sns.barplot(x = pay_store.시.value_counts(), y = pay_store.시.value_counts().index)\n",
    "plt.xlabel(None)\n",
    "plt.ylabel(None)\n",
    "plt.title('시 별 가맹점 수 합계')\n",
    "plt.show()"
   ]
  },
  {
   "cell_type": "code",
   "execution_count": null,
   "id": "b91c93f8-fa09-42c3-b1c1-ea99f681286f",
   "metadata": {},
   "outputs": [],
   "source": [
    "plt.figure(figsize = (5,10))\n",
    "sns.barplot(x = pay_store[\"업종명(종목명)\"].value_counts(), y =  pay_store[\"업종명(종목명)\"].value_counts().index)\n",
    "plt.xlabel(None)\n",
    "plt.ylabel(None)\n",
    "plt.title('업종별 가맹점 수 합계')\n",
    "plt.show()"
   ]
  },
  {
   "cell_type": "code",
   "execution_count": null,
   "id": "9407f528-c87c-4fc7-b05c-52024b10f168",
   "metadata": {},
   "outputs": [],
   "source": [
    "# 업종 비율 트리맵\n",
    "! pip install squarify\n",
    "import squarify\n",
    "plt.rcParams['font.size'] = 20\n",
    "fig, ax = plt.subplots(1, figsize = (20,10))\n",
    "squarify.plot(pay_store[\"업종명(종목명)\"].value_counts(),label=pay_store[\"업종명(종목명)\"].value_counts().index)\n",
    "plt.axis('off')\n",
    "plt.show()"
   ]
  },
  {
   "cell_type": "markdown",
   "id": "8e6b0a5e-c5a2-49da-8546-80295466e0f0",
   "metadata": {},
   "source": [
    "- 지도 시각화"
   ]
  },
  {
   "cell_type": "code",
   "execution_count": null,
   "id": "93b0457d-bdeb-450d-bf08-1b2b27f1df76",
   "metadata": {},
   "outputs": [],
   "source": [
    "#시 별 가맹점 수 데이터 프레임 생성\n",
    "gg_city = pd.Series(data = pay_store.시군구.value_counts(),\n",
    "                  index = pay_store.시군구.value_counts().index)\n"
   ]
  },
  {
   "cell_type": "code",
   "execution_count": null,
   "id": "d0c612ad-a91d-4de0-965e-e33214108798",
   "metadata": {
    "tags": []
   },
   "outputs": [],
   "source": [
    "gg_city"
   ]
  },
  {
   "cell_type": "code",
   "execution_count": null,
   "id": "7bb9b7ac-e961-40c9-8d98-36033e2e68e4",
   "metadata": {},
   "outputs": [],
   "source": [
    "# 한국 좌표 geojson\n",
    "geojson = \"https://raw.githubusercontent.com/southkorea/southkorea-maps/master/kostat/2018/json/skorea-municipalities-2018-geo.json\""
   ]
  },
  {
   "cell_type": "code",
   "execution_count": null,
   "id": "451b6caa-7af1-403d-bb58-db0a93b87465",
   "metadata": {},
   "outputs": [],
   "source": [
    "text_data = urllib.request.urlopen(geojson).read().decode('utf-8')\n",
    "gg = json.loads(text_data)"
   ]
  },
  {
   "cell_type": "code",
   "execution_count": null,
   "id": "8704a402-e802-4681-9668-66804cb87e0f",
   "metadata": {
    "tags": []
   },
   "outputs": [],
   "source": [
    "# 고양시, 수원시, 성남시, 용인시, 안양시, 안산시\n",
    "gg_city"
   ]
  },
  {
   "cell_type": "code",
   "execution_count": null,
   "id": "92fa7ed6-c10e-4eda-be96-01657fce8e0e",
   "metadata": {
    "scrolled": true,
    "tags": []
   },
   "outputs": [],
   "source": [
    "city_names = [feature['properties']['name'] for feature in gg['features']]\n",
    "city_names"
   ]
  },
  {
   "cell_type": "code",
   "execution_count": null,
   "id": "f9f56cd5-b692-4a19-8009-ad645245c1b2",
   "metadata": {
    "scrolled": true,
    "tags": []
   },
   "outputs": [],
   "source": [
    "gg_city"
   ]
  },
  {
   "cell_type": "code",
   "execution_count": null,
   "id": "407cb805-1e0e-48c9-9760-73f0d72d5fc2",
   "metadata": {},
   "outputs": [],
   "source": [
    "bins = [np.percentile(gg_city.values, i) for i in range(0, 101, 25)]\n",
    "bins"
   ]
  },
  {
   "cell_type": "code",
   "execution_count": null,
   "id": "dc55b23b-3782-45a6-aead-24c0df924dab",
   "metadata": {},
   "outputs": [],
   "source": [
    "#가맹점 분포 지도\n",
    "\n",
    "map = g.Map(location = [37.5502, 126.982], zoom_start = 8,tiles='cartodbpositron')\n",
    "g.Choropleth(geo_data = geojson,\n",
    "                  data = gg_city,\n",
    "                  # columns= [gg_city.index, gg_city],\n",
    "                  threshold_scale=bins,\n",
    "                  fill_color='YlGn',\n",
    "                  line_opacity=0.5,\n",
    "                  fill_opacity=0.7,\n",
    "                  key_on='feature.properties.name').add_to(map)\n",
    "map"
   ]
  },
  {
   "cell_type": "markdown",
   "id": "355a00cf-cabb-461b-9d1e-2fc50e0eea8d",
   "metadata": {},
   "source": [
    "### 연령별/성별 지역화폐 이용 현황"
   ]
  },
  {
   "cell_type": "code",
   "execution_count": null,
   "id": "61a9b9fa-1f1d-48e6-b631-b406fc2c6a2a",
   "metadata": {},
   "outputs": [],
   "source": [
    "# 연령별, 성별 이용현환 csv 파일 불러오기\n",
    "sex = pd.read_csv('datas/payage.csv',index_col = False, low_memory=False)"
   ]
  },
  {
   "cell_type": "code",
   "execution_count": null,
   "id": "bc362d5a-086e-4351-a7e5-7ce6b364eab6",
   "metadata": {},
   "outputs": [],
   "source": [
    "sex = sex[(sex['성별'] == '남') | (sex['성별'] == '여')]  # 불러온 파일의 column중 성별에서 남,여만 나오게 추출\n",
    "sex[\"연령대\"] = sex['연령대'].str[:2] # 연령대에서 두 글자까지의 개수만 출력 \n",
    "sex=sex.iloc[:,0:6]   # 성별이용현황 성별: nan값 뺀 거\n",
    "sex2021 = sex[sex.기준연도==2021]\n",
    "sex21=sex2021.set_index('기준연도')"
   ]
  },
  {
   "cell_type": "code",
   "execution_count": null,
   "id": "b64973ba-bd13-4b23-85fb-14e57a04381a",
   "metadata": {},
   "outputs": [],
   "source": [
    "se = sex21[(sex21['연령대'] == '10')|(sex21['연령대'] == '20')|(sex21['연령대'] == '30')|(sex21['연령대'] == '40')|(sex21['연령대'] == '50')|(sex21['연령대'] == '60')|(sex21['연령대'] == '70')]\n",
    "se   # 연령대에서 10~70대까지의 값만 가질수있게 함"
   ]
  },
  {
   "cell_type": "code",
   "execution_count": null,
   "id": "1a9dc953-9039-446d-81bc-762ec44068fc",
   "metadata": {},
   "outputs": [],
   "source": [
    "# 불러온 csv 파일에 겹치는 데이터가 많아서 type을 바꿔주고 drop을 사용하여 중복된 값 삭제\n",
    "se.성별 = se.성별.astype('category')\n",
    "se.연령대 = se.연령대.astype('int')"
   ]
  },
  {
   "cell_type": "code",
   "execution_count": null,
   "id": "7aacc3df-d13c-4e20-9d4c-47d1979b4f64",
   "metadata": {},
   "outputs": [],
   "source": [
    "se.info()"
   ]
  },
  {
   "cell_type": "code",
   "execution_count": null,
   "id": "116fdc37-6aac-4a16-a5d2-d030ae6f7eb4",
   "metadata": {},
   "outputs": [],
   "source": [
    "se.drop_duplicates(inplace=True)"
   ]
  },
  {
   "cell_type": "code",
   "execution_count": null,
   "id": "48959750-fa06-4493-bb07-fe1fa42807a3",
   "metadata": {},
   "outputs": [],
   "source": [
    "man = se[se['성별'] == '남']  # 남자 데이터만 나오게 한다.\n",
    "man"
   ]
  },
  {
   "cell_type": "code",
   "execution_count": null,
   "id": "9fcaffb6-d73b-4059-a7b3-2868eb28aba2",
   "metadata": {},
   "outputs": [],
   "source": [
    "man_10_1 = man[man['연령대'] == 10]\n",
    "man_20_1 = man[man['연령대'] == 20]\n",
    "man_30_1 = man[man['연령대'] == 30]\n",
    "man_40_1 = man[man['연령대'] == 40]\n",
    "man_50_1 = man[man['연령대'] == 50]\n",
    "man_60_1 = man[man['연령대'] == 60]\n",
    "man_70_1 = man[man['연령대'] == 70]"
   ]
  },
  {
   "cell_type": "code",
   "execution_count": null,
   "id": "79cfc76d-dc38-4164-90ca-7cfa58915f83",
   "metadata": {},
   "outputs": [],
   "source": [
    "# 결제금액의 합을 구하고 경기도 연령별 남자 인구를 나누면\n",
    "# 경기도 연령별 연 평균 결제금액이 나온다.\n",
    "a = round((man_10_1['결제금액'].sum()/698771),0)\n",
    "b = round((man_20_1['결제금액'].sum()/1273058),0)\n",
    "c = round((man_30_1['결제금액'].sum()/1301183),0)\n",
    "d = round((man_40_1['결제금액'].sum()/1368463),0)\n",
    "e = round((man_50_1['결제금액'].sum()/1229784),0)\n",
    "f = round((man_60_1['결제금액'].sum()/827358),0)\n",
    "g = round((man_70_1['결제금액'].sum()/463035),0)"
   ]
  },
  {
   "cell_type": "code",
   "execution_count": null,
   "id": "1d2d2e40-3d49-4dc7-bde5-2495d4ada40e",
   "metadata": {},
   "outputs": [],
   "source": [
    "woman = se[se['성별'] == '여'] # 여자 데이터만 출력한다."
   ]
  },
  {
   "cell_type": "code",
   "execution_count": null,
   "id": "0aee470c-7ca3-4948-b209-03c63c2e00fb",
   "metadata": {},
   "outputs": [],
   "source": [
    "woman_10_1 = woman[woman['연령대'] == 10] #10대\n",
    "woman_20_1 = woman[woman['연령대'] == 20] #20대\n",
    "woman_30_1 = woman[woman['연령대'] == 30] #30대\n",
    "woman_40_1 = woman[woman['연령대'] == 40] #40대\n",
    "woman_50_1 = woman[woman['연령대'] == 50] #50대\n",
    "woman_60_1 = woman[woman['연령대'] == 60] #60대\n",
    "woman_70_1 = woman[woman['연령대'] == 70] #70대"
   ]
  },
  {
   "cell_type": "code",
   "execution_count": null,
   "id": "20c52246-a5a1-44c2-988d-0352e9e71bdc",
   "metadata": {},
   "outputs": [],
   "source": [
    "# 결제금액의 합을 구하고 경기도 연령별 여성 인구를 나눈다\n",
    "q = round((woman_10_1['결제금액'].sum()/696715),0) \n",
    "w = round((woman_20_1['결제금액'].sum()/1197362),0)\n",
    "e = round((woman_30_1['결제금액'].sum()/1215053),0)\n",
    "r = round((woman_40_1['결제금액'].sum()/1288006),0)\n",
    "t = round((woman_50_1['결제금액'].sum()/1227040),0)\n",
    "n = round((woman_60_1['결제금액'].sum()/843535),0)\n",
    "u = round((woman_70_1['결제금액'].sum()/539107),0)"
   ]
  },
  {
   "cell_type": "code",
   "execution_count": null,
   "id": "201470fa-9d5d-4204-96ad-a90b430faf6c",
   "metadata": {},
   "outputs": [],
   "source": [
    "# 남자 연령별 1인 연 평균 사용 비율 데이터프레임으로 만든다\n",
    "x = ['10대','20대','30대','40대','50대','60대','70대']\n",
    "y = [a,b,c,d,e,f,g]\n",
    "\n",
    "df = pd.DataFrame({'연령':x,'화폐':y}, columns=['연령','화폐'])\n",
    "df"
   ]
  },
  {
   "cell_type": "code",
   "execution_count": null,
   "id": "8a4f65b8-1a7a-4d68-8e0a-595cfd3138b8",
   "metadata": {},
   "outputs": [],
   "source": [
    "# 여자 연령별 1인 연 평균 사용 비율 데이터프레임으로 만든다\n",
    "x = ['10대','20대','30대','40대','50대','60대','70대']\n",
    "y = [q,w,e,r,t,n,u] \n",
    "\n",
    "wy = pd.DataFrame({'연령':x,'화폐':y}, columns=['연령','화폐'])\n",
    "wy"
   ]
  },
  {
   "cell_type": "code",
   "execution_count": null,
   "id": "8107b9e9-850c-4652-a78f-31b8845698fb",
   "metadata": {},
   "outputs": [],
   "source": [
    "df['성별'] = '남'  # 성별 column 추가\n",
    "df"
   ]
  },
  {
   "cell_type": "code",
   "execution_count": null,
   "id": "302a72d9-9de4-481a-bd46-3f9ab8583fbf",
   "metadata": {},
   "outputs": [],
   "source": [
    "wy['성별'] = '여' \n",
    "wy"
   ]
  },
  {
   "cell_type": "code",
   "execution_count": null,
   "id": "3f423e9d-15cd-4321-b6e5-87bf80c65f7d",
   "metadata": {},
   "outputs": [],
   "source": [
    "# 남, 여 데이터프레임 합침\n",
    "result = pd.concat([df, wy], axis=0) "
   ]
  },
  {
   "cell_type": "code",
   "execution_count": null,
   "id": "6e485b9b-d8ef-428a-b008-4478d5c2d577",
   "metadata": {},
   "outputs": [],
   "source": [
    "# 인덱스 값 0부터 순차적으로 진행되게 한다.\n",
    "result.reset_index(inplace=True, drop=True)\n",
    "result"
   ]
  },
  {
   "cell_type": "code",
   "execution_count": null,
   "id": "30a11192-c425-4ce6-9a77-010462dbddb6",
   "metadata": {},
   "outputs": [],
   "source": [
    "ax = sns.lineplot(data=result, x ='연령', y='화폐', hue= '성별')\n",
    "plt.title('경기도 지역화폐 성별 1인 연평균 결제량')\n",
    "current_values = plt.gca().get_yticks()\n",
    "plt.gca().set_yticklabels(['{:,.0f}'.format(x) for x in current_values])\n",
    "\n",
    "for patch in ax.patches:\n",
    "    # 2개의 patch 값을 가짐\n",
    "    ax.text(x = patch.get_x(),# + 100,\n",
    "            y = patch.get_height(),\n",
    "            s = f'{(patch.get_height()):1.0f}',\n",
    "            ha = 'left')\n",
    "plt.rc('font', size=11)\n",
    "plt.savefig('성별 이용량.png',bbox_inches='tight')"
   ]
  },
  {
   "cell_type": "markdown",
   "id": "33e4a17e-f681-4b7a-8752-294648c4eabd",
   "metadata": {},
   "source": [
    "# 지역및 연도별 카드 사용액"
   ]
  },
  {
   "cell_type": "code",
   "execution_count": null,
   "id": "f770eae9-000d-4c58-aca8-de71f86b0deb",
   "metadata": {},
   "outputs": [],
   "source": [
    "local_g = pd.read_csv('datas/지역화폐발행및이용현황.csv', encoding='CP949', low_memory=False)\n",
    "local_g = local_g.drop(['월별모바일상품권이용등록자수(명)', '월별모바일충전액(천원)', '월별모바일사용액(천원)', '월별지류상품권판매액(천원)', '월별지류상품권회수액(천원)'], axis=1)\n",
    "\n",
    "local_g['기준년월'] = local_g['기준년월'].str.split('-').str[0] \n",
    "\n",
    "local_g1 = local_g.groupby(['시군명', '기준년월']).sum()\n",
    "local_g1 = local_g1.drop(['월별카드발행수량(건)', '월별카드충전액(천원)'], axis=1)\n",
    "\n",
    "# 도시별 년도별 총 사용량으로 나눔\n",
    "temp3 = local_g1.reset_index()\n",
    "pivot_temp = pd.pivot_table(temp3,\n",
    "               index = \"시군명\",\n",
    "               columns = \"기준년월\",\n",
    "               values = \"월별카드사용액(천원)\")\n",
    "pivot_temp\n",
    "\n",
    "temp4 = pivot_temp.reset_index()\n",
    "temp4.drop([7, 13], inplace=True)\n",
    "temp4\n",
    "\n",
    "ax = temp4.plot(x='시군명', kind='bar', figsize=(30, 20), rot=0)\n",
    "\n",
    "# x, y축 레이블, 그래프 제목 설정\n",
    "\n",
    "ax.set_xlabel('지역')\n",
    "ax.set_ylabel('카드사용액')\n",
    "ax.set_title('지역 및 연도별 카드 사용액')\n",
    "\n",
    "plt.xticks(rotation=90)\n",
    "\n",
    "\n",
    "\n",
    "# 범례 추가\n",
    "ax.legend(title='Year')\n",
    "\n",
    "plt.show()"
   ]
  },
  {
   "cell_type": "code",
   "execution_count": null,
   "id": "c2de9d43-6511-46ec-89ec-9c97f0346c51",
   "metadata": {},
   "outputs": [],
   "source": [
    "local_g = pd.read_csv('datas/지역화폐발행및이용현황.csv', encoding='CP949', low_memory=False)"
   ]
  },
  {
   "cell_type": "code",
   "execution_count": null,
   "id": "d6fcacfc-3b4b-4361-832c-b07d8361a0e1",
   "metadata": {},
   "outputs": [],
   "source": [
    "local_22 = local_g[local_g['기준년월'] > '2022']  ## 22년도 경기도 자료\n",
    "local_21 = local_g[local_g['기준년월'] > '2021'] \n",
    "local_21 = local_21[local_21['기준년월'] < '2022']  ## 21년도 경기도 자료\n",
    "local_20 = local_g[local_g['기준년월'] > '2020']\n",
    "local_20 = local_20[local_20['기준년월'] < '2021']  ## 20년도 경기도 자료\n",
    "local_19 = local_g[local_g['기준년월'] > '2019']\n",
    "local_19 = local_19[local_19['기준년월'] < '2020']  ## 19년도 경기도 자료\n",
    "\n",
    "total_19 = local_19[['월별카드발행수량(건)', '월별카드충전액(천원)', '월별카드사용액(천원)']].sum()\n",
    "total_20 = local_20[['월별카드발행수량(건)', '월별카드충전액(천원)', '월별카드사용액(천원)']].sum()\n",
    "total_21 = local_21[['월별카드발행수량(건)', '월별카드충전액(천원)', '월별카드사용액(천원)']].sum()\n",
    "total_22 = local_22[['월별카드발행수량(건)', '월별카드충전액(천원)', '월별카드사용액(천원)']].sum()\n",
    "\n",
    "total_19\n",
    "print(total_21)\n",
    "total_21"
   ]
  },
  {
   "cell_type": "code",
   "execution_count": null,
   "id": "d73ae83d-5102-4448-925d-16cda0c099a1",
   "metadata": {},
   "outputs": [],
   "source": [
    "# 지역화폐발행및이용현황.csv 파일에서 필요없는 컬럼 삭제하고 카드 자료만 남김\n",
    "local_g = local_g.drop(['월별모바일상품권이용등록자수(명)', '월별모바일충전액(천원)', '월별모바일사용액(천원)', '월별지류상품권판매액(천원)', '월별지류상품권회수액(천원)'], axis=1)"
   ]
  },
  {
   "cell_type": "code",
   "execution_count": null,
   "id": "8b617057-4541-4964-9dd2-eeeacc95ea42",
   "metadata": {},
   "outputs": [],
   "source": [
    "# 년도별 시군별 카드 사용액으로 나눔\n",
    "local_g['기준년월'] = local_g['기준년월'].str.split('-').str[0] \n",
    "\n",
    "local_g1 = local_g.groupby(['시군명', '기준년월']).sum()\n",
    "local_g1 = local_g1.drop(['월별카드발행수량(건)', '월별카드충전액(천원)'], axis=1)\n",
    "local_g1"
   ]
  },
  {
   "cell_type": "code",
   "execution_count": null,
   "id": "0fda22b1-4843-4811-a7ee-ae2f08f00c67",
   "metadata": {},
   "outputs": [],
   "source": [
    "#  년도별 시군별 총 사용액으로 나눔\n",
    "temp3 = local_g1.reset_index()\n",
    "pivot_temp = pd.pivot_table(temp3,\n",
    "               index = \"시군명\",\n",
    "               columns = \"기준년월\",\n",
    "               values = \"월별카드사용액(천원)\")\n",
    "pivot_temp\n",
    "\n",
    "temp4 = pivot_temp.reset_index()\n",
    "temp4.drop([7, 13], inplace=True)  # 자료가 없는 시흥과 김포 삭제\n",
    "temp4"
   ]
  },
  {
   "cell_type": "code",
   "execution_count": null,
   "id": "6a7ae7f6-9f79-42fe-9abf-6ac3958fd90d",
   "metadata": {},
   "outputs": [],
   "source": [
    "# 19년도 부터 22년도까지의 시, 및 군별 사용 총액  김포시와 시흥시는 값이 없어서 삭제함\n",
    "temp1 = local_g.groupby('시군명').sum()\n",
    "temp1 = temp1.rename({'월별카드발행수량(건)': '카드발행수량',\n",
    "              '월별카드충전액(천원)': '카드충전액',\n",
    "              '월별카드사용액(천원)': '카드사용액'\n",
    "             }, axis=1).reset_index().drop(['카드충전액','카드발행수량'], axis=1)\n",
    "temp1['카드사용액(백만원)'] = temp1['카드사용액'] / 1000\n",
    "temp1.drop('카드사용액', axis=1, inplace=True)\n",
    "temp1.sort_values(by='카드사용액(백만원)', ascending=False, inplace = True)\n",
    "temp1.drop([13, 7], inplace=True)\n",
    "\n",
    "temp1"
   ]
  },
  {
   "cell_type": "markdown",
   "id": "d52703c5-dbde-41f8-bd27-dbefebbfc9d8",
   "metadata": {},
   "source": [
    "# 경기도 시군별 카드 총사용액 그래프"
   ]
  },
  {
   "cell_type": "code",
   "execution_count": null,
   "id": "129e1646-f401-44ae-ab5b-e8aef3d64dd0",
   "metadata": {},
   "outputs": [],
   "source": [
    "# 경기도 시군별 카드 총 사용액\n",
    "plt.figure(figsize=(50,30))  \n",
    "plt.rc('font', size=20)\n",
    "plt.rc('axes', labelsize=40)   \n",
    "plt.rc('xtick', labelsize=40)   \n",
    "plt.rc('ytick', labelsize=40)  \n",
    "plt.xticks(rotation = 0)\n",
    "sns.barplot(data=temp1, x=\"카드사용액(백만원)\", y=\"시군명\") \n",
    "plt.title('경기도 시군별 카드 총사용액(19 - 22년)', size=70)\n",
    "plt.xlabel('카드 사용액')\n",
    "\n",
    "plt.show()\n"
   ]
  },
  {
   "cell_type": "code",
   "execution_count": null,
   "id": "d8434474-8a32-4afd-8000-2146ac805b4b",
   "metadata": {},
   "outputs": [],
   "source": [
    "# 경기도 년도별 사용량 비교를 위해 자료를 다시 불러옴.\n",
    "local_g = pd.read_csv('datas/지역화폐발행및이용현황.csv', encoding='CP949', low_memory=False)"
   ]
  },
  {
   "cell_type": "code",
   "execution_count": null,
   "id": "de31f212-f6a7-4646-a675-ad783711ddc0",
   "metadata": {},
   "outputs": [],
   "source": [
    "local_22 = local_g[local_g['기준년월'] > '2022']  ## 22년도 경기도 자료\n",
    "local_21 = local_g[local_g['기준년월'] > '2021'] \n",
    "local_21 = local_21[local_21['기준년월'] < '2022']  ## 21년도 경기도 자료\n",
    "local_20 = local_g[local_g['기준년월'] > '2020']\n",
    "local_20 = local_20[local_20['기준년월'] < '2021']  ## 20년도 경기도 자료\n",
    "local_19 = local_g[local_g['기준년월'] > '2019']\n",
    "local_19 = local_19[local_19['기준년월'] < '2020']  ## 19년도 경기도 자료\n",
    "\n",
    "total_19 = local_19[['월별카드발행수량(건)', '월별카드충전액(천원)', '월별카드사용액(천원)']].sum()\n",
    "total_20 = local_20[['월별카드발행수량(건)', '월별카드충전액(천원)', '월별카드사용액(천원)']].sum()\n",
    "total_21 = local_21[['월별카드발행수량(건)', '월별카드충전액(천원)', '월별카드사용액(천원)']].sum()\n",
    "total_22 = local_22[['월별카드발행수량(건)', '월별카드충전액(천원)', '월별카드사용액(천원)']].sum()\n",
    "\n",
    "total_19\n",
    "print(total_21)\n",
    "total_21"
   ]
  },
  {
   "cell_type": "code",
   "execution_count": null,
   "id": "c6cb1a96-0af4-4fe7-9a6c-f4c22cc3f665",
   "metadata": {},
   "outputs": [],
   "source": [
    "# 도시별 년도별 총 사용량으로 나눔\n",
    "temp3 = local_g1.reset_index()\n",
    "pivot_temp = pd.pivot_table(temp3,\n",
    "               index = \"시군명\",\n",
    "               columns = \"기준년월\",\n",
    "               values = \"월별카드사용액(천원)\")\n",
    "pivot_temp\n",
    "\n",
    "temp4 = pivot_temp.reset_index()\n",
    "temp4.drop([7, 13], inplace=True)\n",
    "temp4"
   ]
  },
  {
   "cell_type": "code",
   "execution_count": null,
   "id": "214eaca3-bd83-4ddd-9be6-8232d59bf9b9",
   "metadata": {},
   "outputs": [],
   "source": [
    "# 연도별 경기도 자료를 데이터프레임화 시키기\n",
    "\n",
    "a = pd.DataFrame(total_19)\n",
    "b = pd.DataFrame(total_20)\n",
    "c = pd.DataFrame(total_21)\n",
    "d = pd.DataFrame(total_22)\n",
    "\n",
    "total = pd.DataFrame([total_19, total_20, total_21, total_22])\n",
    "total = total.rename({0: '2019년',\n",
    "              1: '2020년',\n",
    "              2: '2021년',\n",
    "              3: '2022년'\n",
    "             })\n",
    "total = total.rename({'월별카드발행수량(건)' : '카드발행수량(건)',\n",
    "              '월별카드충전액(천원)' : '카드충전액(천원)',\n",
    "              '월별카드사용액(천원)' : '카드사용액(천원)'} , axis=1)\n",
    "\n",
    "total[['카드충전액(백만원)', '카드사용액(백만원)']] = total[['카드충전액(천원)', '카드사용액(천원)']] / 1000  # 단위가 크기때문에 줄여줌\n",
    "\n",
    "total.drop(['카드충전액(천원)', '카드사용액(천원)'], axis=1, inplace=True)\n",
    "total.reset_index(inplace=True)\n",
    "total.rename({'index': '년도'}, axis=1, inplace=True)"
   ]
  },
  {
   "cell_type": "markdown",
   "id": "f48b687a-6966-4f96-a8f4-8f19fdd8d5cf",
   "metadata": {},
   "source": [
    "# 경기도 연도별 카드발행 수량 및 충전액/사용액 그래프"
   ]
  },
  {
   "cell_type": "code",
   "execution_count": null,
   "id": "7fc03090-4033-48b1-9fdc-a74bf89cfda7",
   "metadata": {},
   "outputs": [],
   "source": [
    "# 그래프 그리기\n",
    "fig, ax1 = plt.subplots(figsize=(20, 10))\n",
    "\n",
    "n = len(total['년도'].unique())\n",
    "index = np.arange(n)\n",
    "\n",
    "bar_width = 0.3\n",
    "ax1.bar(index - bar_width/2, total['카드충전액(백만원)'], width=bar_width, color='green', label='카드충전액(백만원)')\n",
    "ax1.bar(index + bar_width/2, total['카드사용액(백만원)'], width=bar_width, color='blue', label='카드사용액(백만원)')\n",
    "ax1.legend(loc=2)\n",
    "ax1.set_ylabel('카드충전액 / 카드사용액', fontsize=25)\n",
    "ax2 = ax1.twinx()\n",
    "ax2.set_xlabel('년도', fontsize=10)\n",
    "ax2.set_ylabel('카드발행수량', fontsize=25)\n",
    "ax2.plot(total['년도'], total['카드발행수량(건)'], marker='s', color='red')\n",
    "ax2.legend(['카드발행수량(건)'], loc=6)\n",
    "\n",
    "\n",
    "plt.title('경기도 연도별 카드발행 수량 및 충전액/사용액', fontsize=35)\n",
    "plt.grid(visible = False)\n",
    "\n",
    "plt.show()"
   ]
  },
  {
   "cell_type": "code",
   "execution_count": null,
   "id": "17da78c4-edec-4d9a-a2cf-034b6eb9407c",
   "metadata": {},
   "outputs": [],
   "source": [
    "# 인구 및 지역화폐 이용 내역의 차이를 보여주기 위해 주민등록 인구 집계 현황을 불러옴\n",
    "population = pd.read_csv('datas/주민등록인구집계현황.csv', encoding='CP949', low_memory=False)\n",
    "population['행정구역명'] = population['행정구역명'].str.strip()\n",
    "\n",
    "\n",
    "# 필요없는 컬럼 삭제\n",
    "population = population.drop(['월', '0~9세', '10~19세', '20~29세', '30~39세',\n",
    "       '40~49세', '50~59세', '60~69세', '70~79세', '80~89세', '90~99세', '100세 이상',\n",
    "       '총 인구수 (남)', '0~9세 (남)', '10~19세 (남)', '20~29세 (남)', '30~39세 (남)',\n",
    "       '40~49세 (남)', '50~59세 (남)', '60~69세 (남)', '70~79세 (남)', '80~89세 (남)',\n",
    "       '90~99세 (남)', '100세 이상 (남)', '총 인구수 (여)', '0~9세 (여)', '10~19세 (여)',\n",
    "       '20~29세 (여)', '30~39세 (여)', '40~49세 (여)', '50~59세 (여)', '60~69세 (여)',\n",
    "       '70~79세 (여)', '80~89세 (여)', '90~99세 (여)', '100세 이상 (여)'], axis=1)\n",
    "\n",
    "# 인구에서 시군으로만 나오게 \n",
    "population = population[population['행정구역구분명'] == '시군']\n",
    "\n",
    "# 행정구역 보기 쉽게 \n",
    "population['행정구역명_2'] = population['행정구역명'].str.split(' ').str[1]  # 행정구역 보기 쉽게\n",
    "population = population.drop(['행정구역구분명', '행정구역명'], axis=1)\n",
    "population.reset_index(drop = True)\n",
    "\n",
    "# 인구 연도 19년도에서 22년 까지만 비교를 하기 위해 나머지 년도의 자료는 삭제\n",
    "population = population[population['연도'] >= 2019]\n",
    "population = population[population['연도'] <= 2022]\n"
   ]
  },
  {
   "cell_type": "code",
   "execution_count": null,
   "id": "d75a57ef-5654-4266-87e0-da651387c395",
   "metadata": {},
   "outputs": [],
   "source": [
    "population.astype({\"총 인구수\": \"int\"})"
   ]
  },
  {
   "cell_type": "code",
   "execution_count": null,
   "id": "1884e99d-9b80-45f9-90a7-54da393d6c2d",
   "metadata": {},
   "outputs": [],
   "source": [
    "# 인구 및 지역화폐 분석을 위해 다시 불러옴\n",
    "temp1 = local_g.groupby('시군명').sum()\n",
    "temp1 = temp1.rename({'월별카드발행수량(건)': '카드발행수량',\n",
    "              '월별카드충전액(천원)': '카드충전액',\n",
    "              '월별카드사용액(천원)': '카드사용액'\n",
    "             }, axis=1).reset_index().drop(['카드충전액','카드발행수량', '월별모바일상품권이용등록자수(명)', '월별모바일충전액(천원)', '월별모바일사용액(천원)', '월별지류상품권판매액(천원)','월별지류상품권회수액(천원)'], axis=1)\n",
    "temp1['카드사용액(백만원)'] = temp1['카드사용액'] / 1000\n",
    "temp1.drop('카드사용액', axis=1, inplace=True)\n",
    "temp1.sort_values(by='카드사용액(백만원)', ascending=False, inplace = True)\n",
    "temp1.drop([13, 7], inplace=True)\n",
    "\n",
    "use = temp1\n",
    "use = use.sort_values('시군명')  \n",
    "\n",
    "use"
   ]
  },
  {
   "cell_type": "code",
   "execution_count": null,
   "id": "ae5543ce-1749-404e-a8c4-f1fb4ea375d5",
   "metadata": {},
   "outputs": [],
   "source": [
    "pivot_temp1 = pd.pivot_table(population,\n",
    "               index = \"행정구역명_2\",\n",
    "               columns = \"연도\",\n",
    "               values = \"총 인구수\",\n",
    "               aggfunc = 'mean' )\n",
    "\n",
    "# 필요 없는 행정구역 삭제\n",
    "a = pivot_temp1.reset_index()\n",
    "a.drop([17, 30, 33], axis=0, inplace=True)\n",
    "a.set_index('행정구역명_2')\n",
    "\n",
    "# 경기도 시군별 19년도부터 21년도까지의 평균 인구를 구하기\n",
    "a['인구평균'] = a.mean(axis='columns')\n",
    "\n",
    "pop_means = a.drop([2019, 2020, 2021, 2022], axis=1)  # 행정구역 별 인구 평균\n",
    "\n",
    "pop_means['인구비율'] = pop_means[\"인구평균\"]/pop_means[\"인구평균\"].sum()*100  # 구한 평균을 통해 인구 비율을 구함\n",
    "\n",
    "pop_means = pop_means.drop([7, 13], axis=0) # 자료가 없었던 김포시와 시흥시 삭제\n",
    "\n",
    "pop_means = pop_means.set_index('행정구역명_2')"
   ]
  },
  {
   "cell_type": "code",
   "execution_count": null,
   "id": "cb05c942-6a7d-47b4-8b9f-cb47ee5cdb22",
   "metadata": {},
   "outputs": [],
   "source": [
    "use['temp'] = use['카드사용액(백만원)'] / use['카드사용액(백만원)'].sum()*100  #카드 사용액의 비율을 구하기 위한 임시 파일\n",
    "use = use.set_index('시군명')  # 시군 정렬\n",
    "pop_means['총사용액'] = use['카드사용액(백만원)'] \n",
    "pop_means['사용비율'] = pop_means['총사용액']/pop_means[\"총사용액\"].sum()*100\n",
    "pop_means=pop_means.reset_index()\n"
   ]
  },
  {
   "cell_type": "code",
   "execution_count": null,
   "id": "9ac87660-a40b-4d0b-9638-ae1aaf9654c6",
   "metadata": {
    "scrolled": true,
    "tags": []
   },
   "outputs": [],
   "source": [
    "import matplotlib as mpl\n",
    "# Add every font at the specified location\n",
    "font_dir = ['./fonts']\n",
    "for font in mpl.font_manager.findSystemFonts(fontpaths=font_dir):\n",
    "    print(mpl.font_manager.FontProperties(fname=font).get_name())\n",
    "    mpl.font_manager.fontManager.addfont(font)"
   ]
  },
  {
   "cell_type": "code",
   "execution_count": null,
   "id": "58a23564-8146-40b2-8080-37c5e2310b7d",
   "metadata": {},
   "outputs": [],
   "source": [
    "mpl.rcParams['font.family'] = 'Noto Sans KR'\n",
    "print(mpl.rcParams['font.family'])"
   ]
  },
  {
   "cell_type": "code",
   "execution_count": null,
   "id": "43534eb9-ca90-4031-959d-18cebce41c2d",
   "metadata": {},
   "outputs": [],
   "source": [
    "global_font = {'family':'NanumGothic','size':12,'weight':'bold'}\n",
    "\n",
    "#폰트 설정\n",
    "mpl.rc('font',**global_font)"
   ]
  },
  {
   "cell_type": "markdown",
   "id": "cf4ccc43-c847-4305-a6f9-c8a26cc430dc",
   "metadata": {},
   "source": [
    "# 인구 및 지역화폐 결제금액 비율"
   ]
  },
  {
   "cell_type": "code",
   "execution_count": null,
   "id": "0c4d4702-78c6-44f4-a034-1d89ec63a825",
   "metadata": {},
   "outputs": [],
   "source": [
    "#3.인구비율과 지역화폐 결제금액 비율을 동시에 시각화\n",
    "\n",
    "pop_df = pop_means[[\"행정구역명_2\", \"인구비율\",\"사용비율\"]]  \n",
    "pop_df = pop_df.set_index(\"행정구역명_2\") \n",
    "\n",
    "# 시군구별 인구 및 지역화폐 결재금액 시각화\n",
    "ax=pop_df.sort_values(by='인구비율', ascending=False).plot(kind='bar', figsize=(12, 8), legend=True, fontsize=12, color=['#E866BA','#98B3FF']) \n",
    "ax.set_xlabel('지역명', fontsize=12) \n",
    "ax.set_ylabel('비율', fontsize=12) \n",
    "plt.title(\"인구 및 지역화폐 결제금액 비율\", fontsize=15)\n",
    "ax.legend(['거주인구비율', '결제금액비율'], fontsize=12) \n",
    "plt.show()"
   ]
  },
  {
   "cell_type": "markdown",
   "id": "a26b2283-2bd9-4f36-8a8a-874a5ce9c384",
   "metadata": {},
   "source": [
    "# 인구 및 지역화폐 결제금액 그래프"
   ]
  },
  {
   "cell_type": "code",
   "execution_count": null,
   "id": "d9ac6834-aff0-43b5-81e1-7392efa3aed2",
   "metadata": {},
   "outputs": [],
   "source": [
    "# 인구평균과 총사용액 비교\n",
    "\n",
    "pop_df2 = pop_means[[\"행정구역명_2\", \"인구평균\",\"총사용액\"]]  \n",
    "\n",
    "pop_df2 = pop_df2.set_index('행정구역명_2')\n",
    "\n",
    "# 인구 및 지역화폐 결제 금액에 대한 표\n",
    "ax=pop_df2.sort_values(by='인구평균', ascending=False).plot(kind='bar', figsize=(12, 8), legend=True, fontsize=12, color=['#E866BA','#98B3FF']) \n",
    "ax.set_xlabel('인구평균', fontsize=12) \n",
    "ax.set_ylabel('인구수 및 결재금액', fontsize=12) \n",
    "plt.title(\"인구 및 지역화폐 결제금액\", fontsize=15)\n",
    "ax.legend(['총거주인구수', '결제금액'], fontsize=12) \n"
   ]
  },
  {
   "cell_type": "code",
   "execution_count": null,
   "id": "1a359dad-d884-4a99-83f4-f146da26f5fe",
   "metadata": {
    "scrolled": true,
    "tags": []
   },
   "outputs": [],
   "source": [
    "# 가구수에 따른 변화를 확인 하기 위한 작업 파일\n",
    "family = pd.read_csv('datas/세대원수별세대수집계현황.csv', encoding='CP949', low_memory=False)\n",
    "\n",
    "# 19년도 부터 21년까지의 자료만 사용\n",
    "family = family[family['연도'] >= 2019]\n",
    "\n",
    "# 시군 데이터만 사용\n",
    "family = family[family['행정구역구분명'] == '시군'] \n",
    "family['행정구역명'] = family['행정구역명'].str.split(' ').str[1]\n",
    "\n",
    "#필요 없는 데이터 삭제\n",
    "family.drop(['행정구역구분명'], axis=1, inplace=True)\n",
    "\n",
    "# 인덱스 수정\n",
    "family.set_index('행정구역명', inplace=True)\n",
    "\n",
    "# 3인 이상의 세대수는 하나로 통합\n",
    "family['3인 이상 세대수'] = family['3인 세대수'] + family['4인 세대수'] + family['5인 세대수'] + family['6인 세대수'] + family['7인 세대수'] + family['8인 세대수'] + family['9인 세대수'] + family['10인이상 세대수'] \n",
    "\n",
    "# 필요 없는 데이터 삭제\n",
    "family = family.drop(['3인 세대수', '4인 세대수', '5인 세대수', '6인 세대수', '7인 세대수', '8인 세대수', '9인 세대수', '10인이상 세대수'], axis=1)\n",
    "family = family[family['연도'] < 2023]\n",
    "\n",
    "\n",
    "family = family.groupby(['행정구역명','연도']).mean().drop(['월'], axis=1)\n",
    "\n",
    "family = family.groupby('행정구역명').mean()\n",
    "family = family.reset_index().drop([6, 13])\n",
    "family.reset_index()"
   ]
  },
  {
   "cell_type": "code",
   "execution_count": null,
   "id": "e3d272ff-b27f-4dd6-935f-f3d921b2573d",
   "metadata": {},
   "outputs": [],
   "source": [
    "family4 = family.loc[[12, 11, 30, 4]]\n",
    "family4.sort_values('행정구역명') "
   ]
  },
  {
   "cell_type": "code",
   "execution_count": null,
   "id": "a14710a4-dcdd-4c26-8523-428c365ca4c3",
   "metadata": {},
   "outputs": [],
   "source": [
    "family5 = family4.set_index('행정구역명').sort_index()\n",
    "family5"
   ]
  },
  {
   "cell_type": "markdown",
   "id": "fbb8f4b6-15b0-4e45-94dd-5d13a1872f98",
   "metadata": {},
   "source": [
    "# 가구별 비율 나타내기"
   ]
  },
  {
   "cell_type": "code",
   "execution_count": null,
   "id": "beda2e55-6498-4951-998b-1f0001ee01d4",
   "metadata": {},
   "outputs": [],
   "source": [
    "family5[\"1인가구 비율\"] = family5[\"1인 세대수\"] / family5[\"전체 세대수\"]*100\n",
    "family5[\"2인가구 비율\"] = family5[\"2인 세대수\"] / family5[\"전체 세대수\"]*100\n",
    "family5[\"3인이상 비율\"] = family5[\"3인 이상 세대수\"] / family5[\"전체 세대수\"]*100"
   ]
  },
  {
   "cell_type": "code",
   "execution_count": null,
   "id": "ebf478bf-d682-4e02-8970-1bd107a0e059",
   "metadata": {},
   "outputs": [],
   "source": [
    "family5 = family5.astype({\"1인 세대수\": \"int\",\n",
    "              \"2인 세대수\": \"int\",\n",
    "              \"3인 이상 세대수\": \"int\"})"
   ]
  },
  {
   "cell_type": "code",
   "execution_count": null,
   "id": "f9873909-b861-45fb-b52d-d1163def1b81",
   "metadata": {},
   "outputs": [],
   "source": [
    "family6 = family5.drop(['전체 세대수', '1인 세대수', '2인 세대수', '3인 이상 세대수'], axis=1)\n",
    "family6"
   ]
  },
  {
   "cell_type": "code",
   "execution_count": null,
   "id": "bda54f6c-63de-4c7e-9a27-0f18c321725d",
   "metadata": {},
   "outputs": [],
   "source": [
    "# 수원시 가구비율\n",
    "labels = ['1인가구 비율', '2인가구 비율', '3인이상 가구비율']\n",
    "sizes = [38.1, 20.2, 41.7]\n",
    "colors = ['gold', 'whitesmoke', 'lightgray']\n",
    "explode = (0, 0, 0.1)\n",
    "plt.title('수원시 가구비율', size=30)\n",
    "plt.pie(sizes, explode=explode, labels=labels, colors=colors,\n",
    "        autopct='%1.1f%%', shadow=True, startangle=90)\n",
    "plt.axis('equal')  # 원의 형태를 유지 \n",
    "plt.rc('figure', titlesize=5)\n",
    "plt.show()"
   ]
  },
  {
   "cell_type": "code",
   "execution_count": null,
   "id": "1a64a0d7-60fe-46d8-8598-0d1128877b98",
   "metadata": {},
   "outputs": [],
   "source": [
    "# 광주시 가구비율\n",
    "labels = ['1인가구 비율', '2인가구 비율', '3인이상 가구비율']\n",
    "sizes = [35.2, 24.1, 40.6]\n",
    "colors = ['#ff9999', '#ffc000', '#8fd9b6']\n",
    "explode = (0, 0, 0.1)\n",
    "plt.title('광주시 가구비율', size=30)\n",
    "plt.pie(sizes, explode=explode, labels=labels, colors=colors,\n",
    "        autopct='%1.1f%%', shadow=True, startangle=90)\n",
    "plt.axis('equal')  # 원의 형태를 유지 \n",
    "plt.show()"
   ]
  },
  {
   "cell_type": "code",
   "execution_count": null,
   "id": "1be7689a-ed57-45ac-82f5-f46f17a01c21",
   "metadata": {},
   "outputs": [],
   "source": [
    "# 성남시 가구비율\n",
    "labels = ['1인가구 비율', '2인가구 비율', '3인이상 가구비율']\n",
    "sizes = [37.7, 21.7, 40.6]\n",
    "colors = ['#ffc000', '#8fd9b6', '#d395d0']\n",
    "explode = (0, 0, 0.1)\n",
    "plt.title('성남시 가구비율', size=30)\n",
    "plt.pie(sizes, explode=explode, labels=labels, colors=colors,\n",
    "        autopct='%1.1f%%', shadow=True, startangle=90)\n",
    "plt.axis('equal')  # 원의 형태를 유지 \n",
    "plt.show()"
   ]
  },
  {
   "cell_type": "code",
   "execution_count": null,
   "id": "8d60195a-78a7-40ba-a1b4-07da3cb94527",
   "metadata": {},
   "outputs": [],
   "source": [
    "# 화성시 가구비율\n",
    "labels = ['1인가구 비율', '2인가구 비율', '3인이상 가구비율']\n",
    "sizes = [35.6, 19.6, 44.8]\n",
    "colors = ['yellowgreen', 'gold', 'lightskyblue']\n",
    "explode = (0, 0, 0.1)\n",
    "plt.title('화성시 가구비율', size=30)\n",
    "plt.pie(sizes, explode=explode, labels=labels, colors=colors,\n",
    "        autopct='%1.1f%%', shadow=True, startangle=90)\n",
    "plt.axis('equal')  # 원의 형태를 유지 \n",
    "plt.show()"
   ]
  },
  {
   "cell_type": "code",
   "execution_count": null,
   "id": "36f34a39-63ed-49f1-86ef-5cc97bdca785",
   "metadata": {},
   "outputs": [],
   "source": []
  },
  {
   "cell_type": "markdown",
   "id": "b1a62d58-b39c-4ebb-bdc1-13351f48c8c4",
   "metadata": {},
   "source": [
    "##### 발표 내용에는 사용하지 않았지만 확인차 전통시장현화 데이터를 가져와 각 시에 있는 전통시장 갯수 확인"
   ]
  },
  {
   "cell_type": "code",
   "execution_count": null,
   "id": "9799c8c1-c05b-4d06-b49d-cf04555834bf",
   "metadata": {},
   "outputs": [],
   "source": [
    "local_market = pd.read_csv('datas/전통시장현황(개방표준).csv', encoding='CP949', low_memory=False)\n",
    "local_market"
   ]
  },
  {
   "cell_type": "markdown",
   "id": "5c2a30e8-3c73-4ff0-a38e-f6f9bea7cbfa",
   "metadata": {},
   "source": [
    "###### 각 시/군에 있는 전통시장 갯수 확인 하는 코드"
   ]
  },
  {
   "cell_type": "code",
   "execution_count": null,
   "id": "618139e1-8c8c-421e-93a6-e45a1e233453",
   "metadata": {},
   "outputs": [],
   "source": [
    "place='수원시', '성남시', '고양시', '부천시', '용인시', '안산시', '안양시', '남양주시', '의정부시', '평택시', '시흥시', '화성시', '광명시', '파주시', '군포시', '광주시', '김포시', '이천시', '구리시', '양주시', '안성시', '포천시', '오산시', '하남시', '의왕시', '동두천시', '과천시', '여주군', '양평군', '가평군', '연천군'\n",
    "count_market_list = []\n",
    "for i in place:\n",
    "    count_market = local_market['소재지도로명주소'].str.contains(i).sum()\n",
    "    count_market_list.append(count_market)\n",
    "count_market_list"
   ]
  },
  {
   "cell_type": "markdown",
   "id": "04afa258-3fc2-43f9-a136-329c437dda07",
   "metadata": {},
   "source": [
    "####  경기도 내 31개의 시/군에 있는 시장 총 개수와 점포의 총 개수 "
   ]
  },
  {
   "cell_type": "code",
   "execution_count": null,
   "id": "3646e287-63bf-4778-a723-9c9543bf913f",
   "metadata": {},
   "outputs": [],
   "source": [
    "df = pd.DataFrame(market_table)\n",
    "local_market_insight=df.sort_values(['count_market','count_stores'], ascending=False)\n",
    "local_market_insight['local_money']=local_market_insight.apply(lambda x: True if x.place=='안산시'or x.place=='시흥시'or x.place=='의왕시'or x.place=='안양시'or x.place=='성남시'or x.place=='과천시'or x.place=='포천시'or x.place=='평택시' else False, axis=1)\n",
    "local_market_insight.reset_index(inplace=True, drop=True)\n",
    "local_market_insight"
   ]
  },
  {
   "cell_type": "markdown",
   "id": "6c62744d-9a50-4d6c-96fb-1c72f72bdb7e",
   "metadata": {},
   "source": [
    "### 4개 도시 확인(화성, 광주, 수원, 성남)"
   ]
  },
  {
   "cell_type": "markdown",
   "id": "687cc320-0058-43e4-9cff-4c98d29e1879",
   "metadata": {},
   "source": [
    "##### 데이터 불러오기"
   ]
  },
  {
   "cell_type": "code",
   "execution_count": null,
   "id": "22c26c00-e9ad-460f-8d6f-51beb270fdcc",
   "metadata": {},
   "outputs": [],
   "source": [
    "age = pd.read_csv(\"datas/주민등록.csv\", encoding = \"CP949\")\n",
    "use_data = pd.read_csv(\"datas/payuse.csv\", encoding = \"CP949\")"
   ]
  },
  {
   "cell_type": "markdown",
   "id": "fcfb12b4-715c-4312-9eee-a8c4129ef3ac",
   "metadata": {},
   "source": [
    "##### 인구 데이터"
   ]
  },
  {
   "cell_type": "code",
   "execution_count": null,
   "id": "f657c0a0-abfe-4379-954d-a208c3cef373",
   "metadata": {},
   "outputs": [],
   "source": [
    "age = age.iloc[:,:16] #사용할 컬럼"
   ]
  },
  {
   "cell_type": "code",
   "execution_count": null,
   "id": "e960553d-384f-4de3-b483-2efb4ff2936a",
   "metadata": {},
   "outputs": [],
   "source": [
    "age = age[age['연도'] >= 2019]\n",
    "age = age[age['연도'] <= 2022]"
   ]
  },
  {
   "cell_type": "code",
   "execution_count": null,
   "id": "c2441586-18d7-41d9-9f9c-2a0e14285ab2",
   "metadata": {},
   "outputs": [],
   "source": [
    "#시군명 컬럼 생성\n",
    "age[\"시군명\"] = age.행정구역명.str.split().str[1]"
   ]
  },
  {
   "cell_type": "code",
   "execution_count": null,
   "id": "44d91524-dcb5-4882-9a17-b0e0112c5001",
   "metadata": {},
   "outputs": [],
   "source": [
    "age.dropna(subset = \"시군명\", inplace = True)\n",
    "age"
   ]
  },
  {
   "cell_type": "code",
   "execution_count": null,
   "id": "bf8e0bd9-653d-4282-b900-ffbff01ff642",
   "metadata": {},
   "outputs": [],
   "source": [
    "peo = age[[\"시군명\",\"총 인구수\"]].groupby(\"시군명\").mean() #시군 별 총 인구 수(평균)"
   ]
  },
  {
   "cell_type": "code",
   "execution_count": null,
   "id": "1d153af1-9dd7-417b-8c19-a23a352c103b",
   "metadata": {},
   "outputs": [],
   "source": [
    "peo = peo/peo.sum() #비율"
   ]
  },
  {
   "cell_type": "code",
   "execution_count": null,
   "id": "69958d3c-982f-4f5c-8b2c-c1860c6b847f",
   "metadata": {},
   "outputs": [],
   "source": [
    "peo = peo.loc[[\"성남시\", \"화성시\" ,\"수원시\", \"광주시\"]] #4개 지역 총 인구 수 비율 데이터"
   ]
  },
  {
   "cell_type": "markdown",
   "id": "335eb2b8-098c-408e-ba7d-02cd0cecb741",
   "metadata": {},
   "source": [
    "##### 카드 사용 데이터"
   ]
  },
  {
   "cell_type": "code",
   "execution_count": null,
   "id": "d7dc3fd4-0875-4793-85a1-4ef5d6676dc0",
   "metadata": {},
   "outputs": [],
   "source": [
    "use_data[\"기준년월\"] = use_data[\"기준년월\"].str.split('-').str[0] "
   ]
  },
  {
   "cell_type": "code",
   "execution_count": null,
   "id": "02537c16-26dc-4c51-a520-f9caee21d0e2",
   "metadata": {},
   "outputs": [],
   "source": [
    "use_data = use_data[[\"시군명\",\"월별카드사용액(천원)\"]].groupby(\"시군명\").mean()/1000"
   ]
  },
  {
   "cell_type": "code",
   "execution_count": null,
   "id": "d4fb83bc-365e-4425-b5ca-89bfcff70f15",
   "metadata": {},
   "outputs": [],
   "source": [
    "use_data = use_data/use_data.sum()\n",
    "use_data"
   ]
  },
  {
   "cell_type": "code",
   "execution_count": null,
   "id": "e57f8089-47cd-4d02-a2c6-511869e077ec",
   "metadata": {},
   "outputs": [],
   "source": [
    "use = use_data.loc[[\"성남시\", \"화성시\" ,\"수원시\", \"광주시\"]]"
   ]
  },
  {
   "cell_type": "code",
   "execution_count": null,
   "id": "7e36db4f-34df-435d-9dde-96439cfd0653",
   "metadata": {},
   "outputs": [],
   "source": [
    "age_data = age[[\"시군명\",\"총 인구수\"]]"
   ]
  },
  {
   "cell_type": "code",
   "execution_count": null,
   "id": "824a1174-4bcc-46e1-8e55-e35e7a5c883c",
   "metadata": {},
   "outputs": [],
   "source": [
    "age_data = age_data.groupby([\"시군명\"]).mean()"
   ]
  },
  {
   "cell_type": "code",
   "execution_count": null,
   "id": "5a0de5ec-1a0d-4c11-992c-a30389120d5b",
   "metadata": {},
   "outputs": [],
   "source": [
    "age.시군명.unique()"
   ]
  },
  {
   "cell_type": "code",
   "execution_count": null,
   "id": "d4f4b480-a786-4b11-9264-add291f77678",
   "metadata": {},
   "outputs": [],
   "source": [
    "age_data = age_data.loc[[\"성남시\", \"화성시\" ,\"수원시\", \"광주시\"]]"
   ]
  },
  {
   "cell_type": "code",
   "execution_count": null,
   "id": "8ff72d01-c5d4-43ed-b7d2-d916dda89c57",
   "metadata": {},
   "outputs": [],
   "source": [
    "age_data"
   ]
  },
  {
   "cell_type": "markdown",
   "id": "1a83d8ff-4b5f-43e1-9b80-bc29d33ecb45",
   "metadata": {},
   "source": [
    "#### 그래프"
   ]
  },
  {
   "cell_type": "code",
   "execution_count": null,
   "id": "0bd64ac3-93d8-4b97-9fee-d6246efb8419",
   "metadata": {},
   "outputs": [],
   "source": [
    "import seaborn as sns"
   ]
  },
  {
   "cell_type": "code",
   "execution_count": null,
   "id": "b2501fdc-9782-413d-99a1-b79cd292ecff",
   "metadata": {},
   "outputs": [],
   "source": [
    "sns.barplot(x = age_data.loc[\"성남시\"].index, y = age_data.loc[\"성남시\"].values)\n",
    "plt.xticks(rotation = 90)\n",
    "plt.title(\"성남시 인구 분포\")\n",
    "plt.show()"
   ]
  },
  {
   "cell_type": "code",
   "execution_count": null,
   "id": "a736d4f0-9b75-45e6-b192-4fee38be8e21",
   "metadata": {},
   "outputs": [],
   "source": [
    "sns.barplot(x = age_data.loc[\"화성시\"].index, y = age_data.loc[\"화성시\"].values)\n",
    "plt.xticks(rotation = 90)\n",
    "plt.title(\"화성시 인구 분포\")\n",
    "plt.show()"
   ]
  },
  {
   "cell_type": "code",
   "execution_count": null,
   "id": "8f00f61b-4b7c-4aa4-b0e4-201fa4794e33",
   "metadata": {},
   "outputs": [],
   "source": [
    "sns.barplot(x = age_data.loc[\"광주시\"].index, y = age_data.loc[\"광주시\"].values)\n",
    "plt.xticks(rotation = 90)\n",
    "plt.title(\"광주시 인구 분포\")\n",
    "plt.show()"
   ]
  },
  {
   "cell_type": "code",
   "execution_count": null,
   "id": "961be719-d588-41a2-bce3-235877a2a574",
   "metadata": {},
   "outputs": [],
   "source": [
    "\n",
    "plt.subplot(2, 2, 1)\n",
    "plt.plot(age_data.loc[\"성남시\"].index,age_data.loc[\"성남시\"].values)\n",
    "plt.xticks(rotation = 90)\n",
    "plt.title(\"성남시 인구 분포\")\n",
    "\n",
    "plt.subplot(2, 2, 2)\n",
    "plt.plot(age_data.loc[\"화성시\"].index,age_data.loc[\"화성시\"].values)\n",
    "plt.xticks(rotation = 90)\n",
    "plt.title(\"화성시 인구 분포\")\n",
    "\n",
    "plt.show()"
   ]
  },
  {
   "cell_type": "code",
   "execution_count": null,
   "id": "2db695f1-5870-42b4-9fc1-b49902e59f87",
   "metadata": {},
   "outputs": [],
   "source": [
    "plt.plot(age_data.columns, age_data.loc['성남시'].values/age_data.loc['성남시'].values.sum(), label = \"성남시\")\n",
    "plt.plot(age_data.columns, age_data.loc['화성시'].values/age_data.loc['화성시'].values.sum(), label = \"화성시\")\n",
    "plt.plot(age_data.columns, age_data.loc['부천시'].values/age_data.loc['부천시'].values.sum(), label = \"수원시\")\n",
    "plt.plot(age_data.columns, age_data.loc['광주시'].values/age_data.loc['광주시'].values.sum(), label = \"광주시\")\n",
    "plt.xticks(rotation = 90)\n",
    "plt.title(\"지역 별 인구 분포\")\n",
    "plt.legend()\n",
    "\n",
    "plt.show()"
   ]
  },
  {
   "cell_type": "code",
   "execution_count": null,
   "id": "c37ad4d5-836c-43ee-91c9-df100bfcfda0",
   "metadata": {},
   "outputs": [],
   "source": [
    "plt.bar(age_data.columns, age_data.loc['성남시'].values/age_data.loc['성남시'].values.sum(), alpha = 0.4, label = \"성남시\")\n",
    "plt.bar(age_data.columns, age_data.loc['화성시'].values/age_data.loc['화성시'].values.sum(), alpha = 0.4, label = \"화성시\")\n",
    "plt.xticks(rotation = 90)\n",
    "plt.title(\"성남/화성 인구 분포\")\n",
    "plt.legend()\n",
    "plt.show()"
   ]
  },
  {
   "cell_type": "code",
   "execution_count": null,
   "id": "4e04cda7-6391-4383-adc6-1ad01ced1119",
   "metadata": {},
   "outputs": [],
   "source": [
    "sns.histplot(data = age_data.loc[\"광주시\"], x = age_data.loc[\"광주시\"].values, kde = True)\n",
    "plt.xticks(labels = age_data.loc[\"광주시\"].index)"
   ]
  },
  {
   "cell_type": "code",
   "execution_count": null,
   "id": "d55197dd-b87e-4bb6-a19e-ef7e0aef1808",
   "metadata": {},
   "outputs": [],
   "source": [
    "plt.plot(age_data.loc[\"광주시\"].index,age_data.loc[\"광주시\"].values)"
   ]
  },
  {
   "cell_type": "code",
   "execution_count": null,
   "id": "3e8ba9e0-1b05-4f53-bd44-d91dc7ca61f1",
   "metadata": {},
   "outputs": [],
   "source": [
    "peo[\"월별카드사용액(천원)\"] = use[\"월별카드사용액(천원)\"]\n",
    "peo.reset_index(inplace = True)"
   ]
  },
  {
   "cell_type": "code",
   "execution_count": null,
   "id": "8d9aefc1-f49b-4f3f-b2db-0473ca164c4d",
   "metadata": {},
   "outputs": [],
   "source": [
    "pop_df2 = peo.set_index('시군명')\n",
    "#.sort_values(by='인구평균', ascending=False)\n",
    "# 인구 및 지역화폐 결제 금액에 대한 표\n",
    "ax=pop_df2.sort_values(by='총 인구수', ascending=False).plot(kind='bar', figsize=(12, 8), legend=True, fontsize=12, color=['#E866BA','#98B3FF'])\n",
    "ax.set_xlabel('지역명', fontsize=12)\n",
    "ax.set_ylabel('비율', fontsize=12)\n",
    "plt.title(\"인구 및 지역화폐 결제금액\", fontsize=15)\n",
    "ax.legend(['거주인구비율', '결제금액비율'], fontsize=12)\n",
    "plt.show()"
   ]
  }
 ],
 "metadata": {
  "kernelspec": {
   "display_name": "Python 3 (ipykernel)",
   "language": "python",
   "name": "python3"
  },
  "language_info": {
   "codemirror_mode": {
    "name": "ipython",
    "version": 3
   },
   "file_extension": ".py",
   "mimetype": "text/x-python",
   "name": "python",
   "nbconvert_exporter": "python",
   "pygments_lexer": "ipython3",
   "version": "3.9.13"
  }
 },
 "nbformat": 4,
 "nbformat_minor": 5
}
