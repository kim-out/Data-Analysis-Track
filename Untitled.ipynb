{
 "cells": [
  {
   "cell_type": "code",
   "execution_count": 30,
   "id": "f4d6f4b0-f65a-42af-8f36-cc53e886ee7f",
   "metadata": {},
   "outputs": [
    {
     "data": {
      "text/plain": [
       "2"
      ]
     },
     "execution_count": 30,
     "metadata": {},
     "output_type": "execute_result"
    }
   ],
   "source": [
    "def isPelin(n):\n",
    "    l=list(str(n))\n",
    "    if l == l[::-1]:\n",
    "        return True\n",
    "    \n",
    "def isPrime(n):\n",
    "    if n == 2:\n",
    "        True\n",
    "    for i in range(2,int(n**(1/2))+1):\n",
    "        if n%i==0:\n",
    "            return False\n",
    "    return True\n",
    "    \n",
    "    \n",
    "def solution(n):\n",
    "    while True:\n",
    "        if n==1:\n",
    "            return 2\n",
    "        if isPrime(n) == True and isPelin(n) == True:\n",
    "            return n\n",
    "        n+=1\n",
    "solution(2)\n"
   ]
  },
  {
   "cell_type": "code",
   "execution_count": 38,
   "id": "3a890976-e9cd-4f87-80ec-da3f44964a0a",
   "metadata": {},
   "outputs": [
    {
     "name": "stdin",
     "output_type": "stream",
     "text": [
      " 5\n",
      " ..1..\n",
      " .11..\n",
      " .....\n",
      " ....1\n",
      " .1...\n"
     ]
    },
    {
     "name": "stdout",
     "output_type": "stream",
     "text": [
      "0 1\n",
      "0 4\n",
      "1 4\n",
      "2 1\n",
      "3 1\n",
      "4 3\n",
      "0 1\n",
      "1 3\n",
      "2 3\n",
      "3 1\n",
      "4 1\n",
      "6 5\n"
     ]
    }
   ],
   "source": [
    "def room(n,l):\n",
    "    r=0\n",
    "    for i in range(n):\n",
    "        for j in range(1,n):\n",
    "            if j==1 and l[i][j] == l[i][j-1] == '.':\n",
    "                r+=1\n",
    "            if j!=1 and l[i][j-2] == 'X' and l[i][j] == l[i][j-1] == '.':\n",
    "                r+=1\n",
    "    return r\n",
    "\n",
    "n=int(input())\n",
    "L1=[]\n",
    "L2=[]\n",
    "\n",
    "for i in range(n):\n",
    "    L1.append(list(input()))\n",
    "\n",
    "for i in range(n):\n",
    "    l=[]\n",
    "    for j in range(n):\n",
    "        l.append(L1[j][i])\n",
    "    L2.append(l)\n",
    "\n",
    "print(room(n,L1),room(n,L2))\n",
    "\n",
    "\n",
    "    "
   ]
  },
  {
   "cell_type": "code",
   "execution_count": 42,
   "id": "f0420e74-52a3-44ce-b8a0-4cdb65510e38",
   "metadata": {},
   "outputs": [
    {
     "name": "stdin",
     "output_type": "stream",
     "text": [
      " y 4\n",
      " j 1\n",
      " k 1\n",
      " j 1\n",
      " m 1\n"
     ]
    }
   ],
   "source": [
    "card=[[0,0],[0,0],[0,0],[0,0],[0,0]]\n",
    "color_list=[]\n",
    "number_list=[]\n",
    "\n",
    "for i in range(5):\n",
    "    color,number = input().split(' ')\n",
    "    number=int(number)\n",
    "    card[i][0]=color\n",
    "    card[i][1]=number\n",
    "    color_list.append"
   ]
  },
  {
   "cell_type": "code",
   "execution_count": 43,
   "id": "e5fc6232-bf48-4b70-909d-8fce3ae65227",
   "metadata": {},
   "outputs": [
    {
     "data": {
      "text/plain": [
       "[['y', 4], ['j', 1], ['k', 1], ['j', 1], ['m', 1]]"
      ]
     },
     "execution_count": 43,
     "metadata": {},
     "output_type": "execute_result"
    }
   ],
   "source": [
    "card"
   ]
  },
  {
   "cell_type": "code",
   "execution_count": null,
   "id": "1cbe3416-cb0d-4506-bab0-0f48c74ac088",
   "metadata": {},
   "outputs": [],
   "source": []
  }
 ],
 "metadata": {
  "kernelspec": {
   "display_name": "Python 3 (ipykernel)",
   "language": "python",
   "name": "python3"
  },
  "language_info": {
   "codemirror_mode": {
    "name": "ipython",
    "version": 3
   },
   "file_extension": ".py",
   "mimetype": "text/x-python",
   "name": "python",
   "nbconvert_exporter": "python",
   "pygments_lexer": "ipython3",
   "version": "3.9.13"
  }
 },
 "nbformat": 4,
 "nbformat_minor": 5
}
