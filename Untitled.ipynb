{
 "cells": [
  {
   "cell_type": "code",
   "execution_count": 13,
   "id": "4295fd6d-918b-499f-b8d1-67258aa0b4a7",
   "metadata": {},
   "outputs": [
    {
     "name": "stdout",
     "output_type": "stream",
     "text": [
      "200\n"
     ]
    }
   ],
   "source": [
    "# requests -> HTTP통신\n",
    "\n",
    "import requests\n",
    "response =requests.get('http://api.kcisa.kr/openapi/service/rest/meta16/getkobis04',\n",
    "                      params={'serviceKey':'8461d5ef-4cb1-4cdc-9370-78f41e37fb63',\n",
    "                             'numOfRows':'100',\n",
    "                             'pageNo':'1'},\n",
    "                      headers = {'Accept':'accept: application/json'})\n",
    "print(response.status_code)"
   ]
  },
  {
   "cell_type": "code",
   "execution_count": 21,
   "id": "2d6fd998-6f44-4f44-986e-e9ac3471abb6",
   "metadata": {
    "tags": []
   },
   "outputs": [],
   "source": [
    "import json\n",
    "response.json()\n",
    "title = [i['title'] for i in response.json()['response']['body']['items']['item']]\n",
    "createD = [i['createdDate'] for i in response.json()['response']['body']['items']['item']]\n",
    "category = [i['subjectCategory'] for i in response.json()['response']['body']['items']['item']]\n",
    "creator = [i['creator'] for i in response.json()['response']['body']['items']['item']]"
   ]
  },
  {
   "cell_type": "code",
   "execution_count": 24,
   "id": "8568fce1-b4e3-4a85-b6b6-7f65584995f4",
   "metadata": {},
   "outputs": [],
   "source": [
    "import pandas as pd\n",
    "data = {'createDate':createD,\n",
    "        'category':category,\n",
    "        'creator':creator}\n",
    "index = title\n",
    "df = pd.DataFrame(data,index)"
   ]
  },
  {
   "cell_type": "code",
   "execution_count": 29,
   "id": "57032517-822b-469e-ab99-62bda4891f93",
   "metadata": {},
   "outputs": [
    {
     "data": {
      "text/html": [
       "<div>\n",
       "<style scoped>\n",
       "    .dataframe tbody tr th:only-of-type {\n",
       "        vertical-align: middle;\n",
       "    }\n",
       "\n",
       "    .dataframe tbody tr th {\n",
       "        vertical-align: top;\n",
       "    }\n",
       "\n",
       "    .dataframe thead th {\n",
       "        text-align: right;\n",
       "    }\n",
       "</style>\n",
       "<table border=\"1\" class=\"dataframe\">\n",
       "  <thead>\n",
       "    <tr style=\"text-align: right;\">\n",
       "      <th></th>\n",
       "      <th>createDate</th>\n",
       "      <th>category</th>\n",
       "      <th>creator</th>\n",
       "    </tr>\n",
       "  </thead>\n",
       "  <tbody>\n",
       "    <tr>\n",
       "      <th>늦더위</th>\n",
       "      <td>True</td>\n",
       "      <td>True</td>\n",
       "      <td>True</td>\n",
       "    </tr>\n",
       "    <tr>\n",
       "      <th>늦봄</th>\n",
       "      <td>True</td>\n",
       "      <td>True</td>\n",
       "      <td>True</td>\n",
       "    </tr>\n",
       "    <tr>\n",
       "      <th>늦어도 그날까지</th>\n",
       "      <td>True</td>\n",
       "      <td>False</td>\n",
       "      <td>True</td>\n",
       "    </tr>\n",
       "    <tr>\n",
       "      <th>늦여름</th>\n",
       "      <td>True</td>\n",
       "      <td>False</td>\n",
       "      <td>True</td>\n",
       "    </tr>\n",
       "    <tr>\n",
       "      <th>늦여름</th>\n",
       "      <td>True</td>\n",
       "      <td>True</td>\n",
       "      <td>True</td>\n",
       "    </tr>\n",
       "    <tr>\n",
       "      <th>...</th>\n",
       "      <td>...</td>\n",
       "      <td>...</td>\n",
       "      <td>...</td>\n",
       "    </tr>\n",
       "    <tr>\n",
       "      <th>대추리에 살다</th>\n",
       "      <td>True</td>\n",
       "      <td>True</td>\n",
       "      <td>True</td>\n",
       "    </tr>\n",
       "    <tr>\n",
       "      <th>대춘향전</th>\n",
       "      <td>True</td>\n",
       "      <td>True</td>\n",
       "      <td>True</td>\n",
       "    </tr>\n",
       "    <tr>\n",
       "      <th>대취협</th>\n",
       "      <td>True</td>\n",
       "      <td>True</td>\n",
       "      <td>True</td>\n",
       "    </tr>\n",
       "    <tr>\n",
       "      <th>대탈옥</th>\n",
       "      <td>True</td>\n",
       "      <td>True</td>\n",
       "      <td>True</td>\n",
       "    </tr>\n",
       "    <tr>\n",
       "      <th>대탈주</th>\n",
       "      <td>True</td>\n",
       "      <td>True</td>\n",
       "      <td>True</td>\n",
       "    </tr>\n",
       "  </tbody>\n",
       "</table>\n",
       "<p>100 rows × 3 columns</p>\n",
       "</div>"
      ],
      "text/plain": [
       "          createDate  category  creator\n",
       "늦더위             True      True     True\n",
       "늦봄              True      True     True\n",
       "늦어도 그날까지        True     False     True\n",
       "늦여름             True     False     True\n",
       "늦여름             True      True     True\n",
       "...              ...       ...      ...\n",
       "대추리에 살다         True      True     True\n",
       "대춘향전            True      True     True\n",
       "대취협             True      True     True\n",
       "대탈옥             True      True     True\n",
       "대탈주             True      True     True\n",
       "\n",
       "[100 rows x 3 columns]"
      ]
     },
     "execution_count": 29,
     "metadata": {},
     "output_type": "execute_result"
    }
   ],
   "source": [
    "df[:].notnull()"
   ]
  }
 ],
 "metadata": {
  "kernelspec": {
   "display_name": "Python 3 (ipykernel)",
   "language": "python",
   "name": "python3"
  },
  "language_info": {
   "codemirror_mode": {
    "name": "ipython",
    "version": 3
   },
   "file_extension": ".py",
   "mimetype": "text/x-python",
   "name": "python",
   "nbconvert_exporter": "python",
   "pygments_lexer": "ipython3",
   "version": "3.9.13"
  }
 },
 "nbformat": 4,
 "nbformat_minor": 5
}
