{
 "cells": [
  {
   "cell_type": "markdown",
   "id": "b42bfb60-73a6-494d-843d-9831adac2736",
   "metadata": {},
   "source": [
    "# 완전탐색/이분탐색"
   ]
  },
  {
   "cell_type": "markdown",
   "id": "ff9eaf50-3a38-4f0c-8916-ca6af253c438",
   "metadata": {},
   "source": [
    "### 완전탐색"
   ]
  },
  {
   "cell_type": "code",
   "execution_count": null,
   "id": "7032f031-5104-40e5-9a5a-4c0b3b72bf2d",
   "metadata": {},
   "outputs": [],
   "source": [
    "#for문, 재귀함수"
   ]
  },
  {
   "cell_type": "code",
   "execution_count": null,
   "id": "bb7f3104-e954-41d5-983e-8582a3f5fc4c",
   "metadata": {},
   "outputs": [],
   "source": [
    "def solution(trump):\n",
    "    for i in range(len(trump)):\n",
    "        if trump[i] == 8:\n",
    "            return i\n",
    "    return -1"
   ]
  },
  {
   "cell_type": "code",
   "execution_count": null,
   "id": "a73a93be-8843-424e-8848-bdcd8457ff85",
   "metadata": {},
   "outputs": [],
   "source": [
    "def solution(trump, loc):\n",
    "    if trump[loc] == 8:\n",
    "        return loc\n",
    "    else:\n",
    "        return solution(trump, loc+1)"
   ]
  },
  {
   "cell_type": "markdown",
   "id": "0d51ef49-babb-4e62-8956-b93e5db499ac",
   "metadata": {},
   "source": [
    "### 이분탐색"
   ]
  },
  {
   "cell_type": "code",
   "execution_count": null,
   "id": "0aa73e62-a94a-4411-9cfa-479fa65124a5",
   "metadata": {},
   "outputs": [],
   "source": [
    "#업다운게임"
   ]
  },
  {
   "cell_type": "code",
   "execution_count": null,
   "id": "f21be94c-b530-4b7a-a1ba-1bf8673e6efc",
   "metadata": {},
   "outputs": [],
   "source": [
    "def soluttion(trump):\n",
    "    left = 0\n",
    "    right = len(trump) - 1\n",
    "    while(left <= right):\n",
    "        mid = (left+right)//2\n",
    "        if trump[mid] ==8:\n",
    "            return mid\n",
    "        elif trump[mid] <8:\n",
    "            left = mid + 1\n",
    "        elif trump[mid] >8:\n",
    "            right = mid - 1\n",
    "    return mid              "
   ]
  },
  {
   "cell_type": "markdown",
   "id": "291f1a6e-96f9-47eb-bf57-a93661601f4b",
   "metadata": {},
   "source": [
    "### 프로그래머스) 문자열 압축"
   ]
  },
  {
   "cell_type": "code",
   "execution_count": null,
   "id": "b7267633-e415-47bb-978b-5a450bd2829d",
   "metadata": {},
   "outputs": [],
   "source": [
    "#풀이\n",
    "def solution(s):\n",
    "    answer = len(s)\n",
    "    unit = 1 #나누는 단위\n",
    "    while unit <= len(s)//2: #문자열 길이의 절반까지만 확인하면 됨\n",
    "        comp = s[:unit] #단위만큼 나눈 문자열 저장\n",
    "        count = 1 #문자열이 반복되는 횟수\n",
    "        word = \"\" #반복횟수+문자열 저장\n",
    "        \n",
    "        for i in range(unit, len(s), unit): #단위만큼 증가하며 반복\n",
    "            if s[i:i+unit] == comp: #저장된 문자열과 같으면 횟수만 증가시킴\n",
    "                count += 1 \n",
    "            else: #달라질때 word에 추가함\n",
    "                if count == 1: #다르고, count가 1인 경우\n",
    "                    word += comp #문자열만 저장\n",
    "                else: #count가 1이 아닌 경우, 횟수+문자열 저장 \n",
    "                    word += str(count) + comp\n",
    "                comp = s[i:i+unit] #새로 등장한 문자열로 업데이트\n",
    "                count = 1 #count 초기화\n",
    "        \n",
    "        #for문을 나온 후 남은 마지막 문자열 확인\n",
    "        if count == 1: \n",
    "            word += comp\n",
    "        else: \n",
    "            word += str(comp) +comp\n",
    "        \n",
    "        unit+=1 #단위 증가\n",
    "        answer = min(len(word), answer) #기존 길이와, 새로운 길이 중 작은 값을 저장\n",
    "\n",
    "    return answer"
   ]
  },
  {
   "cell_type": "code",
   "execution_count": 92,
   "id": "b741b49c-d5ca-4d9b-8e6a-4f268d691c02",
   "metadata": {},
   "outputs": [],
   "source": [
    "s = \"aabbaccc\""
   ]
  },
  {
   "cell_type": "code",
   "execution_count": 103,
   "id": "cd4c127e-cb36-41af-a12e-88b567704cab",
   "metadata": {},
   "outputs": [],
   "source": [
    "#내 풀이(틀림)\n",
    "def solution(s):\n",
    "    s = list(s)\n",
    "    \n",
    "    len_list = []\n",
    "    for i in range(1,len(s)//2):\n",
    "        len_s = len(s)\n",
    "        j = 0\n",
    "        box = []\n",
    "        while (j + 2*i) < len(s):\n",
    "            if s[j : j+i] == box:\n",
    "                len_s -= i\n",
    "                print(1)\n",
    "            else:\n",
    "                len_s += 1\n",
    "                box = s[j:j+i]\n",
    "                print(box)\n",
    "            j = j+i\n",
    "        len_list.append(len_s)\n",
    "    return min(len_list)    "
   ]
  },
  {
   "cell_type": "code",
   "execution_count": 104,
   "id": "183bb331-3b83-4a23-a2cd-84095a4edad9",
   "metadata": {},
   "outputs": [
    {
     "name": "stdout",
     "output_type": "stream",
     "text": [
      "['a']\n",
      "['b']\n",
      "['c']\n"
     ]
    },
    {
     "data": {
      "text/plain": [
       "8"
      ]
     },
     "execution_count": 104,
     "metadata": {},
     "output_type": "execute_result"
    }
   ],
   "source": [
    "solution(s)"
   ]
  },
  {
   "cell_type": "markdown",
   "id": "6a606513-3d5b-475d-8873-e179241589b9",
   "metadata": {},
   "source": [
    "### 이진수"
   ]
  },
  {
   "cell_type": "code",
   "execution_count": null,
   "id": "5236c1c5-9600-4f6c-a354-f98bafd0943d",
   "metadata": {},
   "outputs": [],
   "source": [
    "\n",
    "s = int(input())\n",
    "def solution(s):\n",
    "    if s > 1:\n",
    "        if s % 2 == 1:\n",
    "            return solution(s // 2) + '1'\n",
    "        else:\n",
    "            return solution(s // 2) + '0'\n",
    "    else:\n",
    "        return str(s)\n",
    "print(solution(s))\n"
   ]
  },
  {
   "cell_type": "markdown",
   "id": "c290858e-0f01-485b-94e9-51d31e9fa6fb",
   "metadata": {},
   "source": [
    "### 팩토리얼"
   ]
  },
  {
   "cell_type": "code",
   "execution_count": null,
   "id": "4b459ca9-c7f0-495c-a83f-9cd0a8ac542d",
   "metadata": {},
   "outputs": [],
   "source": [
    "n = int(input())\n",
    "def solution(n):\n",
    "    if n <= 1:\n",
    "        return 1\n",
    "    return n * solution(n-1)\n",
    "print(solution(n))"
   ]
  }
 ],
 "metadata": {
  "kernelspec": {
   "display_name": "Python 3 (ipykernel)",
   "language": "python",
   "name": "python3"
  },
  "language_info": {
   "codemirror_mode": {
    "name": "ipython",
    "version": 3
   },
   "file_extension": ".py",
   "mimetype": "text/x-python",
   "name": "python",
   "nbconvert_exporter": "python",
   "pygments_lexer": "ipython3",
   "version": "3.9.13"
  }
 },
 "nbformat": 4,
 "nbformat_minor": 5
}
