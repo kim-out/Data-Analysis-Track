{
 "cells": [
  {
   "cell_type": "code",
   "execution_count": 1,
   "id": "e44990ea-d12a-4d50-9639-bd474d842ef3",
   "metadata": {},
   "outputs": [
    {
     "name": "stdout",
     "output_type": "stream",
     "text": [
      "{0, 3, 5, 8, 11, 13, 16}\n"
     ]
    }
   ],
   "source": [
    "data = [3, 5, 8]\n",
    "\n",
    "result = set()\n",
    "for i in range(2):\n",
    "    for j in range(2):\n",
    "        for k in range(2):\n",
    "            result.add(data[0]*i + data[1]*j + data[2]*k)\n",
    "print(result)\n",
    "#성분의 개수 = 반복문의 개수"
   ]
  },
  {
   "cell_type": "code",
   "execution_count": 1,
   "id": "95997937-d6ee-47aa-9896-0a45f83712d7",
   "metadata": {},
   "outputs": [],
   "source": [
    "data = [3, 5, 8]\n",
    "result = set()\n",
    "def recur(index, value):\n",
    "    if index == len(data):\n",
    "        result.add(value)\n",
    "    else:\n",
    "        recur(index+1, value + data[index])\n",
    "        recur(index+1, value)\n",
    "            \n",
    "    "
   ]
  },
  {
   "cell_type": "code",
   "execution_count": 2,
   "id": "15e53f9f-0aeb-4f89-9d2d-d9a91e341b3c",
   "metadata": {},
   "outputs": [],
   "source": [
    "recur(0,0)"
   ]
  },
  {
   "cell_type": "code",
   "execution_count": 3,
   "id": "748a1166-2f9d-4d0d-87da-34d81d6fae64",
   "metadata": {},
   "outputs": [
    {
     "name": "stdout",
     "output_type": "stream",
     "text": [
      "{0, 3, 5, 8, 11, 13, 16}\n"
     ]
    }
   ],
   "source": [
    "print(result)"
   ]
  },
  {
   "cell_type": "markdown",
   "id": "584f77b7-8420-46da-bd12-d446a637a0b2",
   "metadata": {},
   "source": [
    "### 프로그래머스) 괄호변환"
   ]
  },
  {
   "cell_type": "markdown",
   "id": "35ce80f6-cfad-4157-b5fc-0e45749004a5",
   "metadata": {},
   "source": [
    "p = \"()))((()\"\n",
    "    ()  ))((()\n",
    "        ))((   ()\n",
    "        \n",
    "균형 2개로 분리 -> 올바르지 않은 하나 다시 수행         "
   ]
  },
  {
   "cell_type": "code",
   "execution_count": null,
   "id": "23a2e07b-ebbf-4287-9286-fbbc0c7cc989",
   "metadata": {},
   "outputs": [],
   "source": [
    "p = list(\"(())((()\")"
   ]
  },
  {
   "cell_type": "code",
   "execution_count": null,
   "id": "0288d024-08b7-4a5f-a3cb-8f084f1ee219",
   "metadata": {},
   "outputs": [],
   "source": [
    "\n",
    "answer = ''\n",
    "def sol(p):\n",
    "    p = list(p)\n",
    "    if p==[]:\n",
    "        return answer\n",
    "    i = 0\n",
    "    while True:\n",
    "        if p[i] != p[i+1]:\n",
    "            u = p[: (i+1)*2]\n",
    "            v = p[(i+1)*2 :]\n",
    "            break\n",
    "    if u[0] == \"(\" and u[-1] == \")\":\n",
    "        answer += str(u)\n",
    "        answer += solution(str(v))\n",
    "    else:\n",
    "        u = str(u[1:-1])\n",
    "        u.replace(\"(\",\")\")\n",
    "        u.replace(\")\",\"(\")\n",
    "        u = list(\"(\" + p + \")\")\n",
    "        answer.append(str(u) + solution(v))\n",
    "sol(p)\n",
    "answer()"
   ]
  },
  {
   "cell_type": "code",
   "execution_count": null,
   "id": "06750562-9345-409e-a4d0-8368fd698639",
   "metadata": {},
   "outputs": [],
   "source": [
    "solution(p)"
   ]
  },
  {
   "cell_type": "code",
   "execution_count": null,
   "id": "5382043e-426f-46f0-8383-b994d9b01b4d",
   "metadata": {},
   "outputs": [],
   "source": [
    "u"
   ]
  },
  {
   "cell_type": "code",
   "execution_count": null,
   "id": "bb84f726-06a5-4f35-a721-ba0c058cc1be",
   "metadata": {},
   "outputs": [],
   "source": [
    "p"
   ]
  }
 ],
 "metadata": {
  "kernelspec": {
   "display_name": "Python 3 (ipykernel)",
   "language": "python",
   "name": "python3"
  },
  "language_info": {
   "codemirror_mode": {
    "name": "ipython",
    "version": 3
   },
   "file_extension": ".py",
   "mimetype": "text/x-python",
   "name": "python",
   "nbconvert_exporter": "python",
   "pygments_lexer": "ipython3",
   "version": "3.9.13"
  }
 },
 "nbformat": 4,
 "nbformat_minor": 5
}
