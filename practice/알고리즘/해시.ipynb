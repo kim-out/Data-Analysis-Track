{
 "cells": [
  {
   "cell_type": "code",
   "execution_count": 7,
   "id": "7499a571-21e0-47d8-b5e2-3c9829e793a6",
   "metadata": {},
   "outputs": [
    {
     "name": "stdout",
     "output_type": "stream",
     "text": [
      "1 10\n",
      "3 12\n",
      "5 7\n",
      "7 6\n",
      "4 5\n"
     ]
    },
    {
     "ename": "AttributeError",
     "evalue": "'builtin_function_or_method' object has no attribute 'keys'",
     "output_type": "error",
     "traceback": [
      "\u001b[1;31m---------------------------------------------------------------------------\u001b[0m",
      "\u001b[1;31mAttributeError\u001b[0m                            Traceback (most recent call last)",
      "\u001b[1;32m~\\AppData\\Local\\Temp\\ipykernel_3760\\2806480335.py\u001b[0m in \u001b[0;36m<module>\u001b[1;34m\u001b[0m\n\u001b[0;32m      2\u001b[0m \u001b[1;32mfor\u001b[0m \u001b[0mk\u001b[0m\u001b[1;33m,\u001b[0m \u001b[0mv\u001b[0m \u001b[1;32min\u001b[0m \u001b[0mHash\u001b[0m\u001b[1;33m.\u001b[0m\u001b[0mitems\u001b[0m\u001b[1;33m(\u001b[0m\u001b[1;33m)\u001b[0m\u001b[1;33m:\u001b[0m\u001b[1;33m\u001b[0m\u001b[1;33m\u001b[0m\u001b[0m\n\u001b[0;32m      3\u001b[0m     \u001b[0mprint\u001b[0m\u001b[1;33m(\u001b[0m\u001b[0mk\u001b[0m\u001b[1;33m,\u001b[0m \u001b[0mv\u001b[0m\u001b[1;33m)\u001b[0m \u001b[1;31m#key, value\u001b[0m\u001b[1;33m\u001b[0m\u001b[1;33m\u001b[0m\u001b[0m\n\u001b[1;32m----> 4\u001b[1;33m \u001b[0msorted\u001b[0m\u001b[1;33m(\u001b[0m\u001b[0mhash\u001b[0m\u001b[1;33m.\u001b[0m\u001b[0mkeys\u001b[0m\u001b[1;33m(\u001b[0m\u001b[1;33m)\u001b[0m\u001b[1;33m,\u001b[0m \u001b[0mkey\u001b[0m \u001b[1;33m=\u001b[0m \u001b[1;32mlambda\u001b[0m \u001b[0mx\u001b[0m\u001b[1;33m:\u001b[0m\u001b[0mx\u001b[0m\u001b[1;33m)\u001b[0m\u001b[1;33m\u001b[0m\u001b[1;33m\u001b[0m\u001b[0m\n\u001b[0m",
      "\u001b[1;31mAttributeError\u001b[0m: 'builtin_function_or_method' object has no attribute 'keys'"
     ]
    }
   ],
   "source": [
    "Hash = dict({1:10, 3:12, 5:7, 7:6, 4:5})\n",
    "for k, v in Hash.items():\n",
    "    print(k, v) #key, value\n"
   ]
  },
  {
   "cell_type": "code",
   "execution_count": 8,
   "id": "7a4f7152-f976-4fc1-8fef-c4f0d5280f9f",
   "metadata": {},
   "outputs": [
    {
     "data": {
      "text/plain": [
       "[1, 3, 4, 5, 7]"
      ]
     },
     "execution_count": 8,
     "metadata": {},
     "output_type": "execute_result"
    }
   ],
   "source": [
    "sorted(Hash.keys(), key = lambda x:x)"
   ]
  },
  {
   "cell_type": "code",
   "execution_count": 9,
   "id": "0d56d804-48a2-4b08-9f15-f4ac6daa127b",
   "metadata": {},
   "outputs": [
    {
     "data": {
      "text/plain": [
       "[5, 6, 7, 10, 12]"
      ]
     },
     "execution_count": 9,
     "metadata": {},
     "output_type": "execute_result"
    }
   ],
   "source": [
    "sorted(Hash.values(), key = lambda x:x)"
   ]
  },
  {
   "cell_type": "code",
   "execution_count": 10,
   "id": "fc57342b-6549-4c60-baa1-f818580c05b6",
   "metadata": {},
   "outputs": [
    {
     "data": {
      "text/plain": [
       "[(1, 10), (3, 12), (4, 5), (5, 7), (7, 6)]"
      ]
     },
     "execution_count": 10,
     "metadata": {},
     "output_type": "execute_result"
    }
   ],
   "source": [
    "sorted(Hash.items(), key = lambda x:x)"
   ]
  },
  {
   "cell_type": "code",
   "execution_count": 13,
   "id": "7f00349d-2997-4b7f-8705-4729851f9ecb",
   "metadata": {},
   "outputs": [
    {
     "data": {
      "text/plain": [
       "[7, 5, 4, 3, 1]"
      ]
     },
     "execution_count": 13,
     "metadata": {},
     "output_type": "execute_result"
    }
   ],
   "source": [
    "sorted(Hash.keys(), key = lambda x:-x)"
   ]
  },
  {
   "cell_type": "code",
   "execution_count": 14,
   "id": "b194312e-ca55-4dbd-a29e-3528d5b1349d",
   "metadata": {},
   "outputs": [
    {
     "data": {
      "text/plain": [
       "[12, 10, 7, 6, 5]"
      ]
     },
     "execution_count": 14,
     "metadata": {},
     "output_type": "execute_result"
    }
   ],
   "source": [
    "sorted(Hash.values(), key = lambda x:-x)"
   ]
  },
  {
   "cell_type": "code",
   "execution_count": 12,
   "id": "f1ebe49b-2533-43af-bcd2-c9f87dfa99bd",
   "metadata": {},
   "outputs": [
    {
     "data": {
      "text/plain": [
       "[(3, 12), (1, 10), (5, 7), (7, 6), (4, 5)]"
      ]
     },
     "execution_count": 12,
     "metadata": {},
     "output_type": "execute_result"
    }
   ],
   "source": [
    "sorted(Hash.items(), key = lambda x:-x[1])\n",
    "#items사용 시 튜플이기 때문에 원소 지정해줘야 함"
   ]
  },
  {
   "cell_type": "code",
   "execution_count": 17,
   "id": "17d06516-3d2f-492f-8f79-f68933fef632",
   "metadata": {},
   "outputs": [
    {
     "data": {
      "text/plain": [
       "[(4, 5), (7, 6), (5, 7), (1, 10), (3, 12)]"
      ]
     },
     "execution_count": 17,
     "metadata": {},
     "output_type": "execute_result"
    }
   ],
   "source": [
    "sorted(Hash.items(), key = lambda x:(x[1], x[0]))\n",
    " "
   ]
  },
  {
   "cell_type": "markdown",
   "id": "90aebd15-442a-49e8-b19f-38047233acac",
   "metadata": {},
   "source": [
    "### 프로그래머스) 오픈채팅방"
   ]
  },
  {
   "cell_type": "code",
   "execution_count": 47,
   "id": "b7dc512a-fe44-420c-a57a-5f970cadb92c",
   "metadata": {},
   "outputs": [
    {
     "data": {
      "text/plain": [
       "(['C님이 들어왔습니다.', 'C님이 들어왔습니다.', 'C님이 나갔습니다.', 'C님이 들어왔습니다.'],\n",
       " [('uid1234', 'Enter'),\n",
       "  ('uid4567', 'Enter'),\n",
       "  ('uid1234', 'Leave'),\n",
       "  ('uid1234', 'Enter'),\n",
       "  ('uid4567', 'Change')],\n",
       " {'uid1234': 'C', 'uid4567': 'C'})"
      ]
     },
     "execution_count": 47,
     "metadata": {},
     "output_type": "execute_result"
    }
   ],
   "source": [
    "#내 풀이\n",
    "def solution(record):\n",
    "    Id = dict()\n",
    "    stat = []\n",
    "    answer = []\n",
    "    \n",
    "    for i in record:\n",
    "        m = i.split()\n",
    "        stat.append((m[1],m[0]))\n",
    "        if m[0] == \"Enter\":                \n",
    "            Id[m[1]] = m[2]\n",
    "        elif m[0] == \"Change\":\n",
    "            Id[m[1]] = m[2]\n",
    "            \n",
    "    for i in stat:\n",
    "        message = Id[i[0]] + \"님이\"\n",
    "        if i[1] == \"Enter\":                \n",
    "            message+=\" 들어왔습니다.\"\n",
    "        elif i[1] == \"Leave\":\n",
    "            message+=\" 나갔습니다.\"\n",
    "        else: continue\n",
    "        answer.append(message)\n",
    "        \n",
    "    return answer"
   ]
  },
  {
   "cell_type": "code",
   "execution_count": 19,
   "id": "04b16da7-25c2-41ee-b5f0-794eb18a2f7d",
   "metadata": {},
   "outputs": [
    {
     "data": {
      "text/plain": [
       "['Enter', 'uid1234', 'Muzi']"
      ]
     },
     "execution_count": 19,
     "metadata": {},
     "output_type": "execute_result"
    }
   ],
   "source": [
    "#다른 풀이\n",
    "def solution(record):\n",
    "    answer = []\n",
    "    namespace = {}\n",
    "    printer = {'Enter':'님이 들어왔습니다.', 'Leave':'님이 나갔습니다.'}\n",
    "    for r in record:\n",
    "        rr = r.split(' ')\n",
    "        if rr[0] in ['Enter', 'Change']:\n",
    "            namespace[rr[1]] = rr[2]\n",
    "\n",
    "    for r in record:\n",
    "        if r.split(' ')[0] != 'Change':\n",
    "            answer.append(namespace[r.split(' ')[1]] + printer[r.split(' ')[0]])\n",
    "\n",
    "    return answer"
   ]
  },
  {
   "cell_type": "code",
   "execution_count": 21,
   "id": "424cb135-4f50-4147-8a1f-b026dc6ae7bb",
   "metadata": {},
   "outputs": [
    {
     "ename": "NameError",
     "evalue": "name 'index' is not defined",
     "output_type": "error",
     "traceback": [
      "\u001b[1;31m---------------------------------------------------------------------------\u001b[0m",
      "\u001b[1;31mNameError\u001b[0m                                 Traceback (most recent call last)",
      "\u001b[1;32m~\\AppData\\Local\\Temp\\ipykernel_3760\\1438373224.py\u001b[0m in \u001b[0;36m<module>\u001b[1;34m\u001b[0m\n\u001b[1;32m----> 1\u001b[1;33m \u001b[0mindex\u001b[0m\u001b[1;33m\u001b[0m\u001b[1;33m\u001b[0m\u001b[0m\n\u001b[0m",
      "\u001b[1;31mNameError\u001b[0m: name 'index' is not defined"
     ]
    }
   ],
   "source": [
    "#숏코딩\n",
    "def solution(record):\n",
    "    user_id = {EC.split()[1]:EC.split()[-1] for EC in record if EC.startswith('Enter') or EC.startswith('Change')}\n",
    "    return [f'{user_id[E_L.split()[1]]}님이 들어왔습니다.' if E_L.startswith('Enter') else f'{user_id[E_L.split()[1]]}님이 나갔습니다.' for E_L in record if not E_L.startswith('Change')]"
   ]
  },
  {
   "cell_type": "code",
   "execution_count": null,
   "id": "bb5293e4-33ee-4273-8650-cde1289b85b1",
   "metadata": {},
   "outputs": [],
   "source": []
  }
 ],
 "metadata": {
  "kernelspec": {
   "display_name": "Python 3 (ipykernel)",
   "language": "python",
   "name": "python3"
  },
  "language_info": {
   "codemirror_mode": {
    "name": "ipython",
    "version": 3
   },
   "file_extension": ".py",
   "mimetype": "text/x-python",
   "name": "python",
   "nbconvert_exporter": "python",
   "pygments_lexer": "ipython3",
   "version": "3.9.13"
  }
 },
 "nbformat": 4,
 "nbformat_minor": 5
}
