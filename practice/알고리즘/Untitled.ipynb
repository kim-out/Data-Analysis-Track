{
 "cells": [
  {
   "cell_type": "code",
   "execution_count": 3,
   "id": "f17d3f73-456d-41fe-b953-dae8972bf56f",
   "metadata": {},
   "outputs": [],
   "source": [
    "class Stack(list):\n",
    "    push = list.append\n",
    "    \n",
    "    def peek(self):\n",
    "        return self[-1]\n",
    "            "
   ]
  },
  {
   "cell_type": "code",
   "execution_count": 9,
   "id": "13f9596b-b36b-4f67-96e3-797038dae478",
   "metadata": {},
   "outputs": [
    {
     "name": "stdout",
     "output_type": "stream",
     "text": [
      "[1, 5, 10]\n",
      "10\n",
      "[1, 5]\n",
      "5\n",
      "[1, 5]\n"
     ]
    }
   ],
   "source": [
    "s = Stack()\n",
    "s.push(1)\n",
    "s.push(5)\n",
    "s.push(10)\n",
    "print(s)\n",
    "print(s.pop()) #마지막요소 꺼냄\n",
    "print(s)\n",
    "print(s.peek()) #마지막 요소 출력\n",
    "print(s)"
   ]
  },
  {
   "cell_type": "code",
   "execution_count": 15,
   "id": "68416d1d-a56a-4c9e-a770-fbb96a669d8e",
   "metadata": {},
   "outputs": [
    {
     "name": "stdout",
     "output_type": "stream",
     "text": [
      "[1, 5, 10]\n",
      "10\n",
      "[1, 5]\n",
      "5\n",
      "[1, 5]\n"
     ]
    }
   ],
   "source": [
    "s = []\n",
    "s.append(1)\n",
    "s.append(5)\n",
    "s.append(10)\n",
    "print(s)\n",
    "print(s.pop())\n",
    "print(s)\n",
    "print(s[-1])\n",
    "print(s)"
   ]
  },
  {
   "cell_type": "code",
   "execution_count": 16,
   "id": "55848179-d9be-4af0-ac8f-ec2e0db7d981",
   "metadata": {},
   "outputs": [],
   "source": [
    "class Queue(list):\n",
    "    put = list.append\n",
    "    def peek(self):\n",
    "        return self[0]\n",
    "    def get(self):\n",
    "        return self.pop(0)"
   ]
  },
  {
   "cell_type": "code",
   "execution_count": 23,
   "id": "ddec50cf-1629-490d-a751-d58015941758",
   "metadata": {},
   "outputs": [
    {
     "name": "stdout",
     "output_type": "stream",
     "text": [
      "[1, 5, 10]\n",
      "1\n",
      "[5, 10]\n",
      "5\n"
     ]
    }
   ],
   "source": [
    "q = Queue()\n",
    "q.put(1)\n",
    "q.put(5)\n",
    "q.put(10)\n",
    "print(q)\n",
    "print(q.get())\n",
    "print(q)\n",
    "print(q.peek())"
   ]
  },
  {
   "cell_type": "code",
   "execution_count": 25,
   "id": "f392f894-78af-4692-a87a-f70847aa7a5f",
   "metadata": {},
   "outputs": [
    {
     "name": "stdout",
     "output_type": "stream",
     "text": [
      "<queue.Queue object at 0x000001971471A5B0>\n",
      "1\n",
      "<queue.Queue object at 0x000001971471A5B0>\n"
     ]
    },
    {
     "ename": "AttributeError",
     "evalue": "'Queue' object has no attribute 'peek'",
     "output_type": "error",
     "traceback": [
      "\u001b[1;31m---------------------------------------------------------------------------\u001b[0m",
      "\u001b[1;31mAttributeError\u001b[0m                            Traceback (most recent call last)",
      "\u001b[1;32m~\\AppData\\Local\\Temp\\ipykernel_10376\\2465932111.py\u001b[0m in \u001b[0;36m<module>\u001b[1;34m\u001b[0m\n\u001b[0;32m      7\u001b[0m \u001b[0mprint\u001b[0m\u001b[1;33m(\u001b[0m\u001b[0mq\u001b[0m\u001b[1;33m.\u001b[0m\u001b[0mget\u001b[0m\u001b[1;33m(\u001b[0m\u001b[1;33m)\u001b[0m\u001b[1;33m)\u001b[0m\u001b[1;33m\u001b[0m\u001b[1;33m\u001b[0m\u001b[0m\n\u001b[0;32m      8\u001b[0m \u001b[0mprint\u001b[0m\u001b[1;33m(\u001b[0m\u001b[0mq\u001b[0m\u001b[1;33m)\u001b[0m\u001b[1;33m\u001b[0m\u001b[1;33m\u001b[0m\u001b[0m\n\u001b[1;32m----> 9\u001b[1;33m \u001b[0mprint\u001b[0m\u001b[1;33m(\u001b[0m\u001b[0mq\u001b[0m\u001b[1;33m.\u001b[0m\u001b[0mpeek\u001b[0m\u001b[1;33m(\u001b[0m\u001b[1;33m)\u001b[0m\u001b[1;33m)\u001b[0m\u001b[1;33m\u001b[0m\u001b[1;33m\u001b[0m\u001b[0m\n\u001b[0m",
      "\u001b[1;31mAttributeError\u001b[0m: 'Queue' object has no attribute 'peek'"
     ]
    }
   ],
   "source": [
    "from queue import Queue\n",
    "q= Queue()\n",
    "q.put(1)\n",
    "q.put(5)\n",
    "q.put(10)\n",
    "print(q)\n",
    "print(q.get())\n",
    "print(q)\n",
    "print(q.peek())\n"
   ]
  },
  {
   "cell_type": "code",
   "execution_count": null,
   "id": "f586afc1-1d30-463a-8765-4fd2d36de65c",
   "metadata": {},
   "outputs": [],
   "source": []
  }
 ],
 "metadata": {
  "kernelspec": {
   "display_name": "Python 3 (ipykernel)",
   "language": "python",
   "name": "python3"
  },
  "language_info": {
   "codemirror_mode": {
    "name": "ipython",
    "version": 3
   },
   "file_extension": ".py",
   "mimetype": "text/x-python",
   "name": "python",
   "nbconvert_exporter": "python",
   "pygments_lexer": "ipython3",
   "version": "3.9.13"
  }
 },
 "nbformat": 4,
 "nbformat_minor": 5
}
