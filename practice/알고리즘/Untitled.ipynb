{
 "cells": [
  {
   "cell_type": "code",
   "execution_count": null,
   "id": "7499a571-21e0-47d8-b5e2-3c9829e793a6",
   "metadata": {},
   "outputs": [],
   "source": []
  }
 ],
 "metadata": {
  "kernelspec": {
   "display_name": "Python 3 (ipykernel)",
   "language": "python",
   "name": "python3"
  },
  "language_info": {
   "name": ""
  }
 },
 "nbformat": 4,
 "nbformat_minor": 5
}
