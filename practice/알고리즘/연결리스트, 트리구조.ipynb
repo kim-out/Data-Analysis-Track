{
 "cells": [
  {
   "cell_type": "markdown",
   "id": "247c8bb2-73af-4228-8853-0d2e6d2496a2",
   "metadata": {},
   "source": [
    "## LinkedList\n",
    "- 자료의 양이 정해져 있지 않거나, 자료를 추가하거나 삭제하는 일이 많다면 연결 리스트가 적합하다.\n",
    "\n",
    "> 1. 첫째 노드를 만들고 head라는 이름표를 붙인다. (head에 첫째 노드를 할당)\n",
    "> 2. 둘째 노드를 만들고, head의 next가 둘째 노드를 가리키도록 한다.\n",
    "> 3. 셋째 노드를 만들고, head의 next의 next가 셋째 노드를 가리키도록 한다."
   ]
  },
  {
   "attachments": {
    "f024af14-560f-41ed-b077-f2aaba7656f5.png": {
     "image/png": "[encoded data removed]"
    }
   },
   "cell_type": "markdown",
   "id": "a1df7588-a012-414b-a2ae-b6e29a557b83",
   "metadata": {},
   "source": [
    "![image.png](attachment:f024af14-560f-41ed-b077-f2aaba7656f5.png)\n",
    "appendHead 함수 예시"
   ]
  },
  {
   "cell_type": "code",
   "execution_count": 8,
   "id": "171bdb4f-e0d9-4e43-8c08-130e17e1ba75",
   "metadata": {},
   "outputs": [],
   "source": [
    "class Node():\n",
    "    def __init__(self,data):\n",
    "        self.data = data\n",
    "        self.next = None\n",
    "        \n",
    "class LinkedList():\n",
    "    def __init__(self):\n",
    "        self.head = None\n",
    "        self.count = 0\n",
    "        \n",
    "    def appendHead(self,node):\n",
    "        if self.head == None:\n",
    "            self.head = node\n",
    "            self.count = 1\n",
    "        else:\n",
    "            self.count += 1\n",
    "            currentHead = self.head\n",
    "            self.head = node\n",
    "            node.next = currentHead\n",
    "            \n",
    "    def append(self, node):\n",
    "        if self.head == None:\n",
    "            self.head = node\n",
    "            self.count =1\n",
    "        else:\n",
    "            now = self.head\n",
    "            while now.next != None:\n",
    "                now =now.next\n",
    "            now.next = node\n",
    "            self.count += 1\n",
    "            \n",
    "    def insertNodeAtIndex(self, node, index):\n",
    "        if index < 0 or index > self.count:\n",
    "            return -1\n",
    "        elif self.count == index:\n",
    "            self.append(node)\n",
    "        elif index == 0:\n",
    "            self.appendHead(node)\n",
    "        else: \n",
    "            now = self.head\n",
    "            while index > 0 :\n",
    "                index -=1\n",
    "                now = now.index\n",
    "            self.count += 1\n",
    "            next = now.next\n",
    "            now.next = node\n",
    "            node.next = now\n",
    "    \n",
    "    def deleteData(self, data):\n",
    "        if self.head.data == data:\n",
    "            self.head = self.head.next\n",
    "            self.count -=1\n",
    "        else:\n",
    "            first = self.head\n",
    "            second = first.next\n",
    "            while second != None:\n",
    "                if second.data == data:\n",
    "                    first.next =second.next\n",
    "                    self.count -= 1\n",
    "                    break\n",
    "                first = second\n",
    "                second = second.next\n",
    "    def getCount(self):\n",
    "        return self.count          "
   ]
  },
  {
   "cell_type": "code",
   "execution_count": null,
   "id": "a1040427-e326-493d-b00b-f22ce4991373",
   "metadata": {},
   "outputs": [],
   "source": [
    "# 트라이(Trie) 구조\n",
    "# ex. 검색어 자동 완성\n",
    "\n",
    "class Node():\n",
    "    def __init__(self, data):\n",
    "        self.data = data\n",
    "        self.children = {}\n",
    "\n",
    "class Trie():\n",
    "    def __init__(self, data):\n",
    "        self.head = Node(None)\n",
    "    def insert(self, string):\n",
    "        head = self.head\n",
    "        for s in string:\n",
    "            children = head.children\n",
    "            if s not in children:\n",
    "                children[s] = Node(s)\n",
    "            head = children[s]"
   ]
  },
  {
   "cell_type": "code",
   "execution_count": null,
   "id": "ab8ddb7b-401e-4fd0-a918-56ec93b6ab91",
   "metadata": {},
   "outputs": [],
   "source": []
  },
  {
   "cell_type": "markdown",
   "id": "12b38df4-1e88-4748-9ff4-ce71647752fc",
   "metadata": {},
   "source": [
    "## 프로그래머스) 길찾기 게임"
   ]
  },
  {
   "cell_type": "markdown",
   "id": "f0f0d160-a574-4fcd-b717-0549d764385c",
   "metadata": {},
   "source": [
    "- 트리를 구성하는 모든 노드의 x, y 좌표 값은 정수이다.\n",
    "- 모든 노드는 서로 다른 x값을 가진다.\n",
    "- 같은 레벨(level)에 있는 노드는 같은 y 좌표를 가진다.\n",
    "- 자식 노드의 y 값은 항상 부모 노드보다 작다.\n",
    "- 임의의 노드 V의 왼쪽 서브 트리(left subtree)에 있는 모든 노드의 x값은 V의 x값보다 작다.\n",
    "- 임의의 노드 V의 오른쪽 서브 트리(right subtree)에 있는 모든 노드의 x값은 V의 x값보다 크다."
   ]
  },
  {
   "cell_type": "markdown",
   "id": "360e4d52-b8d6-491f-9cfe-919dff6fadfb",
   "metadata": {},
   "source": [
    "- 전위 순회는 뿌리->왼쪽 자식->오른쪽 자식 순\n",
    "- 후위 순회는 왼쪽자식->오른쪽 자식-> 뿌리"
   ]
  },
  {
   "cell_type": "code",
   "execution_count": 56,
   "id": "269a3b0d-20c4-4ffd-8301-fb1f2ef38dc5",
   "metadata": {},
   "outputs": [],
   "source": [
    "nodeinfo =[[5,3],[11,5],[13,3],[3,5],[6,1],[1,3],[8,6],[7,2],[2,2]]"
   ]
  },
  {
   "cell_type": "code",
   "execution_count": 59,
   "id": "9f0a2634-923c-4428-9940-74745863b727",
   "metadata": {
    "tags": []
   },
   "outputs": [
    {
     "ename": "AttributeError",
     "evalue": "'trie' object has no attribute 'chlid'",
     "output_type": "error",
     "traceback": [
      "\u001b[1;31m---------------------------------------------------------------------------\u001b[0m",
      "\u001b[1;31mAttributeError\u001b[0m                            Traceback (most recent call last)",
      "\u001b[1;32m~\\AppData\\Local\\Temp\\ipykernel_8300\\3534231912.py\u001b[0m in \u001b[0;36m<module>\u001b[1;34m\u001b[0m\n\u001b[0;32m     15\u001b[0m     \u001b[0mcv\u001b[0m \u001b[1;33m=\u001b[0m \u001b[0mnodeinfo_sorted\u001b[0m\u001b[1;33m.\u001b[0m\u001b[0mpop\u001b[0m\u001b[1;33m(\u001b[0m\u001b[1;33m)\u001b[0m\u001b[1;33m\u001b[0m\u001b[1;33m\u001b[0m\u001b[0m\n\u001b[0;32m     16\u001b[0m     \u001b[1;32mif\u001b[0m \u001b[0mcv\u001b[0m\u001b[1;33m[\u001b[0m\u001b[1;36m1\u001b[0m\u001b[1;33m]\u001b[0m \u001b[1;33m==\u001b[0m \u001b[0my\u001b[0m\u001b[1;33m:\u001b[0m\u001b[1;33m\u001b[0m\u001b[1;33m\u001b[0m\u001b[0m\n\u001b[1;32m---> 17\u001b[1;33m         \u001b[0mroot\u001b[0m\u001b[1;33m.\u001b[0m\u001b[0mchlid\u001b[0m\u001b[1;33m[\u001b[0m\u001b[0mcv\u001b[0m\u001b[1;33m]\u001b[0m \u001b[1;33m=\u001b[0m \u001b[0mcv\u001b[0m\u001b[1;33m\u001b[0m\u001b[1;33m\u001b[0m\u001b[0m\n\u001b[0m\u001b[0;32m     18\u001b[0m     \u001b[1;32melse\u001b[0m\u001b[1;33m:\u001b[0m\u001b[1;33m\u001b[0m\u001b[1;33m\u001b[0m\u001b[0m\n\u001b[0;32m     19\u001b[0m         \u001b[0my\u001b[0m \u001b[1;33m=\u001b[0m \u001b[0mcv\u001b[0m\u001b[1;33m[\u001b[0m\u001b[1;36m1\u001b[0m\u001b[1;33m]\u001b[0m\u001b[1;33m\u001b[0m\u001b[1;33m\u001b[0m\u001b[0m\n",
      "\u001b[1;31mAttributeError\u001b[0m: 'trie' object has no attribute 'chlid'"
     ]
    }
   ],
   "source": [
    "class trie():\n",
    "    def __init__(self, node):\n",
    "        self.head = None\n",
    "        self.child = {}\n",
    "\n",
    "order = []\n",
    "nodeinfo_index = list(enumerate(nodeinfo)) # 인덱스 저장\n",
    "nodeinfo_sorted = nodeinfo.copy()\n",
    "nodeinfo_sorted.sort(key = lambda x: (x[1],x[0])) # y좌표 오름차순\n",
    "\n",
    "cv = nodeinfo_sorted.pop()\n",
    "root = trie(cv)\n",
    "y = cv[1]\n",
    "while nodeinfo_sorted:\n",
    "    cv = nodeinfo_sorted.pop()\n",
    "    if cv[1] == y:\n",
    "        root.chlid = cv\n",
    "    else:\n",
    "        y = cv[1]\n",
    "        new_root = trie(cv)\n",
    "        new_root.head = root\n",
    "        root = new_root"
   ]
  },
  {
   "cell_type": "markdown",
   "id": "4fee57da-458f-48d0-822a-8f5ed84180b3",
   "metadata": {},
   "source": [
    "- step\n",
    "- 1. 각 노드에 순서를 매긴다.\n",
    "- 2. 노드의 고유한 레벨값(y좌표)을 찾는다.\n",
    "- 3. 레벨 순서대로 역순 정렬한다.\n",
    "> 레벨이 동일한 경우, x좌표가 작은 순서대로 정렬한다.\n",
    "- 4. 트리에 각 순서값을 삽입한다\n",
    "> 각 레벨에 대해, 부모 노드의 x값보다 작으면 왼쪽 노드에 삽입/크면 오른쪽 노드에 삽입\n",
    "- 5. 전위순환/후위순환"
   ]
  },
  {
   "cell_type": "code",
   "execution_count": null,
   "id": "50e51310-561c-431d-9ed6-c8d438b8b2fa",
   "metadata": {},
   "outputs": [],
   "source": [
    "class TreeNode:\n",
    "    def __init__(self, val, left = None, right = None):\n",
    "        self.val = val\n",
    "        self.left = left\n",
    "        self.right = right\n",
    "def solution(nodeinfo):\n",
    "    levels = sorted(list({x[1] for x in nodeinfo}), reverse = True)\n",
    "    nodeinfo = [i+[idx+1] for idx, i in enumerate(nodeinfo)]\n",
    "    "
   ]
  }
 ],
 "metadata": {
  "kernelspec": {
   "display_name": "Python 3 (ipykernel)",
   "language": "python",
   "name": "python3"
  },
  "language_info": {
   "codemirror_mode": {
    "name": "ipython",
    "version": 3
   },
   "file_extension": ".py",
   "mimetype": "text/x-python",
   "name": "python",
   "nbconvert_exporter": "python",
   "pygments_lexer": "ipython3",
   "version": "3.9.13"
  }
 },
 "nbformat": 4,
 "nbformat_minor": 5
}
