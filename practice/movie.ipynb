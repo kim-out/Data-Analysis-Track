{
 "cells": [
  {
   "cell_type": "code",
   "execution_count": 29,
   "id": "4295fd6d-918b-499f-b8d1-67258aa0b4a7",
   "metadata": {},
   "outputs": [
    {
     "name": "stdout",
     "output_type": "stream",
     "text": [
      "200\n"
     ]
    }
   ],
   "source": [
    "# requests -> HTTP통신\n",
    "\n",
    "import requests\n",
    "response =requests.get('http://api.kcisa.kr/openapi/service/rest/meta16/getkobis04',\n",
    "                      params={'serviceKey':'8461d5ef-4cb1-4cdc-9370-78f41e37fb63',\n",
    "                             'numOfRows':'2000',\n",
    "                             'pageNo':'1'},\n",
    "                      headers = {'Accept':'accept: application/json'})\n",
    "print(response.status_code)"
   ]
  },
  {
   "cell_type": "code",
   "execution_count": 21,
   "id": "2d6fd998-6f44-4f44-986e-e9ac3471abb6",
   "metadata": {
    "tags": []
   },
   "outputs": [],
   "source": [
    "import json\n",
    "response.json()\n",
    "title = [i['title'] for i in response.json()['response']['body']['items']['item']]\n",
    "createD = [i['createdDate'] for i in response.json()['response']['body']['items']['item']]\n",
    "category = [i['subjectCategory'] for i in response.json()['response']['body']['items']['item']]\n",
    "creator = [i['creator'] for i in response.json()['response']['body']['items']['item']]"
   ]
  },
  {
   "cell_type": "code",
   "execution_count": 22,
   "id": "8568fce1-b4e3-4a85-b6b6-7f65584995f4",
   "metadata": {},
   "outputs": [],
   "source": [
    "import pandas as pd\n",
    "data = {'createDate':createD,\n",
    "        'category':category,\n",
    "        'creator':creator}\n",
    "index = title\n",
    "df = pd.DataFrame(data,index)"
   ]
  },
  {
   "cell_type": "code",
   "execution_count": 23,
   "id": "5877d2a9-fc14-4fde-8849-20de04051ecb",
   "metadata": {},
   "outputs": [
    {
     "data": {
      "text/html": [
       "<div>\n",
       "<style scoped>\n",
       "    .dataframe tbody tr th:only-of-type {\n",
       "        vertical-align: middle;\n",
       "    }\n",
       "\n",
       "    .dataframe tbody tr th {\n",
       "        vertical-align: top;\n",
       "    }\n",
       "\n",
       "    .dataframe thead th {\n",
       "        text-align: right;\n",
       "    }\n",
       "</style>\n",
       "<table border=\"1\" class=\"dataframe\">\n",
       "  <thead>\n",
       "    <tr style=\"text-align: right;\">\n",
       "      <th></th>\n",
       "      <th>createDate</th>\n",
       "      <th>category</th>\n",
       "      <th>creator</th>\n",
       "    </tr>\n",
       "  </thead>\n",
       "  <tbody>\n",
       "    <tr>\n",
       "      <th>늦더위</th>\n",
       "      <td>2010</td>\n",
       "      <td>드라마</td>\n",
       "      <td>누리집</td>\n",
       "    </tr>\n",
       "    <tr>\n",
       "      <th>늦봄</th>\n",
       "      <td>2017</td>\n",
       "      <td>드라마</td>\n",
       "      <td>누리집</td>\n",
       "    </tr>\n",
       "    <tr>\n",
       "      <th>늦어도 그날까지</th>\n",
       "      <td>1969</td>\n",
       "      <td>None</td>\n",
       "      <td>누리집</td>\n",
       "    </tr>\n",
       "    <tr>\n",
       "      <th>늦여름</th>\n",
       "      <td>2001</td>\n",
       "      <td>None</td>\n",
       "      <td>누리집</td>\n",
       "    </tr>\n",
       "    <tr>\n",
       "      <th>늦여름</th>\n",
       "      <td>2012</td>\n",
       "      <td>드라마</td>\n",
       "      <td>누리집</td>\n",
       "    </tr>\n",
       "    <tr>\n",
       "      <th>...</th>\n",
       "      <td>...</td>\n",
       "      <td>...</td>\n",
       "      <td>...</td>\n",
       "    </tr>\n",
       "    <tr>\n",
       "      <th>레이지 헤이지 크레이지</th>\n",
       "      <td>2015</td>\n",
       "      <td>멜로/로맨스,드라마</td>\n",
       "      <td>누리집</td>\n",
       "    </tr>\n",
       "    <tr>\n",
       "      <th>레이지</th>\n",
       "      <td>1993</td>\n",
       "      <td>드라마</td>\n",
       "      <td>누리집</td>\n",
       "    </tr>\n",
       "    <tr>\n",
       "      <th>레이지</th>\n",
       "      <td>1997</td>\n",
       "      <td>액션,범죄,스릴러</td>\n",
       "      <td>누리집</td>\n",
       "    </tr>\n",
       "    <tr>\n",
       "      <th>레이지</th>\n",
       "      <td>2009</td>\n",
       "      <td>드라마</td>\n",
       "      <td>누리집</td>\n",
       "    </tr>\n",
       "    <tr>\n",
       "      <th>레이징 빅터 바가스</th>\n",
       "      <td>2002</td>\n",
       "      <td>드라마,멜로/로맨스</td>\n",
       "      <td>누리집</td>\n",
       "    </tr>\n",
       "  </tbody>\n",
       "</table>\n",
       "<p>2000 rows × 3 columns</p>\n",
       "</div>"
      ],
      "text/plain": [
       "             createDate    category creator\n",
       "늦더위                2010         드라마     누리집\n",
       "늦봄                 2017         드라마     누리집\n",
       "늦어도 그날까지           1969        None     누리집\n",
       "늦여름                2001        None     누리집\n",
       "늦여름                2012         드라마     누리집\n",
       "...                 ...         ...     ...\n",
       "레이지 헤이지 크레이지       2015  멜로/로맨스,드라마     누리집\n",
       "레이지                1993         드라마     누리집\n",
       "레이지                1997   액션,범죄,스릴러     누리집\n",
       "레이지                2009         드라마     누리집\n",
       "레이징 빅터 바가스         2002  드라마,멜로/로맨스     누리집\n",
       "\n",
       "[2000 rows x 3 columns]"
      ]
     },
     "execution_count": 23,
     "metadata": {},
     "output_type": "execute_result"
    }
   ],
   "source": [
    "df"
   ]
  },
  {
   "cell_type": "code",
   "execution_count": 24,
   "id": "19a3b53c-6307-4504-b823-1c496270d075",
   "metadata": {},
   "outputs": [],
   "source": [
    "df.to_csv(\"datas/movie.csv\")"
   ]
  },
  {
   "cell_type": "code",
   "execution_count": 1,
   "id": "6d8daea6-621d-4eb3-9828-50bbf9141798",
   "metadata": {},
   "outputs": [
    {
     "ename": "NameError",
     "evalue": "name 'sns' is not defined",
     "output_type": "error",
     "traceback": [
      "\u001b[1;31m---------------------------------------------------------------------------\u001b[0m",
      "\u001b[1;31mNameError\u001b[0m                                 Traceback (most recent call last)",
      "\u001b[1;32m~\\AppData\\Local\\Temp\\ipykernel_12380\\2243507609.py\u001b[0m in \u001b[0;36m<module>\u001b[1;34m\u001b[0m\n\u001b[1;32m----> 1\u001b[1;33m \u001b[0msns\u001b[0m\u001b[1;33m.\u001b[0m\u001b[0mcatplot\u001b[0m\u001b[1;33m(\u001b[0m\u001b[0mdata\u001b[0m\u001b[1;33m=\u001b[0m\u001b[0mdf\u001b[0m\u001b[1;33m,\u001b[0m \u001b[0mx\u001b[0m \u001b[1;33m=\u001b[0m \u001b[1;34m\"age\"\u001b[0m\u001b[1;33m,\u001b[0m \u001b[0my\u001b[0m \u001b[1;33m=\u001b[0m \u001b[1;34m\"class\"\u001b[0m \u001b[1;33m,\u001b[0m\u001b[0mkind\u001b[0m\u001b[1;33m=\u001b[0m \u001b[1;34m\"box\"\u001b[0m\u001b[1;33m)\u001b[0m\u001b[1;33m\u001b[0m\u001b[1;33m\u001b[0m\u001b[0m\n\u001b[0m",
      "\u001b[1;31mNameError\u001b[0m: name 'sns' is not defined"
     ]
    }
   ],
   "source": []
  },
  {
   "cell_type": "code",
   "execution_count": null,
   "id": "90ec92f0-06f1-4bae-bd0c-8a4aed6a4e55",
   "metadata": {},
   "outputs": [],
   "source": []
  }
 ],
 "metadata": {
  "kernelspec": {
   "display_name": "Python 3 (ipykernel)",
   "language": "python",
   "name": "python3"
  },
  "language_info": {
   "codemirror_mode": {
    "name": "ipython",
    "version": 3
   },
   "file_extension": ".py",
   "mimetype": "text/x-python",
   "name": "python",
   "nbconvert_exporter": "python",
   "pygments_lexer": "ipython3",
   "version": "3.9.13"
  }
 },
 "nbformat": 4,
 "nbformat_minor": 5
}
