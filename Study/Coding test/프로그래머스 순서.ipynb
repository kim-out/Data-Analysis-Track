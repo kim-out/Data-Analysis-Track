{
 "cells": [
  {
   "attachments": {},
   "cell_type": "markdown",
   "metadata": {},
   "source": [
    "- n명의 선수\n",
    "- results[A, B] -> A선수가 B선수를 이김\n",
    "- return -> 정확하게 순위를 매길 수 있는 선수의 수"
   ]
  },
  {
   "attachments": {},
   "cell_type": "markdown",
   "metadata": {},
   "source": [
    "### 집합 이용 풀이"
   ]
  },
  {
   "cell_type": "code",
   "execution_count": 55,
   "metadata": {},
   "outputs": [
    {
     "data": {
      "text/plain": [
       "2"
      ]
     },
     "execution_count": 55,
     "metadata": {},
     "output_type": "execute_result"
    }
   ],
   "source": [
    "def solution(n, results):\n",
    "    wins, loses = {},{}\n",
    "    for i in range(1, n+1):\n",
    "        wins[i], loses[i] = set(),set()\n",
    "\n",
    "    for i in range(1, n+1):\n",
    "        for battle in results:\n",
    "\n",
    "            # i가 이긴 경기의 상대 선수를 집합 wins에 추가\n",
    "            if battle[0] == i: \n",
    "                wins[i].add(battle[1])\n",
    "\n",
    "            # i가 진 경기의 상대 선수를 집합 loses 추가\n",
    "            if battle[1] == i: \n",
    "                loses[i].add(battle[0])\n",
    "\n",
    "        # i를 이긴 선수들의 wins집합을 i의 wins로 업데이트\n",
    "        # i를 이긴 선수는 i가 이긴 선수들 역시 이김\n",
    "        for winner in loses[i]:\n",
    "            wins[winner].update(wins[i])\n",
    "\n",
    "        # i에게 진 선수들의 loses집합을 i의 loses로 업데이트\n",
    "        for loser in wins[i]:\n",
    "            loses[loser].update(loses[i])\n",
    "\n",
    "    cnt = 0\n",
    "    # 각 선수의 wins집합, loses집합 요소 합이 자신을 제외한 수인 경우 cnt +1\n",
    "    for i in range(1, n+1):\n",
    "        if len(wins[i]) + len(loses[i]) == n-1:\n",
    "            cnt += 1\n",
    "    return cnt\n",
    "solution(n, results)"
   ]
  },
  {
   "attachments": {},
   "cell_type": "markdown",
   "metadata": {},
   "source": [
    "### 플로이드-와샬 풀이"
   ]
  },
  {
   "cell_type": "code",
   "execution_count": null,
   "metadata": {},
   "outputs": [],
   "source": [
    "def solution(n, results):\n",
    "\n",
    "    # n*n 그래프 '?'로 초기화\n",
    "    total = [['?' for i in range(n)] for j in range(n)]\n",
    "\n",
    "    # 자기 자신과의 비교는 'self'\n",
    "    for i in range(n):\n",
    "        total[i][i] = 'SELF'\n",
    "\n",
    "    # results의 경기 결과 기록\n",
    "    for result in results:\n",
    "        total[result[0]-1][result[1]-1] = 'WIN'\n",
    "        total[result[1]-1][result[0]-1] = 'LOSE'\n",
    "\n",
    "    # i가 k를 이기고 k가 j를 이기면 i가 j를 이김\n",
    "    for k in range(n):\n",
    "        for i in range(n):\n",
    "            for j in range(n):\n",
    "                if total[i][k] == 'WIN' and total[k][j] == 'WIN':\n",
    "                    total[i][j] = 'WIN'\n",
    "                elif total[i][k] == 'LOSE' and total[k][j] == 'LOSE':\n",
    "                    total[i][j] = 'LOSE'\n",
    "\n",
    "    answer = 0\n",
    "    # 각 배열에 승부가 기록되지 않은 경우가 없으면 +1\n",
    "    for i in total:\n",
    "        if '?' not in i:\n",
    "            answer += 1\n",
    "\n",
    "    return answer\n"
   ]
  }
 ],
 "metadata": {
  "kernelspec": {
   "display_name": "base",
   "language": "python",
   "name": "python3"
  },
  "language_info": {
   "codemirror_mode": {
    "name": "ipython",
    "version": 3
   },
   "file_extension": ".py",
   "mimetype": "text/x-python",
   "name": "python",
   "nbconvert_exporter": "python",
   "pygments_lexer": "ipython3",
   "version": "3.9.13"
  },
  "orig_nbformat": 4
 },
 "nbformat": 4,
 "nbformat_minor": 2
}
