{
 "cells": [
  {
   "cell_type": "markdown",
   "id": "f997ecd7-e1fa-46b6-94be-ed7e3998ad7f",
   "metadata": {},
   "source": [
    "1번 노드로부터 가장 멀리 떨어진 노드의 갯수 구하기 "
   ]
  },
  {
   "cell_type": "code",
   "execution_count": null,
   "id": "7d5df685-5a9f-4944-b43f-debd0b35490e",
   "metadata": {},
   "outputs": [],
   "source": [
    "def solution(n, edge):\n",
    "    from queue import Queue\n",
    "    n = 6\n",
    "    edge = [[3, 6], [4, 3], [3, 2], [1, 3], [1, 2], [2, 4], [5, 2]]\n",
    "    dic = {i+1:[] for i in range(n)} # 연결된 노드 표\n",
    "    distance = [-1]*n # 1번 노드 ~ 다른 노드 까지의 거리 표\n",
    "    distance[0] = 0 # 1번 - 1번 거리 0\n",
    "\n",
    "    for line in edge: # edge읽으며 dic(연결 노드 표)생성\n",
    "        dic[line[0]].append(line[1])\n",
    "        dic[line[1]].append(line[0])\n",
    "\n",
    "    stack = Queue() \n",
    "    stack.put(1)\n",
    "\n",
    "    while stack.qsize() > 0:\n",
    "        cur_val = stack.get()\n",
    "        for node in dic[cur_val]: # 현재 값에 연결된 노드들을 돌며 \n",
    "            if distance[node - 1] != -1: # 1~node 이미 밝혀진 상태면 continue\n",
    "                continue\n",
    "            distance[node - 1] = distance[cur_val - 1] + 1 # 아니면 1~node의 거리는 1~cur_val + 1\n",
    "            stack.put(node) \n",
    "\n",
    "    distance.sort(reverse = True)\n",
    "    answer = 0\n",
    "\n",
    "    for node in distance: # 거리 값이 가장 큰 노드의 수 가져오기\n",
    "        if node != max(distance):\n",
    "            break\n",
    "        answer += 1\n",
    "\n",
    "    return answer"
   ]
  }
 ],
 "metadata": {
  "kernelspec": {
   "display_name": "Python 3 (ipykernel)",
   "language": "python",
   "name": "python3"
  },
  "language_info": {
   "codemirror_mode": {
    "name": "ipython",
    "version": 3
   },
   "file_extension": ".py",
   "mimetype": "text/x-python",
   "name": "python",
   "nbconvert_exporter": "python",
   "pygments_lexer": "ipython3",
   "version": "3.9.13"
  }
 },
 "nbformat": 4,
 "nbformat_minor": 5
}
