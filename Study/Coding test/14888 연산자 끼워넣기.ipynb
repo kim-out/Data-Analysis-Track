{
 "cells": [
  {
   "cell_type": "code",
   "execution_count": null,
   "id": "5eebe36a-37c8-4698-ac81-80ce0eacb180",
   "metadata": {},
   "outputs": [],
   "source": [
    "연산자 우선순위 x, 순서대로 계산, 몫만 취함\n",
    "가장 큰 수와 가장 작은 수 반환"
   ]
  },
  {
   "cell_type": "code",
   "execution_count": 24,
   "id": "3aaf9b33-4224-45ac-85c4-0a3a95aff038",
   "metadata": {},
   "outputs": [],
   "source": [
    "n = 6\n",
    "nums = [1,2,3,4,5,6]\n"
   ]
  },
  {
   "cell_type": "code",
   "execution_count": 26,
   "id": "b43c2385-66ca-4178-b7f0-14357385f4fb",
   "metadata": {},
   "outputs": [
    {
     "name": "stdout",
     "output_type": "stream",
     "text": [
      "1\n",
      "1\n",
      "1\n",
      "1\n",
      "1\n",
      "1\n",
      "1\n",
      "1\n",
      "1\n",
      "1\n",
      "1\n",
      "1\n",
      "1\n",
      "1\n",
      "1\n",
      "1\n",
      "1\n",
      "1\n",
      "1\n",
      "1\n",
      "1\n",
      "1\n",
      "1\n",
      "1\n",
      "1\n",
      "1\n",
      "1\n",
      "1\n",
      "1\n",
      "1\n",
      "1\n",
      "1\n",
      "1\n",
      "1\n",
      "1\n",
      "1\n",
      "1\n",
      "1\n",
      "1\n",
      "1\n",
      "1\n",
      "1\n",
      "1\n",
      "1\n",
      "1\n",
      "1\n",
      "1\n",
      "1\n",
      "1\n",
      "1\n",
      "1\n",
      "1\n",
      "1\n",
      "1\n",
      "1\n",
      "1\n",
      "1\n",
      "1\n",
      "1\n",
      "1\n",
      "1\n",
      "1\n",
      "1\n",
      "1\n",
      "1\n"
     ]
    },
    {
     "data": {
      "text/plain": [
       "([-24,\n",
       "  -9,\n",
       "  -5,\n",
       "  -4,\n",
       "  -2,\n",
       "  -1,\n",
       "  -1,\n",
       "  0,\n",
       "  0,\n",
       "  0,\n",
       "  0,\n",
       "  0,\n",
       "  0,\n",
       "  1,\n",
       "  1,\n",
       "  1,\n",
       "  1,\n",
       "  1,\n",
       "  1,\n",
       "  1,\n",
       "  1,\n",
       "  2,\n",
       "  2,\n",
       "  3,\n",
       "  3,\n",
       "  3,\n",
       "  3,\n",
       "  3,\n",
       "  3,\n",
       "  5,\n",
       "  5,\n",
       "  5,\n",
       "  5,\n",
       "  6,\n",
       "  6,\n",
       "  6,\n",
       "  6,\n",
       "  6,\n",
       "  6,\n",
       "  6,\n",
       "  7,\n",
       "  7,\n",
       "  7,\n",
       "  7,\n",
       "  7,\n",
       "  10,\n",
       "  10,\n",
       "  11,\n",
       "  11,\n",
       "  12,\n",
       "  12,\n",
       "  13,\n",
       "  19,\n",
       "  21,\n",
       "  24,\n",
       "  29,\n",
       "  30,\n",
       "  30,\n",
       "  36,\n",
       "  48],\n",
       " [-1, 0, 0, 0])"
      ]
     },
     "execution_count": 26,
     "metadata": {},
     "output_type": "execute_result"
    }
   ],
   "source": [
    "# n = int(input())\n",
    "# nums = list(map(int, input()))\n",
    "# cals = list(map(int, input())) # +, -, X, %\n",
    "results = []\n",
    "\n",
    "def cal(p, mi, mu, d, result, i):\n",
    "    if i == n:\n",
    "        return results.append(result)\n",
    "    if p > 0:\n",
    "        cal(p-1, mi, mu, d, result+nums[i], i+1)\n",
    "    if mi> 0:\n",
    "        cal(p,mi-1, mu, d, result-nums[i], i+1)\n",
    "    if mu> 0:\n",
    "        cal(p,mi, mu-1, d, result*nums[i], i+1)\n",
    "    if d > 0:\n",
    "        cal(p,mi, mu, d-1, result//nums[i], i+1)\n",
    "# max(results)\n",
    "cal(2,1,1,1,nums[0],1)\n",
    "results.sort()\n",
    "\n",
    "results, cals\n",
    "\n",
    "\n",
    "# 고쳐야댐"
   ]
  },
  {
   "cell_type": "code",
   "execution_count": 12,
   "id": "e5e2bc67-269f-4c7f-b92d-08aa0d5acd96",
   "metadata": {},
   "outputs": [
    {
     "data": {
      "text/plain": [
       "243"
      ]
     },
     "execution_count": 12,
     "metadata": {},
     "output_type": "execute_result"
    }
   ],
   "source": [
    "len(results)"
   ]
  },
  {
   "cell_type": "code",
   "execution_count": null,
   "id": "54b234f1-5719-46ff-96ac-2b5c879bb081",
   "metadata": {},
   "outputs": [],
   "source": []
  }
 ],
 "metadata": {
  "kernelspec": {
   "display_name": "Python 3 (ipykernel)",
   "language": "python",
   "name": "python3"
  },
  "language_info": {
   "codemirror_mode": {
    "name": "ipython",
    "version": 3
   },
   "file_extension": ".py",
   "mimetype": "text/x-python",
   "name": "python",
   "nbconvert_exporter": "python",
   "pygments_lexer": "ipython3",
   "version": "3.9.13"
  }
 },
 "nbformat": 4,
 "nbformat_minor": 5
}
