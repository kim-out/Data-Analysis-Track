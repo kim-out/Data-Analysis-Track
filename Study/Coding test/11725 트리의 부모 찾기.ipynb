{
 "cells": [
  {
   "cell_type": "markdown",
   "id": "7ec1c99e-e093-4804-8977-efa792003c3a",
   "metadata": {},
   "source": [
    "- 루트 1\n",
    "- 2번부터 순서대로 부모 노드 출력\n"
   ]
  },
  {
   "cell_type": "code",
   "execution_count": 22,
   "id": "110e1f37-8593-47b0-83a8-1c9acce3f99f",
   "metadata": {},
   "outputs": [
    {
     "name": "stdout",
     "output_type": "stream",
     "text": [
      "1\n",
      "1\n",
      "2\n",
      "3\n",
      "3\n",
      "4\n",
      "4\n",
      "5\n",
      "5\n",
      "6\n",
      "6\n"
     ]
    }
   ],
   "source": [
    "import sys\n",
    "from queue import Queue\n",
    "\n",
    "n = int(sys.stdin.readline())\n",
    "tree = {i: [] for i in range(1,n+1)}\n",
    "stack = Queue()\n",
    "stack.put(1)\n",
    "roots = [0] + [-1]*n\n",
    "\n",
    "for i in range(n-1):\n",
    "    node1, node2 = map(int,sys.stdin.readline().split())\n",
    "    tree[node1].append(node2)\n",
    "    tree[node2].append(node1)\n",
    "\n",
    "while stack.qsize() > 0:\n",
    "    cur_node = stack.get() \n",
    "    links = tree[cur_node].copy() # 연결된 노드들\n",
    "    for link_node in links:\n",
    "        if roots[link_node-1] == -1: # 연결 노드의 부모가 저장되지 않은 상태면\n",
    "            roots[link_node-1] = cur_node # 연결 노드 부모 = cur_node\n",
    "            stack.put(link_node) # 해당 노드 스택에 추가\n",
    "\n",
    "for i in range(1, n):\n",
    "    print(roots[i])\n"
   ]
  },
  {
   "cell_type": "code",
   "execution_count": null,
   "id": "a7cc36f9",
   "metadata": {},
   "outputs": [],
   "source": []
  },
  {
   "cell_type": "code",
   "execution_count": null,
   "id": "c5910143",
   "metadata": {},
   "outputs": [],
   "source": []
  }
 ],
 "metadata": {
  "kernelspec": {
   "display_name": "Python 3 (ipykernel)",
   "language": "python",
   "name": "python3"
  },
  "language_info": {
   "codemirror_mode": {
    "name": "ipython",
    "version": 3
   },
   "file_extension": ".py",
   "mimetype": "text/x-python",
   "name": "python",
   "nbconvert_exporter": "python",
   "pygments_lexer": "ipython3",
   "version": "3.9.13"
  }
 },
 "nbformat": 4,
 "nbformat_minor": 5
}
