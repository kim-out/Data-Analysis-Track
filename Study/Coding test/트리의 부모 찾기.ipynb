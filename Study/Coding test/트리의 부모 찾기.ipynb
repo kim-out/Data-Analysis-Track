{
 "cells": [
  {
   "cell_type": "markdown",
   "id": "7ec1c99e-e093-4804-8977-efa792003c3a",
   "metadata": {},
   "source": [
    "루트 1\n",
    "2번부터 순서대로 부모 노드 출력\n"
   ]
  },
  {
   "cell_type": "code",
   "execution_count": 18,
   "id": "bfd20bc5-71ee-4bfa-bbed-08d7dbdc7b79",
   "metadata": {},
   "outputs": [],
   "source": [
    "n = 7\n",
    "tree = {1:[4,6], 2:[4], 3:[6],4:[1,2,7],5:[3],6:[1,3],7:[4]}"
   ]
  },
  {
   "cell_type": "code",
   "execution_count": 19,
   "id": "110e1f37-8593-47b0-83a8-1c9acce3f99f",
   "metadata": {},
   "outputs": [],
   "source": [
    "from queue import Queue\n",
    "# n = int(input())\n",
    "# tree = {i: [] for i in range(1,n+1)}\n",
    "stack = Queue()\n",
    "stack.put(1)\n",
    "roots = [-1]*n\n",
    "roots[0] = 0\n",
    "\n",
    "# for i in range(n-1):\n",
    "#     node1, node2 = map(int,input().split())\n",
    "#     tree[node1].append(node2)\n",
    "#     tree[node2].append(node1)\n"
   ]
  },
  {
   "cell_type": "code",
   "execution_count": 20,
   "id": "86765e78-bfc1-43f8-a5a7-ca3810be4c6d",
   "metadata": {},
   "outputs": [
    {
     "name": "stdout",
     "output_type": "stream",
     "text": [
      "[0, -1, -1, 1, -1, -1, -1]\n",
      "[0, -1, -1, 1, -1, 1, -1]\n",
      "[0, 4, -1, 1, -1, 1, -1]\n",
      "[0, 4, -1, 1, -1, 1, 4]\n",
      "[0, 4, 6, 1, -1, 1, 4]\n",
      "4\n",
      "6\n",
      "1\n",
      "-1\n",
      "1\n",
      "4\n"
     ]
    }
   ],
   "source": [
    "while stack.qsize() > 0:\n",
    "    cur_node = stack.get()\n",
    "    links = tree[cur_node].copy()\n",
    "    for link_node in links:\n",
    "        if roots[link_node-1] == -1:\n",
    "            roots[link_node-1] = cur_node\n",
    "            stack.put(link_node)\n",
    "            print(roots)\n",
    "for i in range(1,n):\n",
    "    print(roots[i])"
   ]
  },
  {
   "cell_type": "code",
   "execution_count": 1,
   "id": "1b2c8ddd-d5ff-445f-942c-500b67113b33",
   "metadata": {},
   "outputs": [
    {
     "ename": "NameError",
     "evalue": "name 'tree' is not defined",
     "output_type": "error",
     "traceback": [
      "\u001b[1;31m---------------------------------------------------------------------------\u001b[0m",
      "\u001b[1;31mNameError\u001b[0m                                 Traceback (most recent call last)",
      "\u001b[1;32m~\\AppData\\Local\\Temp\\ipykernel_23748\\335777326.py\u001b[0m in \u001b[0;36m<module>\u001b[1;34m\u001b[0m\n\u001b[1;32m----> 1\u001b[1;33m \u001b[0mtree\u001b[0m\u001b[1;33m\u001b[0m\u001b[1;33m\u001b[0m\u001b[0m\n\u001b[0m",
      "\u001b[1;31mNameError\u001b[0m: name 'tree' is not defined"
     ]
    }
   ],
   "source": [
    "tree"
   ]
  },
  {
   "cell_type": "code",
   "execution_count": 3,
   "id": "dcc856db-f1e1-44e3-bd12-88657a8fa18b",
   "metadata": {},
   "outputs": [],
   "source": [
    "a = Queue()"
   ]
  },
  {
   "cell_type": "code",
   "execution_count": 4,
   "id": "86855ada-2f2c-449e-9f06-34e786502c40",
   "metadata": {},
   "outputs": [],
   "source": [
    "a.put(1)\n",
    "a.put(2)\n",
    "a.put(3)"
   ]
  },
  {
   "cell_type": "code",
   "execution_count": 15,
   "id": "a2edda12-85f0-47bd-9534-7d780445043e",
   "metadata": {},
   "outputs": [
    {
     "data": {
      "text/plain": [
       "[[-1, -1, -1]]"
      ]
     },
     "execution_count": 15,
     "metadata": {},
     "output_type": "execute_result"
    }
   ],
   "source": [
    "[[-1]*3]"
   ]
  },
  {
   "cell_type": "code",
   "execution_count": null,
   "id": "bb9a5658-4f48-43c0-bce8-2d8d83b570ff",
   "metadata": {},
   "outputs": [],
   "source": []
  }
 ],
 "metadata": {
  "kernelspec": {
   "display_name": "Python 3 (ipykernel)",
   "language": "python",
   "name": "python3"
  },
  "language_info": {
   "codemirror_mode": {
    "name": "ipython",
    "version": 3
   },
   "file_extension": ".py",
   "mimetype": "text/x-python",
   "name": "python",
   "nbconvert_exporter": "python",
   "pygments_lexer": "ipython3",
   "version": "3.9.13"
  }
 },
 "nbformat": 4,
 "nbformat_minor": 5
}
