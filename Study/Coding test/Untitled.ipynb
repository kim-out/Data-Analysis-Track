{
 "cells": [
  {
   "cell_type": "code",
   "execution_count": 1,
   "id": "7d5df685-5a9f-4944-b43f-debd0b35490e",
   "metadata": {},
   "outputs": [],
   "source": [
    "def solution(n, edge):\n",
    "    answer = 0\n",
    "    return answer"
   ]
  },
  {
   "cell_type": "code",
   "execution_count": 20,
   "id": "cba701fa-4079-45cd-98f0-890a586f4fa2",
   "metadata": {
    "tags": []
   },
   "outputs": [],
   "source": [
    "n = 6\n",
    "edge = [[3, 6], [4, 3], [3, 2], [1, 3], [1, 2], [2, 4], [5, 2]]\n",
    "dic = {i+1:[] for i in range(n)}\n",
    "graph = [['inf']*n for i in range(n)]\n",
    "for i in range(n):\n",
    "    graph[i][i] = 0\n",
    "stack = [1]\n",
    "\n",
    "for line in edge:\n",
    "    dic[line[0]].append(line[1])\n",
    "    dic[line[1]].append(line[0])\n",
    "while stack:\n",
    "    cur_val = stack.pop()\n",
    "    for node in dic[cur_val]:\n",
    "        if graph[cur_val-1][node-1]!='inf':\n",
    "            continue\n",
    "        graph[cur_val -1][node-1] = 1\n",
    "        stack.append(node)"
   ]
  },
  {
   "cell_type": "markdown",
   "id": "f997ecd7-e1fa-46b6-94be-ed7e3998ad7f",
   "metadata": {},
   "source": [
    "1번 노드로부터 가장 멀리 떨어진 노드\n",
    "1: 2, 3\n",
    "2: 1, 3, 4, 5\n",
    "3: 1, 2, 4, 5, 6\n",
    "4: 2, 3\n",
    "5: 2\n",
    "6: 3\n",
    "\n",
    "  1 2 3 4 5 6\n",
    "1 0 1 1\n",
    "2 1 0   1 1\n",
    "3 1   0 1   1\n",
    "4   1 1 0\n",
    "5   1     0\n",
    "6     1     0"
   ]
  },
  {
   "cell_type": "code",
   "execution_count": 25,
   "id": "4372ed7f-63fd-4e12-928e-e5f31739f9ab",
   "metadata": {},
   "outputs": [
    {
     "data": {
      "text/plain": [
       "[3, 2]"
      ]
     },
     "execution_count": 25,
     "metadata": {},
     "output_type": "execute_result"
    }
   ],
   "source": [
    "dic[1]\n"
   ]
  },
  {
   "cell_type": "code",
   "execution_count": null,
   "id": "1ee2a701-3176-4d56-b305-102e9597b720",
   "metadata": {},
   "outputs": [],
   "source": []
  }
 ],
 "metadata": {
  "kernelspec": {
   "display_name": "Python 3 (ipykernel)",
   "language": "python",
   "name": "python3"
  },
  "language_info": {
   "codemirror_mode": {
    "name": "ipython",
    "version": 3
   },
   "file_extension": ".py",
   "mimetype": "text/x-python",
   "name": "python",
   "nbconvert_exporter": "python",
   "pygments_lexer": "ipython3",
   "version": "3.9.13"
  }
 },
 "nbformat": 4,
 "nbformat_minor": 5
}
