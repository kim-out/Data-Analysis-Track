{
 "cells": [
  {
   "cell_type": "markdown",
   "id": "d8b24d65-d843-4509-84c1-1601027cc21a",
   "metadata": {},
   "source": [
    "### 강의 내용"
   ]
  },
  {
   "cell_type": "code",
   "execution_count": 3,
   "id": "f17d3f73-456d-41fe-b953-dae8972bf56f",
   "metadata": {},
   "outputs": [],
   "source": [
    "class Stack(list):\n",
    "    push = list.append\n",
    "    \n",
    "    def peek(self):\n",
    "        return self[-1]\n",
    "            "
   ]
  },
  {
   "cell_type": "code",
   "execution_count": 9,
   "id": "13f9596b-b36b-4f67-96e3-797038dae478",
   "metadata": {},
   "outputs": [
    {
     "name": "stdout",
     "output_type": "stream",
     "text": [
      "[1, 5, 10]\n",
      "10\n",
      "[1, 5]\n",
      "5\n",
      "[1, 5]\n"
     ]
    }
   ],
   "source": [
    "s = Stack()\n",
    "s.push(1)\n",
    "s.push(5)\n",
    "s.push(10)\n",
    "print(s)\n",
    "print(s.pop()) #마지막요소 꺼냄\n",
    "print(s)\n",
    "print(s.peek()) #마지막 요소 출력\n",
    "print(s)"
   ]
  },
  {
   "cell_type": "code",
   "execution_count": 15,
   "id": "68416d1d-a56a-4c9e-a770-fbb96a669d8e",
   "metadata": {},
   "outputs": [
    {
     "name": "stdout",
     "output_type": "stream",
     "text": [
      "[1, 5, 10]\n",
      "10\n",
      "[1, 5]\n",
      "5\n",
      "[1, 5]\n"
     ]
    }
   ],
   "source": [
    "s = []\n",
    "s.append(1)\n",
    "s.append(5)\n",
    "s.append(10)\n",
    "print(s)\n",
    "print(s.pop())\n",
    "print(s)\n",
    "print(s[-1])\n",
    "print(s)"
   ]
  },
  {
   "cell_type": "code",
   "execution_count": 16,
   "id": "55848179-d9be-4af0-ac8f-ec2e0db7d981",
   "metadata": {},
   "outputs": [],
   "source": [
    "#앞뒤로 접근 가능\n",
    "class Queue(list):\n",
    "    put = list.append\n",
    "    def peek(self):\n",
    "        return self[0]\n",
    "    def get(self):\n",
    "        return self.pop(0)"
   ]
  },
  {
   "cell_type": "code",
   "execution_count": 23,
   "id": "ddec50cf-1629-490d-a751-d58015941758",
   "metadata": {},
   "outputs": [
    {
     "name": "stdout",
     "output_type": "stream",
     "text": [
      "[1, 5, 10]\n",
      "1\n",
      "[5, 10]\n",
      "5\n"
     ]
    }
   ],
   "source": [
    "q = Queue()\n",
    "q.put(1)\n",
    "q.put(5)\n",
    "q.put(10)\n",
    "print(q)\n",
    "print(q.get()) #가장 앞의 요소\n",
    "print(q)\n",
    "print(q.peek())"
   ]
  },
  {
   "cell_type": "code",
   "execution_count": 4,
   "id": "f392f894-78af-4692-a87a-f70847aa7a5f",
   "metadata": {},
   "outputs": [
    {
     "name": "stdout",
     "output_type": "stream",
     "text": [
      "<queue.Queue object at 0x00000208094D15B0>\n",
      "1\n",
      "<queue.Queue object at 0x00000208094D15B0>\n"
     ]
    }
   ],
   "source": [
    "from queue import Queue #파이썬에 구현되어 있는 큐 클래스\n",
    "q= Queue()\n",
    "q.put(1)\n",
    "q.put(5)\n",
    "q.put(10)\n",
    "print(q)\n",
    "print(q.get())\n",
    "print(q)"
   ]
  },
  {
   "cell_type": "code",
   "execution_count": 65,
   "id": "7831cc19-cdcf-46df-8eac-be84de01895f",
   "metadata": {},
   "outputs": [],
   "source": [
    "board = [[0,0,0,0,0],[0,0,1,0,3],[0,2,5,0,1],[4,2,4,4,2],[3,5,1,3,1]]\n",
    "moves = [1,5,3,5,1,2,1,4]\n",
    "import numpy as np"
   ]
  },
  {
   "cell_type": "markdown",
   "id": "4daa13b0-bf3c-4e25-b672-95e3491ff5e1",
   "metadata": {},
   "source": [
    "### 프로그래머스) 크레인 인형뽑기"
   ]
  },
  {
   "cell_type": "code",
   "execution_count": 75,
   "id": "79694eea-3cf6-40d1-8ed7-24e859e53428",
   "metadata": {},
   "outputs": [],
   "source": [
    "# 내가푼거\n",
    "def solution(board, moves):\n",
    "    b = np.array(board).T #보드 행열변환\n",
    "    m = np.array(moves) - 1 #moves 전체에서 1 빼기(인덱스로 변환)\n",
    "    bas = [0] #뽑은 인형 담을 리스트\n",
    "    answer = 0 \n",
    "    for i in m: \n",
    "        for j in range(len(b[i])): \n",
    "            if b[i][j] != 0:\n",
    "                index = bas.pop()\n",
    "                if index != b[i][j]:\n",
    "                    bas.append(index)\n",
    "                    bas.append(b[i][j])\n",
    "                else:\n",
    "                    answer += 2\n",
    "                b[i][j] = 0\n",
    "                break                  \n",
    "    return answer"
   ]
  },
  {
   "cell_type": "code",
   "execution_count": 76,
   "id": "a2ebf6eb-2072-4fd1-a8c1-3b22b3eb047e",
   "metadata": {},
   "outputs": [
    {
     "data": {
      "text/plain": [
       "4"
      ]
     },
     "execution_count": 76,
     "metadata": {},
     "output_type": "execute_result"
    }
   ],
   "source": [
    "solution(board, moves)"
   ]
  },
  {
   "cell_type": "code",
   "execution_count": 78,
   "id": "19dbe1fc-96f0-4c47-b77a-3123634ad632",
   "metadata": {},
   "outputs": [
    {
     "name": "stdout",
     "output_type": "stream",
     "text": [
      "1\n",
      "deque([5, 3, 5, 1, 2, 1, 4])\n"
     ]
    }
   ],
   "source": [
    "board = [[0,0,0,0,0],[0,0,1,0,3],[0,2,5,0,1],[4,2,4,4,2],[3,5,1,3,1]]\n",
    "moves = [1,5,3,5,1,2,1,4]\n",
    "\n",
    "from collections import deque\n",
    "\n",
    "moves = deque(moves)\n",
    "buckets = []\n",
    "cnt = 0\n",
    "\n",
    "move = moves.popleft() #맨 앞 pop, deque의 메서드\n",
    "print(moves)\n"
   ]
  },
  {
   "cell_type": "code",
   "execution_count": null,
   "id": "48a64569-7690-499b-ad2b-c48ddf15404c",
   "metadata": {},
   "outputs": [],
   "source": [
    "#해설\n",
    "from collections import deque\n",
    "def solution(board, moves):\n",
    "    \n",
    "    while moves:\n",
    "        move = moves.popleft()\n",
    "        \n",
    "        for i in range(len(board)):\n",
    "            doll = board[i][move-1]\n",
    "\n",
    "            if doll != 0:\n",
    "                board[i][move-1] = 0\n",
    "\n",
    "                if buckets and buckets[-1] == doll:\n",
    "                    buckets.pop()\n",
    "                    cnt += 2\n",
    "                else:\n",
    "                    buckets.append(doll)\n",
    "                break\n",
    "    return answer"
   ]
  },
  {
   "cell_type": "markdown",
   "id": "fbd18734-e10f-4f42-833a-0c7de0b95429",
   "metadata": {},
   "source": [
    "### 백준9012) 괄호"
   ]
  },
  {
   "cell_type": "code",
   "execution_count": 23,
   "id": "e3de577f-0175-467f-b879-29f9b8e886bb",
   "metadata": {},
   "outputs": [
    {
     "name": "stdin",
     "output_type": "stream",
     "text": [
      " 3\n",
      " ()\n"
     ]
    },
    {
     "name": "stdout",
     "output_type": "stream",
     "text": [
      "YES\n"
     ]
    },
    {
     "name": "stdin",
     "output_type": "stream",
     "text": [
      " ()()(\n"
     ]
    },
    {
     "name": "stdout",
     "output_type": "stream",
     "text": [
      "NO\n"
     ]
    },
    {
     "name": "stdin",
     "output_type": "stream",
     "text": [
      " ))))\n"
     ]
    },
    {
     "name": "stdout",
     "output_type": "stream",
     "text": [
      "NO\n"
     ]
    }
   ],
   "source": [
    "#숏코딩\n",
    "for _ in range(int(input())):\n",
    "    b = input()\n",
    "    while '()' in b:\n",
    "        #같은 쌍을 아예 삭제함 \n",
    "        b = b.replace('()','')\n",
    "    print(\"NO\" if b else \"YES\")"
   ]
  },
  {
   "cell_type": "code",
   "execution_count": 22,
   "id": "0145d9d6-6535-4d7a-b88a-25bf8846ffc9",
   "metadata": {
    "tags": []
   },
   "outputs": [
    {
     "name": "stdin",
     "output_type": "stream",
     "text": [
      " 3\n",
      " ()\n"
     ]
    },
    {
     "name": "stdout",
     "output_type": "stream",
     "text": [
      "YES\n"
     ]
    },
    {
     "name": "stdin",
     "output_type": "stream",
     "text": [
      " ((\n"
     ]
    },
    {
     "name": "stdout",
     "output_type": "stream",
     "text": [
      "NO\n"
     ]
    },
    {
     "name": "stdin",
     "output_type": "stream",
     "text": [
      " ))\n"
     ]
    },
    {
     "name": "stdout",
     "output_type": "stream",
     "text": [
      "NO\n"
     ]
    }
   ],
   "source": [
    "a = int(input())\n",
    "\n",
    "for i in range(a):\n",
    "    b = input()\n",
    "    s = list(b)\n",
    "    #변수 초기화 \n",
    "    sum = 0\n",
    "    for i in s:\n",
    "        #여는 괄호가 나오면 \n",
    "        if i == '(':\n",
    "            #+1을 해주고\n",
    "            sum += 1\n",
    "        #닫는 괄호가 나오면 \n",
    "        elif i == ')':\n",
    "            #-1을 해준다 \n",
    "            sum -= 1\n",
    "        #닫는 괄호가 여는 괄호보다 많다면 \n",
    "        if sum < 0:\n",
    "            print('NO')\n",
    "            break\n",
    "    #여는 괄호가 닫는 괄호보다 많다면 \n",
    "    if sum > 0:\n",
    "        print('NO')\n",
    "    #닫는 괄호의 개수 == 여는 괄호의 개수라면 \n",
    "    elif sum == 0:\n",
    "        print('YES')\n"
   ]
  },
  {
   "cell_type": "code",
   "execution_count": 27,
   "id": "52ccff28-cc4f-40f9-b903-4293eb45bd9d",
   "metadata": {
    "collapsed": true,
    "jupyter": {
     "outputs_hidden": true
    },
    "tags": []
   },
   "outputs": [
    {
     "name": "stdin",
     "output_type": "stream",
     "text": [
      " 3\n",
      " ))))(((((\n"
     ]
    },
    {
     "name": "stdout",
     "output_type": "stream",
     "text": [
      "NO\n"
     ]
    },
    {
     "name": "stdin",
     "output_type": "stream",
     "text": [
      " )))(((\n"
     ]
    },
    {
     "name": "stdout",
     "output_type": "stream",
     "text": [
      "YES\n"
     ]
    },
    {
     "ename": "KeyboardInterrupt",
     "evalue": "Interrupted by user",
     "output_type": "error",
     "traceback": [
      "\u001b[1;31m---------------------------------------------------------------------------\u001b[0m",
      "\u001b[1;31mKeyboardInterrupt\u001b[0m                         Traceback (most recent call last)",
      "\u001b[1;32m~\\AppData\\Local\\Temp\\ipykernel_13844\\1618503603.py\u001b[0m in \u001b[0;36m<module>\u001b[1;34m\u001b[0m\n\u001b[0;32m      2\u001b[0m \u001b[0ml\u001b[0m \u001b[1;33m=\u001b[0m \u001b[1;33m[\u001b[0m\u001b[1;33m]\u001b[0m\u001b[1;33m\u001b[0m\u001b[1;33m\u001b[0m\u001b[0m\n\u001b[0;32m      3\u001b[0m \u001b[1;32mfor\u001b[0m \u001b[0mn\u001b[0m \u001b[1;32min\u001b[0m \u001b[0mrange\u001b[0m\u001b[1;33m(\u001b[0m\u001b[0mn\u001b[0m\u001b[1;33m)\u001b[0m\u001b[1;33m:\u001b[0m\u001b[1;33m\u001b[0m\u001b[1;33m\u001b[0m\u001b[0m\n\u001b[1;32m----> 4\u001b[1;33m     \u001b[0mk\u001b[0m \u001b[1;33m=\u001b[0m \u001b[0mlist\u001b[0m\u001b[1;33m(\u001b[0m\u001b[0minput\u001b[0m\u001b[1;33m(\u001b[0m\u001b[1;33m)\u001b[0m\u001b[1;33m)\u001b[0m\u001b[1;33m\u001b[0m\u001b[1;33m\u001b[0m\u001b[0m\n\u001b[0m\u001b[0;32m      5\u001b[0m     \u001b[0mlf\u001b[0m \u001b[1;33m=\u001b[0m \u001b[1;36m0\u001b[0m\u001b[1;33m\u001b[0m\u001b[1;33m\u001b[0m\u001b[0m\n\u001b[0;32m      6\u001b[0m     \u001b[0mri\u001b[0m \u001b[1;33m=\u001b[0m \u001b[1;36m0\u001b[0m\u001b[1;33m\u001b[0m\u001b[1;33m\u001b[0m\u001b[0m\n",
      "\u001b[1;32m~\\anaconda3\\lib\\site-packages\\ipykernel\\kernelbase.py\u001b[0m in \u001b[0;36mraw_input\u001b[1;34m(self, prompt)\u001b[0m\n\u001b[0;32m   1175\u001b[0m                 \u001b[1;34m\"raw_input was called, but this frontend does not support input requests.\"\u001b[0m\u001b[1;33m\u001b[0m\u001b[1;33m\u001b[0m\u001b[0m\n\u001b[0;32m   1176\u001b[0m             )\n\u001b[1;32m-> 1177\u001b[1;33m         return self._input_request(\n\u001b[0m\u001b[0;32m   1178\u001b[0m             \u001b[0mstr\u001b[0m\u001b[1;33m(\u001b[0m\u001b[0mprompt\u001b[0m\u001b[1;33m)\u001b[0m\u001b[1;33m,\u001b[0m\u001b[1;33m\u001b[0m\u001b[1;33m\u001b[0m\u001b[0m\n\u001b[0;32m   1179\u001b[0m             \u001b[0mself\u001b[0m\u001b[1;33m.\u001b[0m\u001b[0m_parent_ident\u001b[0m\u001b[1;33m[\u001b[0m\u001b[1;34m\"shell\"\u001b[0m\u001b[1;33m]\u001b[0m\u001b[1;33m,\u001b[0m\u001b[1;33m\u001b[0m\u001b[1;33m\u001b[0m\u001b[0m\n",
      "\u001b[1;32m~\\anaconda3\\lib\\site-packages\\ipykernel\\kernelbase.py\u001b[0m in \u001b[0;36m_input_request\u001b[1;34m(self, prompt, ident, parent, password)\u001b[0m\n\u001b[0;32m   1217\u001b[0m             \u001b[1;32mexcept\u001b[0m \u001b[0mKeyboardInterrupt\u001b[0m\u001b[1;33m:\u001b[0m\u001b[1;33m\u001b[0m\u001b[1;33m\u001b[0m\u001b[0m\n\u001b[0;32m   1218\u001b[0m                 \u001b[1;31m# re-raise KeyboardInterrupt, to truncate traceback\u001b[0m\u001b[1;33m\u001b[0m\u001b[1;33m\u001b[0m\u001b[0m\n\u001b[1;32m-> 1219\u001b[1;33m                 \u001b[1;32mraise\u001b[0m \u001b[0mKeyboardInterrupt\u001b[0m\u001b[1;33m(\u001b[0m\u001b[1;34m\"Interrupted by user\"\u001b[0m\u001b[1;33m)\u001b[0m \u001b[1;32mfrom\u001b[0m \u001b[1;32mNone\u001b[0m\u001b[1;33m\u001b[0m\u001b[1;33m\u001b[0m\u001b[0m\n\u001b[0m\u001b[0;32m   1220\u001b[0m             \u001b[1;32mexcept\u001b[0m \u001b[0mException\u001b[0m\u001b[1;33m:\u001b[0m\u001b[1;33m\u001b[0m\u001b[1;33m\u001b[0m\u001b[0m\n\u001b[0;32m   1221\u001b[0m                 \u001b[0mself\u001b[0m\u001b[1;33m.\u001b[0m\u001b[0mlog\u001b[0m\u001b[1;33m.\u001b[0m\u001b[0mwarning\u001b[0m\u001b[1;33m(\u001b[0m\u001b[1;34m\"Invalid Message:\"\u001b[0m\u001b[1;33m,\u001b[0m \u001b[0mexc_info\u001b[0m\u001b[1;33m=\u001b[0m\u001b[1;32mTrue\u001b[0m\u001b[1;33m)\u001b[0m\u001b[1;33m\u001b[0m\u001b[1;33m\u001b[0m\u001b[0m\n",
      "\u001b[1;31mKeyboardInterrupt\u001b[0m: Interrupted by user"
     ]
    }
   ],
   "source": [
    "def solution(s):\n",
    "    stack = []\n",
    "    for i in s:\n",
    "        if i == '(':\n",
    "            stack.append(i)\n",
    "        elif:\n",
    "            return False\n",
    "    if len(stack) == 0:\n",
    "        return True\n",
    "    else:\n",
    "        return False\n",
    "n = int(input())\n",
    "\n",
    "for i in range(n):\n",
    "    n = list(input().strip())\n",
    "    a = check_st(n)\n",
    "    if a:\n",
    "        print('YES')\n",
    "    else:\n",
    "        print('NO')"
   ]
  },
  {
   "cell_type": "code",
   "execution_count": 26,
   "id": "4bad137b-8589-45ac-a48f-baf90952edec",
   "metadata": {},
   "outputs": [
    {
     "name": "stdin",
     "output_type": "stream",
     "text": [
      " 3\n",
      " ()\n",
      " ))\n",
      " ()()()\n"
     ]
    },
    {
     "name": "stdout",
     "output_type": "stream",
     "text": [
      "YES\n",
      "NO\n",
      "YES\n"
     ]
    }
   ],
   "source": [
    "n = int(input())\n",
    "box=[]\n",
    "for i in range(n):\n",
    "    s = input()\n",
    "    box.append(s)\n",
    "for i in box:\n",
    "    while '()' in i:\n",
    "        i = i.replace('()','')\n",
    "    if i:\n",
    "        print('NO')\n",
    "    else:\n",
    "        print('YES')"
   ]
  },
  {
   "cell_type": "markdown",
   "id": "96af8a49-a914-45a9-9800-0b00f257e5f7",
   "metadata": {},
   "source": [
    "### 프로그래머스) 프린터"
   ]
  },
  {
   "cell_type": "code",
   "execution_count": null,
   "id": "cd742906-a7f7-466c-bd38-9960d7f480ac",
   "metadata": {},
   "outputs": [],
   "source": [
    "#내가 푼 답\n",
    "from collections import deque\n",
    "def solution(priorities, location):\n",
    "    d = deque(priorities)\n",
    "    answer = 1 #출력 순서\n",
    "    while len(priorities) > 1: #대기열이 두 개 이상일 때      \n",
    "        a= d.popleft()\n",
    "        if a < max(priorities[1:]): #출력x,뒤로 보냄\n",
    "            d.append(a)\n",
    "            if location == 0: #찾을 값의 위치에 오면\n",
    "                location= len(priorities) #맨 뒤로 보내고 위치 저장\n",
    "        elif location == 0: #찾을 값 출력\n",
    "            return answer\n",
    "        else: #출력\n",
    "            answer += 1\n",
    "        location -= 1\n",
    "        priorities = list(d)\n",
    "    return answer"
   ]
  },
  {
   "cell_type": "code",
   "execution_count": null,
   "id": "3e62c84d-95b4-4507-a750-f440ce8dce32",
   "metadata": {},
   "outputs": [],
   "source": [
    "#다른 답\n",
    "def solution(priorities, location):\n",
    "    queue =  [(i,p) for i,p in enumerate(priorities)]\n",
    "    #enumerate: 원소, 인덱스 같이 저장\n",
    "    answer = 0\n",
    "    while True:\n",
    "        cur = queue.pop(0) #popleft와 같음음\n",
    "        if any(cur[1] < q[1] for q in queue): #queue중 하나라도 cur보다 크다면\n",
    "            queue.append(cur)\n",
    "        else:\n",
    "            answer += 1\n",
    "            if cur[0] == location:\n",
    "                return answer\n"
   ]
  },
  {
   "cell_type": "code",
   "execution_count": 3,
   "id": "81cce75c-3e6f-43c5-a213-e3629730475d",
   "metadata": {},
   "outputs": [
    {
     "name": "stdout",
     "output_type": "stream",
     "text": [
      "<enumerate object at 0x0000019B7E511A80>\n"
     ]
    }
   ],
   "source": [
    "a=[1,2]\n",
    "print(enumerate(a))"
   ]
  },
  {
   "cell_type": "code",
   "execution_count": 4,
   "id": "e5c85657-0505-4b06-9833-5f141248833d",
   "metadata": {},
   "outputs": [
    {
     "data": {
      "text/plain": [
       "1"
      ]
     },
     "execution_count": 4,
     "metadata": {},
     "output_type": "execute_result"
    }
   ],
   "source": [
    "a.pop(0)"
   ]
  },
  {
   "cell_type": "code",
   "execution_count": null,
   "id": "c977e80c-cee5-4665-92f8-21cda0ae8fc6",
   "metadata": {},
   "outputs": [],
   "source": []
  }
 ],
 "metadata": {
  "kernelspec": {
   "display_name": "Python 3 (ipykernel)",
   "language": "python",
   "name": "python3"
  },
  "language_info": {
   "codemirror_mode": {
    "name": "ipython",
    "version": 3
   },
   "file_extension": ".py",
   "mimetype": "text/x-python",
   "name": "python",
   "nbconvert_exporter": "python",
   "pygments_lexer": "ipython3",
   "version": "3.9.13"
  }
 },
 "nbformat": 4,
 "nbformat_minor": 5
}
