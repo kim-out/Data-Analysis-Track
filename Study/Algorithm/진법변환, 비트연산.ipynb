{
 "cells": [
  {
   "cell_type": "code",
   "execution_count": 122,
   "id": "20e3330f-8eaf-4915-a780-c905a69af861",
   "metadata": {},
   "outputs": [
    {
     "data": {
      "text/plain": [
       "'0o12'"
      ]
     },
     "execution_count": 122,
     "metadata": {},
     "output_type": "execute_result"
    }
   ],
   "source": [
    "hex(350) #10 -> 16진법\n",
    "bin(10) # 10 -> 2\n",
    "oct(10) # 10 -> 8"
   ]
  },
  {
   "cell_type": "code",
   "execution_count": 2,
   "id": "a6cf30b9-2b8d-4503-84a8-76dc365449d6",
   "metadata": {},
   "outputs": [
    {
     "data": {
      "text/plain": [
       "6"
      ]
     },
     "execution_count": 2,
     "metadata": {},
     "output_type": "execute_result"
    }
   ],
   "source": [
    "int(0b110)"
   ]
  },
  {
   "cell_type": "code",
   "execution_count": null,
   "id": "3ebc37c1-c4d2-4b75-bf59-e8c37f1da62b",
   "metadata": {},
   "outputs": [],
   "source": [
    "#비트연산자 |, &\n",
    "bin(3 | 5) , bin( 3 & 5), bin(3), bin(5)"
   ]
  },
  {
   "cell_type": "code",
   "execution_count": 5,
   "id": "fd7b6193-c38f-477f-94c8-0f854baa9de5",
   "metadata": {},
   "outputs": [
    {
     "data": {
      "text/plain": [
       "-1"
      ]
     },
     "execution_count": 5,
     "metadata": {},
     "output_type": "execute_result"
    }
   ],
   "source": [
    "#^XOR\n",
    "a = True\n",
    "b = True\n",
    "a^b"
   ]
  },
  {
   "cell_type": "code",
   "execution_count": 6,
   "id": "e32a3c22-c4c0-47c9-9c90-4ae3b46efcb0",
   "metadata": {},
   "outputs": [
    {
     "data": {
      "text/plain": [
       "'0b110000'"
      ]
     },
     "execution_count": 6,
     "metadata": {},
     "output_type": "execute_result"
    }
   ],
   "source": [
    "#shift: 비트 이동 연산자\n",
    "bin(0b1100 << 2)"
   ]
  },
  {
   "cell_type": "code",
   "execution_count": 7,
   "id": "a0444c10-dbca-4511-bf20-8a5468281068",
   "metadata": {},
   "outputs": [
    {
     "data": {
      "text/plain": [
       "'0b1'"
      ]
     },
     "execution_count": 7,
     "metadata": {},
     "output_type": "execute_result"
    }
   ],
   "source": [
    "bin(0b11 >> 1)"
   ]
  },
  {
   "cell_type": "markdown",
   "id": "535cf9ce-d976-41e5-b78e-b75f3e1827d7",
   "metadata": {},
   "source": [
    "### 프로그래머스) 비밀지도"
   ]
  },
  {
   "cell_type": "markdown",
   "id": "96afd260-7b8a-4a02-8de7-641d3099d1c2",
   "metadata": {},
   "source": [
    "이진수로 변경 - > \n",
    "둘중 하나라도 벽이면 전체도 벽\n",
    "모두 공백이면 전체도 공백\n",
    "#과 공백의 문자열로 출력"
   ]
  },
  {
   "cell_type": "code",
   "execution_count": 28,
   "id": "723ca9fe-f7a8-416c-9dd3-75fbe60a353a",
   "metadata": {},
   "outputs": [
    {
     "data": {
      "text/plain": [
       "('0b111', '0b1', '0b11', '0b101')"
      ]
     },
     "execution_count": 28,
     "metadata": {},
     "output_type": "execute_result"
    }
   ],
   "source": [
    "n = 5\n",
    "arr1 = \t[0, 20, 28, 18, 11]\n",
    "arr2 = [1, 1, 21, 17, 28]\n"
   ]
  },
  {
   "cell_type": "code",
   "execution_count": 12,
   "id": "55fa77ab-956d-46f6-b289-ba508a4cdfca",
   "metadata": {},
   "outputs": [],
   "source": [
    "def solution(n, arr1, arr2):\n",
    "    arr1 = [bin(i).replace('0b','') for i in arr1]\n",
    "    arr2 = [bin(i).replace('0b','') for i in arr2]\n",
    "\n",
    "    for i in range(n):\n",
    "        if len(arr1[i]) < n:\n",
    "            arr1[i] = '0' * (n-len(arr1[i])) + arr1[i]\n",
    "        if len(arr2[i]) < n:\n",
    "            arr2[i] = '0' * (n-len(arr2[i])) + arr2[i]\n",
    "\n",
    "    arr1 = [list(i) for i in arr1]\n",
    "    arr2 = [list(i) for i in arr2]\n",
    "\n",
    "    maps = [[' '] * n for i in range(n)]\n",
    "\n",
    "    for i in range(n):\n",
    "        for j in range(n):\n",
    "            if arr1[i][j] == '1' or arr2[i][j] == '1':\n",
    "                maps[i][j] = '#'\n",
    "    answer = []\n",
    "\n",
    "    for i in maps:\n",
    "        r=''\n",
    "        for j in range(n):\n",
    "            r += i[j]\n",
    "        answer.append(r)\n",
    "\n",
    "    return answer"
   ]
  },
  {
   "cell_type": "code",
   "execution_count": 23,
   "id": "064df9b5-d084-471b-ae1c-0fe767522a7d",
   "metadata": {},
   "outputs": [
    {
     "data": {
      "text/plain": [
       "['#    ', '# # #', '### #', '#  ##', '#####']"
      ]
     },
     "execution_count": 23,
     "metadata": {},
     "output_type": "execute_result"
    }
   ],
   "source": [
    "answer = []\n",
    "for i in range(n):\n",
    "    final_line = (bin(arr1[i] | arr2[i]).replace('0b',''))\n",
    "    final_line = (final_line + '0' * (n - len(final_line))).replace('1','#').replace('0',' ')\n",
    "    answer.append(final_line)\n",
    "answer"
   ]
  },
  {
   "cell_type": "code",
   "execution_count": null,
   "id": "683abc9e-5e48-4f83-9fa2-efc2df6fd424",
   "metadata": {},
   "outputs": [],
   "source": [
    "def solution(n, arr1, arr2):\n",
    "    answer = []\n",
    "    for i,j in zip(arr1,arr2):\n",
    "        a12 = str(bin(i|j)[2:])\n",
    "        a12=a12.rjust(n,'0') #rjust(만들 문자열 길이, 채울 값)\n",
    "        a12=a12.replace('1','#')\n",
    "        a12=a12.replace('0',' ')\n",
    "        answer.append(a12)\n",
    "    return answer"
   ]
  }
 ],
 "metadata": {
  "kernelspec": {
   "display_name": "Python 3 (ipykernel)",
   "language": "python",
   "name": "python3"
  },
  "language_info": {
   "codemirror_mode": {
    "name": "ipython",
    "version": 3
   },
   "file_extension": ".py",
   "mimetype": "text/x-python",
   "name": "python",
   "nbconvert_exporter": "python",
   "pygments_lexer": "ipython3",
   "version": "3.9.13"
  }
 },
 "nbformat": 4,
 "nbformat_minor": 5
}
