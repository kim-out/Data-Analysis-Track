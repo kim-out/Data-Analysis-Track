{
 "cells": [
  {
   "cell_type": "code",
   "execution_count": 1,
   "id": "d0e2e994-620f-4abd-b584-a764e61f4725",
   "metadata": {},
   "outputs": [
    {
     "name": "stdout",
     "output_type": "stream",
     "text": [
      "\"안녕?\"이라는 그 인사를 듣고 나는 '누구지?'라고 생각했다.\n"
     ]
    }
   ],
   "source": [
    "print(\"\\\"안녕?\\\"이라는 그 인사를 듣고 나는 \\'누구지?\\'라고 생각했다.\")"
   ]
  },
  {
   "cell_type": "code",
   "execution_count": 2,
   "id": "636e7ef2-8759-4e1f-8b0a-b313cfa53840",
   "metadata": {},
   "outputs": [
    {
     "name": "stdout",
     "output_type": "stream",
     "text": [
      "c:\\name\n",
      "c:\\name\n"
     ]
    }
   ],
   "source": [
    "# \\n을 그대로 출력해야 하는 경우\n",
    "s1 = r'c:\\name'\n",
    "s2 = 'c:\\\\name'\n",
    "print(s1)\n",
    "print(s2)"
   ]
  },
  {
   "cell_type": "code",
   "execution_count": 3,
   "id": "f57fdf88-2c1b-419a-a0cb-70f77193de5a",
   "metadata": {},
   "outputs": [
    {
     "name": "stdout",
     "output_type": "stream",
     "text": [
      "안녕하세요.\n",
      "나는 파이썬을 공부하고 있습니다.\n",
      "반갑습니다.\n"
     ]
    }
   ],
   "source": [
    "# 역 슬래시 사용하여 줄바꿈 방지\n",
    "s3 = \"\"\"\\\n",
    "안녕하세요.\n",
    "나는 파이썬을 공부하고 있습니다.\n",
    "반갑습니다.\\\n",
    "\"\"\"\n",
    "print(s3)"
   ]
  },
  {
   "cell_type": "code",
   "execution_count": 4,
   "id": "40f5c28f-17da-4794-b187-76b2b980467d",
   "metadata": {},
   "outputs": [
    {
     "name": "stdout",
     "output_type": "stream",
     "text": [
      "\"안녕하세요\"\n",
      "나는 파이썬을 공부하고 있습니다.\n",
      "반갑습니다.\n"
     ]
    }
   ],
   "source": [
    "#삼중 따옴표 안에는 \" 그냥 사용 가능\n",
    "s4 = \"\"\"\\\n",
    "\"안녕하세요\"\n",
    "나는 파이썬을 공부하고 있습니다.\n",
    "반갑습니다.\\\n",
    "\"\"\"\n",
    "print(s4)"
   ]
  },
  {
   "cell_type": "code",
   "execution_count": 5,
   "id": "29d63f00-574c-4cba-a1c0-36e4fb06e8db",
   "metadata": {},
   "outputs": [
    {
     "name": "stdout",
     "output_type": "stream",
     "text": [
      "너무 너무 너무 너무 너무 너무 너무 너무 너무 너무 너무 너무 너무 너무 너무 너무 너무 너무 너무 너무 너무 너무 너무 너무 너무 너무 너무 너무 너무 너무 너무 너무 너무 너무 너무 너무 너무 너무 너무 너무 너무 너무 너무 너무 너무 너무 너무 너무 너무 너무 너무 너무 너무 너무 너무 너무 너무 너무 너무 너무 너무 너무 너무 너무 너무 너무 너무 너무 너무 너무 너무 너무 너무 너무 너무 너무 너무 너무 너무 너무 너무 너무 너무 너무 너무 너무 너무 너무 너무 너무 너무 너무 너무 너무 너무 너무 너무 너무 너무 너무 파이썬 공부가 즐겁습니다.\n"
     ]
    }
   ],
   "source": [
    "s = \"너무 \"*100 + \"파이썬 공부가 즐겁습니다.\"\n",
    "print(s)"
   ]
  },
  {
   "cell_type": "code",
   "execution_count": 6,
   "id": "524768b4-183d-4a31-ac12-7ae7d10f80ab",
   "metadata": {},
   "outputs": [
    {
     "name": "stdout",
     "output_type": "stream",
     "text": [
      "p\n",
      "n\n",
      "n\n",
      "p\n"
     ]
    }
   ],
   "source": [
    "word = 'python'\n",
    "#인덱스는 0부터 시작된다.\n",
    "print(word[0])\n",
    "print(word[5])\n",
    "#음수는 뒤에서부터 센다.\n",
    "print(word[-1])\n",
    "print(word[-6])\n",
    "#범위를 넘는 경우 IndexError발생"
   ]
  },
  {
   "cell_type": "code",
   "execution_count": 7,
   "id": "02d16547-0554-4223-a61d-7f6bfd468efe",
   "metadata": {},
   "outputs": [
    {
     "name": "stdout",
     "output_type": "stream",
     "text": [
      "꺾\n"
     ]
    }
   ],
   "source": [
    "sentence = \"중요한 것은 꺾이지 않는 마음\"\n",
    "print(sentence[7])"
   ]
  },
  {
   "cell_type": "code",
   "execution_count": 8,
   "id": "6fd0e75c-2ade-48a5-ac7c-59ec5af4f1dd",
   "metadata": {},
   "outputs": [
    {
     "name": "stdout",
     "output_type": "stream",
     "text": [
      "pto\n"
     ]
    }
   ],
   "source": [
    "#문자열 슬라이싱\n",
    "#[시작 숫자(이상):끝 숫자(미만):증감 크기]\n",
    "print(word[::2]) # 0, 2, 4"
   ]
  },
  {
   "cell_type": "code",
   "execution_count": 9,
   "id": "acff47b6-e2e9-4ed8-b9dc-afc765e6b5e8",
   "metadata": {
    "tags": []
   },
   "outputs": [
    {
     "name": "stdout",
     "output_type": "stream",
     "text": [
      "\n",
      "한 것은 꺾이지 않는 마음\n"
     ]
    }
   ],
   "source": [
    "sentence = \"중요한 것은 꺾이지 않는 마음\"\n",
    "print(sentence[42:])\n",
    "print(sentence[2:42])"
   ]
  },
  {
   "cell_type": "code",
   "execution_count": 10,
   "id": "e36d41f9-3d36-4235-beac-b4afaff95866",
   "metadata": {},
   "outputs": [
    {
     "name": "stdout",
     "output_type": "stream",
     "text": [
      "꺾이지 않는 마음\n"
     ]
    }
   ],
   "source": [
    "print(sentence[7:])"
   ]
  },
  {
   "cell_type": "code",
   "execution_count": 11,
   "id": "c2a47747-6f8e-4533-b0a3-1ebc362e6ded",
   "metadata": {},
   "outputs": [
    {
     "name": "stdout",
     "output_type": "stream",
     "text": [
      "한요중\n"
     ]
    }
   ],
   "source": [
    "print(sentence[2::-1])"
   ]
  },
  {
   "cell_type": "code",
   "execution_count": 12,
   "id": "67bcc634-7f2f-4f9c-97ee-5ee04f8400ad",
   "metadata": {},
   "outputs": [
    {
     "name": "stdout",
     "output_type": "stream",
     "text": [
      "대단한 것은 꺾이지 않는 마음\n"
     ]
    }
   ],
   "source": [
    "# 문자열은 불변(immutable)함, 인덱스로 접근하여 값 할당 불가\n",
    "# 문자열을 변경해야 하는 경우 새로운 문자열 리터럴을 만들어 변수에 다시 할당\n",
    "sentence = \"대단한\" + sentence[3:]\n",
    "print(sentence)"
   ]
  },
  {
   "cell_type": "code",
   "execution_count": 13,
   "id": "edb0c0c2-fc19-4434-bff2-f4e6ad25c3ef",
   "metadata": {},
   "outputs": [
    {
     "name": "stdout",
     "output_type": "stream",
     "text": [
      "재밋어요재밋어요재밋어요재밋어요재밋어요재밋어요재밋어요재밋어요재밋어요재밋어요\n",
      "40\n"
     ]
    }
   ],
   "source": [
    "s7 = \"재밋어요\" * 10\n",
    "print(s7)\n",
    "print(len(s7))"
   ]
  },
  {
   "cell_type": "code",
   "execution_count": 14,
   "id": "156147e5-3376-448c-9740-d9a943a2191d",
   "metadata": {},
   "outputs": [
    {
     "name": "stdout",
     "output_type": "stream",
     "text": [
      "[1, 4, 9, 16, 25]\n",
      "<class 'list'>\n"
     ]
    }
   ],
   "source": [
    "# 리스트 : 서로 다른 형의 항목 포함 가능, 가변(mutable)의 특성을 가짐\n",
    "squares = [1**2,2**2,3**2,4**2,5**2]\n",
    "print(squares)\n",
    "print(type(squares))"
   ]
  },
  {
   "cell_type": "code",
   "execution_count": 15,
   "id": "2e3b7fd5-e217-404c-b236-c71afefad2cc",
   "metadata": {},
   "outputs": [
    {
     "name": "stdout",
     "output_type": "stream",
     "text": [
      "1\n",
      "25\n"
     ]
    }
   ],
   "source": [
    "print(squares[0])\n",
    "print(squares[-1])"
   ]
  },
  {
   "cell_type": "code",
   "execution_count": 16,
   "id": "952efa43-1937-4845-bf4e-d03bf2337e50",
   "metadata": {},
   "outputs": [
    {
     "name": "stdout",
     "output_type": "stream",
     "text": [
      "[1, 4, 9, 16, 25, 36, 49, 64, 81]\n",
      "[1, 4, 9, 16, 25, 1, 4, 9, 16, 25, 1, 4, 9, 16, 25]\n"
     ]
    }
   ],
   "source": [
    "# 리스트는 덧셈 연산자로 합칠 수 있음\n",
    "# 곱셈 연산자로 반복할 수 있음\n",
    "print(squares+[36,49,64,81])\n",
    "print(squares*3)"
   ]
  },
  {
   "cell_type": "code",
   "execution_count": 17,
   "id": "419c1d4b-526c-4c11-97a7-ed395f1e9e00",
   "metadata": {},
   "outputs": [
    {
     "name": "stdout",
     "output_type": "stream",
     "text": [
      "[1, 8, 27, 64, 125]\n",
      "['A', 'B', 'C', 'D', 'E']\n",
      "5\n"
     ]
    }
   ],
   "source": [
    "# 리스트는 가변이므로 인덱싱, 슬라이싱을 통해 값 수정 가능\n",
    "cubes = [1,8, 27, 65,125]\n",
    "cubes[3] = 4**3\n",
    "print(cubes)\n",
    "letters = ['A', 'B','F']\n",
    "letters[2:] = ['C','D','E']\n",
    "print(letters)\n",
    "print(len(letters))"
   ]
  },
  {
   "cell_type": "code",
   "execution_count": 18,
   "id": "2f8c54c4-23f3-4c3e-ae32-ebb11889eb13",
   "metadata": {},
   "outputs": [
    {
     "name": "stdout",
     "output_type": "stream",
     "text": [
      "[['a', 'b', 'c'], [1, 2, 3]]\n"
     ]
    }
   ],
   "source": [
    "a = ['a','b','c']\n",
    "n=[1,2,3]\n",
    "x=[a,n]\n",
    "print(x)"
   ]
  },
  {
   "cell_type": "code",
   "execution_count": 19,
   "id": "e17afcc5-533a-45ec-9abe-8784bf2da97c",
   "metadata": {},
   "outputs": [
    {
     "name": "stdout",
     "output_type": "stream",
     "text": [
      "['a', 'b', 'c']\n"
     ]
    }
   ],
   "source": [
    "print(x[0])"
   ]
  },
  {
   "cell_type": "code",
   "execution_count": 20,
   "id": "6d1c1fa4-3e7f-476c-b0cb-a27481c3b149",
   "metadata": {},
   "outputs": [
    {
     "name": "stdout",
     "output_type": "stream",
     "text": [
      "b\n"
     ]
    }
   ],
   "source": [
    "print(x[0][1])"
   ]
  },
  {
   "cell_type": "code",
   "execution_count": 21,
   "id": "7dd67e6c-61af-4c91-a582-2a996847a4a7",
   "metadata": {},
   "outputs": [
    {
     "name": "stdout",
     "output_type": "stream",
     "text": [
      "True\n",
      "False\n"
     ]
    }
   ],
   "source": [
    "numbers = [1,2,3,4,5,6,7]\n",
    "print(5 in numbers)\n",
    "print(10 in numbers)\n"
   ]
  },
  {
   "cell_type": "code",
   "execution_count": 22,
   "id": "0015f656-8e15-42ca-aa6f-4b94777a5f10",
   "metadata": {},
   "outputs": [
    {
     "data": {
      "text/plain": [
       "False"
      ]
     },
     "execution_count": 22,
     "metadata": {},
     "output_type": "execute_result"
    }
   ],
   "source": [
    "scores = [88, 73, 89, 59, 77]\n",
    "(scores[0]>=60)and(scores[1]>=60)and(scores[2]>=60)and(scores[3]>=60)and(scores[4]>=60)"
   ]
  },
  {
   "cell_type": "code",
   "execution_count": 23,
   "id": "03d4a41b-40c9-4dae-a927-3cd5a8e21620",
   "metadata": {},
   "outputs": [
    {
     "data": {
      "text/plain": [
       "[88, 73, 89, 59, 77, 4]"
      ]
     },
     "execution_count": 23,
     "metadata": {},
     "output_type": "execute_result"
    }
   ],
   "source": [
    "scores.append(4) # 리스트 마지막에 요소 추가\n",
    "scores"
   ]
  },
  {
   "cell_type": "code",
   "execution_count": 24,
   "id": "856554be-2796-4f01-b100-3cf6b6e5053a",
   "metadata": {},
   "outputs": [
    {
     "name": "stdout",
     "output_type": "stream",
     "text": [
      "[0, 1, 2, 3, 0, 4, 5, 6, 7, 8, 0]\n"
     ]
    }
   ],
   "source": [
    "# 리스트.insert(인덱스, 요소) -> 인덱스 앞에 요소 추가\n",
    "numbers=[1,2,3,4,5,6,7,8]\n",
    "numbers.insert(0,0)\n",
    "numbers.insert(4,0)\n",
    "numbers.insert(len(numbers),0)\n",
    "print(numbers)"
   ]
  },
  {
   "cell_type": "code",
   "execution_count": 25,
   "id": "532b25a7-648b-4e70-b50e-aab938ec830f",
   "metadata": {},
   "outputs": [
    {
     "name": "stdout",
     "output_type": "stream",
     "text": [
      "[0, 1, 2, 3, 0, 4, 5, 6, 7, 8, 0, 2, 3, 4]\n"
     ]
    }
   ],
   "source": [
    "# 리스트1.extend(리스트2) 리스트1의 뒤에 리스트2을 연결, 리스트 덧셈과 결과가 같음\n",
    "numbers.extend([2,3,4])\n",
    "print(numbers)"
   ]
  },
  {
   "cell_type": "code",
   "execution_count": 26,
   "id": "98d06a4a-de0e-487f-a6d4-f5ca3d232ebe",
   "metadata": {},
   "outputs": [
    {
     "data": {
      "text/plain": [
       "[1, 2, 3, 0, 4, 5, 6, 7, 8, 0, 2, 3, 4]"
      ]
     },
     "execution_count": 26,
     "metadata": {},
     "output_type": "execute_result"
    }
   ],
   "source": [
    "# 리스트.remove(요소) -> 리스트 내 인자와 동일한 요소 제거, 제일 앞의 요소 하나만.\n",
    "numbers.remove(0)\n",
    "numbers"
   ]
  },
  {
   "cell_type": "code",
   "execution_count": 27,
   "id": "26e45996-05a8-4598-b647-8b04e58c0473",
   "metadata": {},
   "outputs": [
    {
     "name": "stdout",
     "output_type": "stream",
     "text": [
      "2\n",
      "[1, 3, 0, 4, 5, 6, 7, 8, 0, 2, 3, 4]\n"
     ]
    }
   ],
   "source": [
    "#리스트.pop() -> 리스트 제일 마지막 요소를 제거 후 반환, 인덱스 전달도 가능\n",
    "print(numbers.pop(1))\n",
    "print(numbers)"
   ]
  },
  {
   "cell_type": "code",
   "execution_count": 28,
   "id": "b49f6752-59f7-4739-bf31-867c5e24cb6c",
   "metadata": {},
   "outputs": [
    {
     "data": {
      "text/plain": [
       "2"
      ]
     },
     "execution_count": 28,
     "metadata": {},
     "output_type": "execute_result"
    }
   ],
   "source": [
    "#리스트.index(요소) -> 요소의 위치\n",
    "numbers.index(0)"
   ]
  },
  {
   "cell_type": "code",
   "execution_count": 29,
   "id": "818703e3-4a3c-4841-b0c6-666bf528af8d",
   "metadata": {},
   "outputs": [
    {
     "data": {
      "text/plain": [
       "2"
      ]
     },
     "execution_count": 29,
     "metadata": {},
     "output_type": "execute_result"
    }
   ],
   "source": [
    "# 리스트.count(요소) -> 요소 개수\n",
    "numbers.count(0)"
   ]
  },
  {
   "cell_type": "code",
   "execution_count": 30,
   "id": "8b9d5130-37a0-4587-ada6-8ecbdf71a1a1",
   "metadata": {},
   "outputs": [
    {
     "name": "stdout",
     "output_type": "stream",
     "text": [
      "[1, 3, 0, 4, 5, 6, 7, 8, 0, 2, 3, 4]\n"
     ]
    }
   ],
   "source": [
    "#리스트.sort() -> 오름차순 정렬\n",
    "numbers.sort\n",
    "print(numbers)"
   ]
  },
  {
   "cell_type": "code",
   "execution_count": 31,
   "id": "0bec4f43-b528-4efa-bf49-7a3a5e9330ee",
   "metadata": {},
   "outputs": [
    {
     "name": "stdout",
     "output_type": "stream",
     "text": [
      "[0, 0, 1, 2, 3, 3, 4, 4, 5, 6, 7, 8]\n"
     ]
    }
   ],
   "source": [
    "#sorted(정렬할 리스트)\n",
    "print(sorted(numbers))"
   ]
  },
  {
   "cell_type": "code",
   "execution_count": 32,
   "id": "88a208e2-8e1c-4876-aa61-942b73759e83",
   "metadata": {},
   "outputs": [
    {
     "name": "stdout",
     "output_type": "stream",
     "text": [
      "[4, 3, 2, 0, 8, 7, 6, 5, 4, 0, 3, 1]\n"
     ]
    }
   ],
   "source": [
    "#리스트.reverse() -> 요소를 반대 방향으로 재정렬 = [::-1]\n",
    "numbers.reverse()\n",
    "print(numbers)"
   ]
  },
  {
   "cell_type": "code",
   "execution_count": 33,
   "id": "88a6588e-27f8-4a62-b6ee-cb4fbe40e743",
   "metadata": {},
   "outputs": [
    {
     "data": {
      "text/plain": [
       "[]"
      ]
     },
     "execution_count": 33,
     "metadata": {},
     "output_type": "execute_result"
    }
   ],
   "source": [
    "numbers.clear()\n",
    "numbers"
   ]
  },
  {
   "cell_type": "code",
   "execution_count": 34,
   "id": "44a189ce-fe9e-499b-a474-daa2dea64fc0",
   "metadata": {},
   "outputs": [
    {
     "name": "stdout",
     "output_type": "stream",
     "text": [
      "('음', '오', '아', '예')\n",
      "<class 'tuple'>\n"
     ]
    }
   ],
   "source": [
    "# 튜플 : 리스트와 거의 같으나 immutable(수정,삭제 불가), 처리 속도 빠름\n",
    "# 튜플은 소괄호 생략 가능(함수의 return에 이용하는 경우)\n",
    "t = '음','오','아','예'\n",
    "print(t)\n",
    "print(type(t))"
   ]
  },
  {
   "cell_type": "code",
   "execution_count": 35,
   "id": "353a180b-5a9d-467b-af6a-9dc103a97ae0",
   "metadata": {},
   "outputs": [
    {
     "name": "stdout",
     "output_type": "stream",
     "text": [
      "0.19773530960083008\n"
     ]
    }
   ],
   "source": [
    "# 리스트는 범용적, 튜플은 효율\n",
    "import time\n",
    "start_time = time.time()\n",
    "test = []\n",
    "\n",
    "#100만번 반복하여 튜플 생성\n",
    "for _ in range(1_000_000):\n",
    "    tp = (_,_) # 튜플\n",
    "    test.append(tp)\n",
    "\n",
    "#끝나는 시간-시작한 시간\n",
    "print(time.time() - start_time)\n",
    "#동작한 시간"
   ]
  },
  {
   "cell_type": "code",
   "execution_count": 36,
   "id": "00369846-1aca-4fba-ae63-2cf20d11d299",
   "metadata": {},
   "outputs": [
    {
     "name": "stdout",
     "output_type": "stream",
     "text": [
      "0.5877737998962402\n"
     ]
    }
   ],
   "source": [
    "import time\n",
    "start_time = time.time()\n",
    "test = []\n",
    "\n",
    "for _ in range(1_000_000):\n",
    "    tp = [_,_] #리스트\n",
    "    test.append(tp)\n",
    "    \n",
    "print(time.time() - start_time)"
   ]
  },
  {
   "cell_type": "code",
   "execution_count": 37,
   "id": "b55dbb83-3e2d-420b-ac78-797c0ee1d6b0",
   "metadata": {},
   "outputs": [
    {
     "name": "stdout",
     "output_type": "stream",
     "text": [
      "text1\n",
      "text2\n"
     ]
    }
   ],
   "source": [
    "#변수 여럿 동시 할당(Unpacking)\n",
    "s1,s2=\"text1\",\"text2\"\n",
    "print(s1)\n",
    "print(s2)\n"
   ]
  },
  {
   "cell_type": "code",
   "execution_count": 38,
   "id": "a96b3a24-ca8e-4bb0-aff0-94300b983b7c",
   "metadata": {},
   "outputs": [
    {
     "name": "stdout",
     "output_type": "stream",
     "text": [
      "이렇게 리스트도 가능합니다.\n"
     ]
    }
   ],
   "source": [
    "s3,s4,s5=[\"이렇게\",\"리스트도\",\"가능합니다.\"]\n",
    "print(s3,s4,s5)"
   ]
  },
  {
   "cell_type": "code",
   "execution_count": 39,
   "id": "f4b13812-0f0c-4538-ab0a-81a229f39b22",
   "metadata": {},
   "outputs": [
    {
     "name": "stdout",
     "output_type": "stream",
     "text": [
      "문 자 열 도\n"
     ]
    }
   ],
   "source": [
    "s6,s7,s8,s9 = \"문자열도\"\n",
    "print(s6,s7,s8,s9)"
   ]
  },
  {
   "cell_type": "code",
   "execution_count": 40,
   "id": "d46b02ef-ac23-44e3-957a-d3d262af8c82",
   "metadata": {},
   "outputs": [
    {
     "name": "stdin",
     "output_type": "stream",
     "text": [
      "Message 1111\n"
     ]
    }
   ],
   "source": [
    "input_value = input(\"Message\") #\"Message\" -> 함수의 argument"
   ]
  },
  {
   "cell_type": "code",
   "execution_count": 41,
   "id": "de85fd57-fe77-4f0c-bb03-1dad6612bba6",
   "metadata": {},
   "outputs": [
    {
     "name": "stdout",
     "output_type": "stream",
     "text": [
      "input_value: 1111 \n",
      "type: <class 'str'>\n"
     ]
    }
   ],
   "source": [
    "print(\"input_value:\",input_value,\"\\ntype:\",type(input_value))\n"
   ]
  },
  {
   "cell_type": "code",
   "execution_count": 42,
   "id": "bf60c337-cbce-4d49-8cbf-c4978725c5fb",
   "metadata": {},
   "outputs": [
    {
     "name": "stdin",
     "output_type": "stream",
     "text": [
      "정수를 입력해주세요: 1111\n"
     ]
    },
    {
     "name": "stdout",
     "output_type": "stream",
     "text": [
      "1111\n"
     ]
    }
   ],
   "source": [
    "input_value2=int(input(\"정수를 입력해주세요:\")) #가장 내부의 소괄호 먼저 실행\n",
    "#실행 시 사용자가 입력하고 enter칠 때까지 대기\n",
    "print(input_value2)"
   ]
  },
  {
   "cell_type": "code",
   "execution_count": 43,
   "id": "e5b467cf-d962-4007-8525-7af9b489811d",
   "metadata": {},
   "outputs": [
    {
     "name": "stdin",
     "output_type": "stream",
     "text": [
      "이름을 입력하시오: 11\n"
     ]
    },
    {
     "name": "stdout",
     "output_type": "stream",
     "text": [
      "11 씨, 안녕하세요?\n",
      "파이썬에 오신 것을 환영합니다.\n"
     ]
    },
    {
     "name": "stdin",
     "output_type": "stream",
     "text": [
      "첫 번째 정수를 입력하세요: 111\n",
      "두 번째 정수를 입력하세요: 111\n"
     ]
    },
    {
     "name": "stdout",
     "output_type": "stream",
     "text": [
      "111 과 111 의 합은 222 입니다.\n"
     ]
    }
   ],
   "source": [
    "#예약어를 변수명에 사용할 경우 에러, 주피터 사용 시 셀 지우고 되돌리기 해야함\n",
    "name=input(\"이름을 입력하시오:\")\n",
    "print(name,\"씨, 안녕하세요?\")\n",
    "print(\"파이썬에 오신 것을 환영합니다.\")\n",
    "n1=int(input(\"첫 번째 정수를 입력하세요:\"))\n",
    "n2=int(input(\"두 번째 정수를 입력하세요:\"))\n",
    "print(n1, \"과\",n2,\"의 합은\",n1+n2,\"입니다.\")"
   ]
  },
  {
   "cell_type": "code",
   "execution_count": 55,
   "id": "2782bee9-badd-4c58-9da4-3d25d85c4b70",
   "metadata": {},
   "outputs": [
    {
     "name": "stdin",
     "output_type": "stream",
     "text": [
      "경기장은 어디입니까? a\n",
      "이긴 팀은 어디입니까? b\n",
      "진 팀은 어디입니까? c\n",
      "우수 선수는 누구입니까? g\n",
      "스코어는 몇대몇입니까? 123\n"
     ]
    },
    {
     "name": "stdout",
     "output_type": "stream",
     "text": [
      "[속보] b 가 123 로 승리...\n",
      "오늘 a 경기장에서 야구 경기가 있었습니다.\n",
      "b 과 c 는 치열한 공방전을 펼쳤습니다.\n",
      "이 경기에서 g 가 맹활약을 했습니다.\n",
      "그 끝내 b 가 c 를 123 로 승리하였습니다.\n",
      "기사 끝\n",
      "\n",
      "[속보]b가 123로 승리...\n",
      "오늘 a 경기장에서 야구 경기가 있었습니다.\n",
      "b과 c는 치열한 공방전을 펼쳤습니다.\n",
      "이 경기에서 g가 맹활약을 했습니다.\n",
      "그 끝내 b가 c를 123로 승리하였습니다.\n",
      "기사 끝.\n",
      "\n"
     ]
    }
   ],
   "source": [
    "ground=input(\"경기장은 어디입니까?\")\n",
    "win=input(\"이긴 팀은 어디입니까?\")\n",
    "lose=input(\"진 팀은 어디입니까?\")\n",
    "player=input(\"우수 선수는 누구입니까?\")\n",
    "score=input(\"스코어는 몇대몇입니까?\")\n",
    "\n",
    "print(\"[속보]\",win,\"가\",score,\"로 승리...\")\n",
    "print(\"오늘\",ground,\"경기장에서 야구 경기가 있었습니다.\")\n",
    "print(win,\"과\",lose,\"는 치열한 공방전을 펼쳤습니다.\")\n",
    "print(\"이 경기에서\",player,\"가 맹활약을 했습니다.\")\n",
    "print(\"그 끝내\",win,\"가\",lose,\"를\",score,\"로 승리하였습니다.\")\n",
    "print(\"기사 끝\",sep='')\n",
    "\n",
    "a= f\"\"\"\n",
    "[속보]{win}가 {score}로 승리...\n",
    "오늘 {ground} 경기장에서 야구 경기가 있었습니다.\n",
    "{win}과 {lose}는 치열한 공방전을 펼쳤습니다.\n",
    "이 경기에서 {player}가 맹활약을 했습니다.\n",
    "그 끝내 {win}가 {lose}를 {score}로 승리하였습니다.\n",
    "기사 끝.\n",
    "\"\"\"\n",
    "print(a)"
   ]
  },
  {
   "cell_type": "code",
   "execution_count": 48,
   "id": "63360d4c-6117-4468-9855-c4fa9e575dbe",
   "metadata": {},
   "outputs": [
    {
     "name": "stdout",
     "output_type": "stream",
     "text": [
      "<class 'list'>\n",
      "['1', '2', '3']\n"
     ]
    }
   ],
   "source": [
    "result = '1,2,3'.split(',')\n",
    "print(type(result))\n",
    "print(result)"
   ]
  },
  {
   "cell_type": "code",
   "execution_count": 51,
   "id": "e10db2e0-68c6-49be-99ce-b49ab6f47c57",
   "metadata": {},
   "outputs": [
    {
     "name": "stdin",
     "output_type": "stream",
     "text": [
      "hh:mm:ss 의 형태로 시간을 입력해주세요 11:22:33\n"
     ]
    },
    {
     "name": "stdout",
     "output_type": "stream",
     "text": [
      "시: 11\n",
      "분: 22\n",
      "초: 33\n"
     ]
    }
   ],
   "source": [
    "h,m,s=input(\"hh:mm:ss 의 형태로 시간을 입력해주세요\").split(':')\n",
    "print(\"시:\",h)\n",
    "print(\"분:\",m)\n",
    "print(\"초:\",s)"
   ]
  },
  {
   "cell_type": "code",
   "execution_count": 58,
   "id": "16dc48ad-d2ea-47d7-af85-58a2d2eb22f7",
   "metadata": {},
   "outputs": [
    {
     "name": "stdout",
     "output_type": "stream",
     "text": [
      "(1, 2, 3, 4)\n"
     ]
    }
   ],
   "source": [
    "# map(function,iterable) iterable객체(시퀀스 자료형=문자열,리스트,튜플)에서 요소를 하나씩 꺼내 함수 적용\n",
    "a=[1.2,2.5,3.7,4.6]\n",
    "a=tuple(map(int,a))\n",
    "print(a)"
   ]
  },
  {
   "cell_type": "code",
   "execution_count": 65,
   "id": "4c000b69-0267-4297-8687-2f290c0f21a3",
   "metadata": {},
   "outputs": [
    {
     "name": "stdin",
     "output_type": "stream",
     "text": [
      "국어, 영어, 수학, 과학 점수를 입력해주세요 2,3,4,5\n"
     ]
    },
    {
     "name": "stdout",
     "output_type": "stream",
     "text": [
      "평균 점수는 3.5 점입니다.\n"
     ]
    }
   ],
   "source": [
    "score=[kor,eng,mat,sci]\n",
    "kor,eng,mat,sci=map(int,input(\"국어, 영어, 수학, 과학 점수를 입력해주세요\").split(','))\n",
    "print(\"평균 점수는\",(kor+eng+mat+sci)/len(score),\"점입니다.\")"
   ]
  },
  {
   "cell_type": "code",
   "execution_count": null,
   "id": "870968bd-5ef2-4ade-993d-ef4fb888e268",
   "metadata": {},
   "outputs": [],
   "source": []
  }
 ],
 "metadata": {
  "kernelspec": {
   "display_name": "Python 3 (ipykernel)",
   "language": "python",
   "name": "python3"
  },
  "language_info": {
   "codemirror_mode": {
    "name": "ipython",
    "version": 3
   },
   "file_extension": ".py",
   "mimetype": "text/x-python",
   "name": "python",
   "nbconvert_exporter": "python",
   "pygments_lexer": "ipython3",
   "version": "3.9.13"
  }
 },
 "nbformat": 4,
 "nbformat_minor": 5
}
